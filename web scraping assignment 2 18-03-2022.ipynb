{
 "cells": [
  {
   "cell_type": "code",
   "execution_count": 1,
   "id": "45a57483",
   "metadata": {},
   "outputs": [],
   "source": [
    "import selenium\n",
    "from selenium import webdriver\n",
    "import pandas as pd\n",
    "import warnings\n",
    "warnings.filterwarnings('ignore')"
   ]
  },
  {
   "cell_type": "code",
   "execution_count": 2,
   "id": "f900db84",
   "metadata": {},
   "outputs": [],
   "source": [
    "driver = webdriver.Chrome(r'C:/webdriver/chromedriver.exe')"
   ]
  },
  {
   "cell_type": "code",
   "execution_count": 3,
   "id": "d0fa97ef",
   "metadata": {},
   "outputs": [],
   "source": [
    "url = 'https://www.naukri.com/'\n",
    "driver.get(url)"
   ]
  },
  {
   "cell_type": "code",
   "execution_count": 4,
   "id": "cfb37dcb",
   "metadata": {},
   "outputs": [
    {
     "data": {
      "text/plain": [
       "<selenium.webdriver.remote.webelement.WebElement (session=\"dd1e8e1887a8cc6b2f08c24dcb238407\", element=\"147fc16d-bcb8-47ca-ab16-3d6c260ec008\")>"
      ]
     },
     "execution_count": 4,
     "metadata": {},
     "output_type": "execute_result"
    }
   ],
   "source": [
    "search_job = driver.find_element_by_class_name(\"suggestor-input\")\n",
    "search_job"
   ]
  },
  {
   "cell_type": "code",
   "execution_count": 5,
   "id": "cc94a0a1",
   "metadata": {},
   "outputs": [],
   "source": [
    "search_job.send_keys('data analyst')"
   ]
  },
  {
   "cell_type": "code",
   "execution_count": 6,
   "id": "bbc41a6c",
   "metadata": {},
   "outputs": [
    {
     "data": {
      "text/plain": [
       "<selenium.webdriver.remote.webelement.WebElement (session=\"dd1e8e1887a8cc6b2f08c24dcb238407\", element=\"dc173133-5149-4637-8315-f4a9380dea97\")>"
      ]
     },
     "execution_count": 6,
     "metadata": {},
     "output_type": "execute_result"
    }
   ],
   "source": [
    "search_locn = driver.find_element_by_xpath('/html/body/div/div[2]/div[3]/div/div/div[3]/div/div/div/input')\n",
    "search_locn"
   ]
  },
  {
   "cell_type": "code",
   "execution_count": 7,
   "id": "1ae7a6d8",
   "metadata": {},
   "outputs": [],
   "source": [
    "search_locn.send_keys('bangalore')"
   ]
  },
  {
   "cell_type": "code",
   "execution_count": 8,
   "id": "a4f50f1b",
   "metadata": {},
   "outputs": [
    {
     "data": {
      "text/plain": [
       "<selenium.webdriver.remote.webelement.WebElement (session=\"dd1e8e1887a8cc6b2f08c24dcb238407\", element=\"5ea46ec2-4ad8-401c-8c0d-0700244471d5\")>"
      ]
     },
     "execution_count": 8,
     "metadata": {},
     "output_type": "execute_result"
    }
   ],
   "source": [
    "search_btn = driver.find_element_by_xpath('/html/body/div/div[2]/div[3]/div/div/div[6]')\n",
    "search_btn"
   ]
  },
  {
   "cell_type": "code",
   "execution_count": 9,
   "id": "0641e41a",
   "metadata": {},
   "outputs": [],
   "source": [
    "search_btn.click()"
   ]
  },
  {
   "cell_type": "code",
   "execution_count": 10,
   "id": "9e032cf2",
   "metadata": {},
   "outputs": [
    {
     "data": {
      "text/plain": [
       "[<selenium.webdriver.remote.webelement.WebElement (session=\"dd1e8e1887a8cc6b2f08c24dcb238407\", element=\"2f54f09c-b5a8-49ed-9e33-03d0f13d35a8\")>,\n",
       " <selenium.webdriver.remote.webelement.WebElement (session=\"dd1e8e1887a8cc6b2f08c24dcb238407\", element=\"925c7368-da6d-4526-91ae-38dd56ba78e0\")>]"
      ]
     },
     "execution_count": 10,
     "metadata": {},
     "output_type": "execute_result"
    }
   ],
   "source": [
    "title_tags = driver.find_elements_by_xpath('//a[@class=\"title fw500 ellipsis\"]')\n",
    "len(title_tags)\n",
    "title_tags[0:2]"
   ]
  },
  {
   "cell_type": "code",
   "execution_count": 11,
   "id": "9028d5ff",
   "metadata": {},
   "outputs": [
    {
     "data": {
      "text/plain": [
       "['Hiring For Data Analyst I(SQL & Python)',\n",
       " 'Data Analyst I',\n",
       " 'Senior Data Analyst II',\n",
       " 'Senior Data Analyst',\n",
       " 'Senior Data Analyst II',\n",
       " 'Senior Data Analyst II',\n",
       " 'Senior Data Analyst - Ads & Promotion Platform (APP)',\n",
       " 'Hiring Data analyst with Pharma Background across India',\n",
       " 'Lead Data Analyst - Flipkart Data science group']"
      ]
     },
     "execution_count": 11,
     "metadata": {},
     "output_type": "execute_result"
    }
   ],
   "source": [
    "job_titles =[]\n",
    "\n",
    "for i in title_tags:\n",
    "    job_titles.append(i.text)\n",
    "len(job_titles)\n",
    "job_titles[0:9]"
   ]
  },
  {
   "cell_type": "code",
   "execution_count": 12,
   "id": "ce518151",
   "metadata": {},
   "outputs": [
    {
     "data": {
      "text/plain": [
       "[<selenium.webdriver.remote.webelement.WebElement (session=\"dd1e8e1887a8cc6b2f08c24dcb238407\", element=\"73bb13cd-8bcd-49af-b73c-76094dfe9dc6\")>,\n",
       " <selenium.webdriver.remote.webelement.WebElement (session=\"dd1e8e1887a8cc6b2f08c24dcb238407\", element=\"525ebe7d-ceb1-4923-a45d-05352e91206e\")>,\n",
       " <selenium.webdriver.remote.webelement.WebElement (session=\"dd1e8e1887a8cc6b2f08c24dcb238407\", element=\"ce2c105c-9a4e-456f-9ae7-2c25b60d26a3\")>,\n",
       " <selenium.webdriver.remote.webelement.WebElement (session=\"dd1e8e1887a8cc6b2f08c24dcb238407\", element=\"5eb4668c-14a2-4366-8f79-4eaeb5223cc6\")>,\n",
       " <selenium.webdriver.remote.webelement.WebElement (session=\"dd1e8e1887a8cc6b2f08c24dcb238407\", element=\"1544e03b-7512-4c57-9522-4f02cda71bbf\")>,\n",
       " <selenium.webdriver.remote.webelement.WebElement (session=\"dd1e8e1887a8cc6b2f08c24dcb238407\", element=\"d8bb0b09-7d2b-4d62-967f-4791e2a3b009\")>,\n",
       " <selenium.webdriver.remote.webelement.WebElement (session=\"dd1e8e1887a8cc6b2f08c24dcb238407\", element=\"fd5979ba-407c-4df9-abd0-08c228b229f1\")>,\n",
       " <selenium.webdriver.remote.webelement.WebElement (session=\"dd1e8e1887a8cc6b2f08c24dcb238407\", element=\"3d718f41-1ac4-456a-9d7d-369fde934dda\")>,\n",
       " <selenium.webdriver.remote.webelement.WebElement (session=\"dd1e8e1887a8cc6b2f08c24dcb238407\", element=\"5e1ecfba-21a0-4f89-b37a-5b22d05ba17b\")>,\n",
       " <selenium.webdriver.remote.webelement.WebElement (session=\"dd1e8e1887a8cc6b2f08c24dcb238407\", element=\"a9d258f1-066b-4d9b-b593-5d5543fd21fe\")>,\n",
       " <selenium.webdriver.remote.webelement.WebElement (session=\"dd1e8e1887a8cc6b2f08c24dcb238407\", element=\"5e567767-441a-4227-867b-96e3f907917f\")>,\n",
       " <selenium.webdriver.remote.webelement.WebElement (session=\"dd1e8e1887a8cc6b2f08c24dcb238407\", element=\"ab9eba4f-874a-4246-81ae-a764ba13594e\")>,\n",
       " <selenium.webdriver.remote.webelement.WebElement (session=\"dd1e8e1887a8cc6b2f08c24dcb238407\", element=\"1b5dc0c7-738a-48e5-a006-7d9ba9707e68\")>,\n",
       " <selenium.webdriver.remote.webelement.WebElement (session=\"dd1e8e1887a8cc6b2f08c24dcb238407\", element=\"e77dad53-bf6f-4e6e-a63a-a882e0583db3\")>,\n",
       " <selenium.webdriver.remote.webelement.WebElement (session=\"dd1e8e1887a8cc6b2f08c24dcb238407\", element=\"e871d49d-21a8-4154-815f-c28d072b5011\")>,\n",
       " <selenium.webdriver.remote.webelement.WebElement (session=\"dd1e8e1887a8cc6b2f08c24dcb238407\", element=\"9a76acf4-595b-419b-9d29-faf81cc5edef\")>,\n",
       " <selenium.webdriver.remote.webelement.WebElement (session=\"dd1e8e1887a8cc6b2f08c24dcb238407\", element=\"06b8558b-e957-4c77-a63b-503863b4a81d\")>,\n",
       " <selenium.webdriver.remote.webelement.WebElement (session=\"dd1e8e1887a8cc6b2f08c24dcb238407\", element=\"63202f63-0c1a-4666-9585-ec362ccfe56d\")>,\n",
       " <selenium.webdriver.remote.webelement.WebElement (session=\"dd1e8e1887a8cc6b2f08c24dcb238407\", element=\"a3d6f856-a392-4a2a-ba59-6f09d2ad65ff\")>,\n",
       " <selenium.webdriver.remote.webelement.WebElement (session=\"dd1e8e1887a8cc6b2f08c24dcb238407\", element=\"aff1757e-624c-4eff-a349-b40408061e11\")>]"
      ]
     },
     "execution_count": 12,
     "metadata": {},
     "output_type": "execute_result"
    }
   ],
   "source": [
    "company_tags = driver.find_elements_by_xpath('//a[@class=\"subTitle ellipsis fleft\"]')\n",
    "company_tags"
   ]
  },
  {
   "cell_type": "code",
   "execution_count": 13,
   "id": "01aff016",
   "metadata": {},
   "outputs": [
    {
     "data": {
      "text/plain": [
       "['Clario India Pvt Ltd',\n",
       " 'Cerner',\n",
       " 'Flipkart',\n",
       " 'Flipkart',\n",
       " 'Flipkart',\n",
       " 'Flipkart',\n",
       " 'Gojek',\n",
       " 'HCL',\n",
       " 'Flipkart']"
      ]
     },
     "execution_count": 13,
     "metadata": {},
     "output_type": "execute_result"
    }
   ],
   "source": [
    "company_names = []\n",
    "for i in company_tags:\n",
    "    company_names.append(i.text)\n",
    "company_names[0:9]"
   ]
  },
  {
   "cell_type": "code",
   "execution_count": 14,
   "id": "d09aca05",
   "metadata": {},
   "outputs": [
    {
     "data": {
      "text/plain": [
       "(20, 20)"
      ]
     },
     "execution_count": 14,
     "metadata": {},
     "output_type": "execute_result"
    }
   ],
   "source": [
    "len(job_titles),len(company_names)"
   ]
  },
  {
   "cell_type": "code",
   "execution_count": 15,
   "id": "afd589fe",
   "metadata": {},
   "outputs": [
    {
     "data": {
      "text/html": [
       "<div>\n",
       "<style scoped>\n",
       "    .dataframe tbody tr th:only-of-type {\n",
       "        vertical-align: middle;\n",
       "    }\n",
       "\n",
       "    .dataframe tbody tr th {\n",
       "        vertical-align: top;\n",
       "    }\n",
       "\n",
       "    .dataframe thead th {\n",
       "        text-align: right;\n",
       "    }\n",
       "</style>\n",
       "<table border=\"1\" class=\"dataframe\">\n",
       "  <thead>\n",
       "    <tr style=\"text-align: right;\">\n",
       "      <th></th>\n",
       "      <th>Job Title</th>\n",
       "      <th>Company</th>\n",
       "    </tr>\n",
       "  </thead>\n",
       "  <tbody>\n",
       "    <tr>\n",
       "      <th>0</th>\n",
       "      <td>Hiring For Data Analyst I(SQL &amp; Python)</td>\n",
       "      <td>Clario India Pvt Ltd</td>\n",
       "    </tr>\n",
       "    <tr>\n",
       "      <th>1</th>\n",
       "      <td>Data Analyst I</td>\n",
       "      <td>Cerner</td>\n",
       "    </tr>\n",
       "    <tr>\n",
       "      <th>2</th>\n",
       "      <td>Senior Data Analyst II</td>\n",
       "      <td>Flipkart</td>\n",
       "    </tr>\n",
       "    <tr>\n",
       "      <th>3</th>\n",
       "      <td>Senior Data Analyst</td>\n",
       "      <td>Flipkart</td>\n",
       "    </tr>\n",
       "    <tr>\n",
       "      <th>4</th>\n",
       "      <td>Senior Data Analyst II</td>\n",
       "      <td>Flipkart</td>\n",
       "    </tr>\n",
       "    <tr>\n",
       "      <th>5</th>\n",
       "      <td>Senior Data Analyst II</td>\n",
       "      <td>Flipkart</td>\n",
       "    </tr>\n",
       "    <tr>\n",
       "      <th>6</th>\n",
       "      <td>Senior Data Analyst - Ads &amp; Promotion Platform...</td>\n",
       "      <td>Gojek</td>\n",
       "    </tr>\n",
       "    <tr>\n",
       "      <th>7</th>\n",
       "      <td>Hiring Data analyst with Pharma Background acr...</td>\n",
       "      <td>HCL</td>\n",
       "    </tr>\n",
       "    <tr>\n",
       "      <th>8</th>\n",
       "      <td>Lead Data Analyst - Flipkart Data science group</td>\n",
       "      <td>Flipkart</td>\n",
       "    </tr>\n",
       "    <tr>\n",
       "      <th>9</th>\n",
       "      <td>Associate Data Analyst</td>\n",
       "      <td>Optum</td>\n",
       "    </tr>\n",
       "  </tbody>\n",
       "</table>\n",
       "</div>"
      ],
      "text/plain": [
       "                                           Job Title               Company\n",
       "0            Hiring For Data Analyst I(SQL & Python)  Clario India Pvt Ltd\n",
       "1                                     Data Analyst I                Cerner\n",
       "2                             Senior Data Analyst II              Flipkart\n",
       "3                                Senior Data Analyst              Flipkart\n",
       "4                             Senior Data Analyst II              Flipkart\n",
       "5                             Senior Data Analyst II              Flipkart\n",
       "6  Senior Data Analyst - Ads & Promotion Platform...                 Gojek\n",
       "7  Hiring Data analyst with Pharma Background acr...                   HCL\n",
       "8    Lead Data Analyst - Flipkart Data science group              Flipkart\n",
       "9                             Associate Data Analyst                 Optum"
      ]
     },
     "execution_count": 15,
     "metadata": {},
     "output_type": "execute_result"
    }
   ],
   "source": [
    "jobs = pd.DataFrame()\n",
    "jobs['Job Title']=job_titles\n",
    "jobs['Company']=company_names\n",
    "jobs[0:10]"
   ]
  },
  {
   "cell_type": "code",
   "execution_count": 16,
   "id": "70dfeb36",
   "metadata": {},
   "outputs": [],
   "source": [
    "url = 'https://www.naukri.com/'\n",
    "driver.get(url)"
   ]
  },
  {
   "cell_type": "code",
   "execution_count": 17,
   "id": "909a706c",
   "metadata": {},
   "outputs": [
    {
     "data": {
      "text/plain": [
       "<selenium.webdriver.remote.webelement.WebElement (session=\"dd1e8e1887a8cc6b2f08c24dcb238407\", element=\"0b003633-8187-44fe-a61d-0bbf6e1c3efc\")>"
      ]
     },
     "execution_count": 17,
     "metadata": {},
     "output_type": "execute_result"
    }
   ],
   "source": [
    "search_job = driver.find_element_by_class_name(\"suggestor-input\")\n",
    "search_job"
   ]
  },
  {
   "cell_type": "code",
   "execution_count": 18,
   "id": "219611d1",
   "metadata": {},
   "outputs": [],
   "source": [
    "search_job.send_keys('data scientist')"
   ]
  },
  {
   "cell_type": "code",
   "execution_count": 19,
   "id": "d3ef4585",
   "metadata": {},
   "outputs": [
    {
     "data": {
      "text/plain": [
       "<selenium.webdriver.remote.webelement.WebElement (session=\"dd1e8e1887a8cc6b2f08c24dcb238407\", element=\"c8b17174-5e5d-4d8d-bcc0-50010005ba8c\")>"
      ]
     },
     "execution_count": 19,
     "metadata": {},
     "output_type": "execute_result"
    }
   ],
   "source": [
    "search_locn = driver.find_element_by_xpath('/html/body/div/div[2]/div[3]/div/div/div[3]/div/div/div/input')\n",
    "search_locn"
   ]
  },
  {
   "cell_type": "code",
   "execution_count": 20,
   "id": "f64d6f2f",
   "metadata": {},
   "outputs": [],
   "source": [
    "search_locn.send_keys('bangalore')"
   ]
  },
  {
   "cell_type": "code",
   "execution_count": 21,
   "id": "073e086e",
   "metadata": {},
   "outputs": [
    {
     "data": {
      "text/plain": [
       "<selenium.webdriver.remote.webelement.WebElement (session=\"dd1e8e1887a8cc6b2f08c24dcb238407\", element=\"70905ab3-1221-404c-b921-ad763bc3d594\")>"
      ]
     },
     "execution_count": 21,
     "metadata": {},
     "output_type": "execute_result"
    }
   ],
   "source": [
    "search_btn = driver.find_element_by_xpath('/html/body/div/div[2]/div[3]/div/div/div[6]')\n",
    "search_btn"
   ]
  },
  {
   "cell_type": "code",
   "execution_count": 22,
   "id": "93390ebe",
   "metadata": {},
   "outputs": [],
   "source": [
    "search_btn.click()"
   ]
  },
  {
   "cell_type": "code",
   "execution_count": 23,
   "id": "6fefda1e",
   "metadata": {},
   "outputs": [
    {
     "data": {
      "text/plain": [
       "[<selenium.webdriver.remote.webelement.WebElement (session=\"dd1e8e1887a8cc6b2f08c24dcb238407\", element=\"ac38afb4-7def-4138-b52b-24fa36b0c357\")>,\n",
       " <selenium.webdriver.remote.webelement.WebElement (session=\"dd1e8e1887a8cc6b2f08c24dcb238407\", element=\"be04f042-beec-4301-ad5d-1d977ff31f18\")>,\n",
       " <selenium.webdriver.remote.webelement.WebElement (session=\"dd1e8e1887a8cc6b2f08c24dcb238407\", element=\"3d550b66-dfcc-4ca0-b22e-2ef3bdfa5623\")>,\n",
       " <selenium.webdriver.remote.webelement.WebElement (session=\"dd1e8e1887a8cc6b2f08c24dcb238407\", element=\"04ec1fc5-3206-474a-8c4e-fd700f7c2b9c\")>,\n",
       " <selenium.webdriver.remote.webelement.WebElement (session=\"dd1e8e1887a8cc6b2f08c24dcb238407\", element=\"1eb55cbc-05b1-4a1b-bcfa-b651fcf88c50\")>,\n",
       " <selenium.webdriver.remote.webelement.WebElement (session=\"dd1e8e1887a8cc6b2f08c24dcb238407\", element=\"3603db66-312a-4591-8eb3-d40909d032a8\")>,\n",
       " <selenium.webdriver.remote.webelement.WebElement (session=\"dd1e8e1887a8cc6b2f08c24dcb238407\", element=\"c5a0e00d-4588-4875-910f-76a435b4f9d3\")>,\n",
       " <selenium.webdriver.remote.webelement.WebElement (session=\"dd1e8e1887a8cc6b2f08c24dcb238407\", element=\"68ef061c-6054-4d59-9fd7-56f597e7d8e3\")>,\n",
       " <selenium.webdriver.remote.webelement.WebElement (session=\"dd1e8e1887a8cc6b2f08c24dcb238407\", element=\"9db219fc-c8d7-45ab-ac43-40ad69524dd6\")>]"
      ]
     },
     "execution_count": 23,
     "metadata": {},
     "output_type": "execute_result"
    }
   ],
   "source": [
    "title_tags = driver.find_elements_by_xpath('//a[@class=\"title fw500 ellipsis\"]')\n",
    "len(title_tags)\n",
    "title_tags[0:9]"
   ]
  },
  {
   "cell_type": "code",
   "execution_count": 24,
   "id": "9fd45421",
   "metadata": {},
   "outputs": [
    {
     "data": {
      "text/plain": [
       "['Sr Data Scientist',\n",
       " 'HCL Tech Opening - Lead Data Scientist',\n",
       " 'Sr . Data Scientist',\n",
       " 'Need Data scientists and data engineers - WFH- less than 30days notice',\n",
       " 'Principal Data Scientist',\n",
       " 'Hiring For Data scientist- ML/python @ Unitedhealth Group',\n",
       " 'Senior Data Scientist Payments',\n",
       " 'Senior Data Scientist (R Programming)',\n",
       " 'Computer Vision Python Data Scientist']"
      ]
     },
     "execution_count": 24,
     "metadata": {},
     "output_type": "execute_result"
    }
   ],
   "source": [
    "job_titles =[]\n",
    "\n",
    "for i in title_tags:\n",
    "    job_titles.append(i.text)\n",
    "len(job_titles)\n",
    "job_titles[0:9]"
   ]
  },
  {
   "cell_type": "code",
   "execution_count": 25,
   "id": "fe08782e",
   "metadata": {},
   "outputs": [
    {
     "data": {
      "text/plain": [
       "[<selenium.webdriver.remote.webelement.WebElement (session=\"dd1e8e1887a8cc6b2f08c24dcb238407\", element=\"cf55f2f3-150b-4280-a66b-df437bba97bc\")>,\n",
       " <selenium.webdriver.remote.webelement.WebElement (session=\"dd1e8e1887a8cc6b2f08c24dcb238407\", element=\"4328d32a-d1ad-406a-a31e-38b1609ad32c\")>,\n",
       " <selenium.webdriver.remote.webelement.WebElement (session=\"dd1e8e1887a8cc6b2f08c24dcb238407\", element=\"7ff227b4-d555-431a-b117-95b110c878d6\")>,\n",
       " <selenium.webdriver.remote.webelement.WebElement (session=\"dd1e8e1887a8cc6b2f08c24dcb238407\", element=\"35ef9012-129f-44d9-87bf-3ead069ac434\")>,\n",
       " <selenium.webdriver.remote.webelement.WebElement (session=\"dd1e8e1887a8cc6b2f08c24dcb238407\", element=\"0f0b5476-a386-40ef-8391-01aa36fcf725\")>,\n",
       " <selenium.webdriver.remote.webelement.WebElement (session=\"dd1e8e1887a8cc6b2f08c24dcb238407\", element=\"0987d8f1-c9aa-4a03-9da5-e26f5203d14e\")>,\n",
       " <selenium.webdriver.remote.webelement.WebElement (session=\"dd1e8e1887a8cc6b2f08c24dcb238407\", element=\"2d4d70a3-a765-499b-b8e7-a2089e5041e9\")>,\n",
       " <selenium.webdriver.remote.webelement.WebElement (session=\"dd1e8e1887a8cc6b2f08c24dcb238407\", element=\"6b9d103a-3865-4b59-a326-bd92185deff4\")>,\n",
       " <selenium.webdriver.remote.webelement.WebElement (session=\"dd1e8e1887a8cc6b2f08c24dcb238407\", element=\"fda936ac-9350-4fb8-a280-d5b5802c42fb\")>,\n",
       " <selenium.webdriver.remote.webelement.WebElement (session=\"dd1e8e1887a8cc6b2f08c24dcb238407\", element=\"1ed9754b-69a9-4f97-8f1f-c6717ad6bb80\")>,\n",
       " <selenium.webdriver.remote.webelement.WebElement (session=\"dd1e8e1887a8cc6b2f08c24dcb238407\", element=\"26384b83-7271-4a00-b677-85ce2fafafbf\")>,\n",
       " <selenium.webdriver.remote.webelement.WebElement (session=\"dd1e8e1887a8cc6b2f08c24dcb238407\", element=\"5e366aa9-448a-4565-ac80-e84e655a529a\")>,\n",
       " <selenium.webdriver.remote.webelement.WebElement (session=\"dd1e8e1887a8cc6b2f08c24dcb238407\", element=\"0e1c4203-ce9a-41b9-b551-cf5fc7f6d8fb\")>,\n",
       " <selenium.webdriver.remote.webelement.WebElement (session=\"dd1e8e1887a8cc6b2f08c24dcb238407\", element=\"35259132-04b7-4deb-95df-42c5b8c50f78\")>,\n",
       " <selenium.webdriver.remote.webelement.WebElement (session=\"dd1e8e1887a8cc6b2f08c24dcb238407\", element=\"0d0be0d8-11b4-4afc-b409-0c2d5ce1abd2\")>,\n",
       " <selenium.webdriver.remote.webelement.WebElement (session=\"dd1e8e1887a8cc6b2f08c24dcb238407\", element=\"3ddd174e-e85e-4159-b895-23f85e889d6f\")>,\n",
       " <selenium.webdriver.remote.webelement.WebElement (session=\"dd1e8e1887a8cc6b2f08c24dcb238407\", element=\"1c412d30-f90a-440a-a11b-8a94026f7535\")>,\n",
       " <selenium.webdriver.remote.webelement.WebElement (session=\"dd1e8e1887a8cc6b2f08c24dcb238407\", element=\"75df64ef-a306-4059-ab26-ac6902684b3d\")>,\n",
       " <selenium.webdriver.remote.webelement.WebElement (session=\"dd1e8e1887a8cc6b2f08c24dcb238407\", element=\"c8e6a170-bebe-442a-ab22-8a4d281f207c\")>,\n",
       " <selenium.webdriver.remote.webelement.WebElement (session=\"dd1e8e1887a8cc6b2f08c24dcb238407\", element=\"2d0cf171-8f4a-4fcc-9e6b-df33cc44065b\")>]"
      ]
     },
     "execution_count": 25,
     "metadata": {},
     "output_type": "execute_result"
    }
   ],
   "source": [
    "company_tags = driver.find_elements_by_xpath('//a[@class=\"subTitle ellipsis fleft\"]')\n",
    "company_tags"
   ]
  },
  {
   "cell_type": "code",
   "execution_count": 26,
   "id": "c9a28345",
   "metadata": {},
   "outputs": [
    {
     "data": {
      "text/plain": [
       "['Uber',\n",
       " 'HCL',\n",
       " 'Visa',\n",
       " 'Covalense Technologies Private Limited',\n",
       " 'Mobile Premier League',\n",
       " 'Optum',\n",
       " 'AirSeva',\n",
       " 'Ignitho',\n",
       " 'OceanOfWeb']"
      ]
     },
     "execution_count": 26,
     "metadata": {},
     "output_type": "execute_result"
    }
   ],
   "source": [
    "company_names = []\n",
    "for i in company_tags:\n",
    "    company_names.append(i.text)\n",
    "company_names[0:9]"
   ]
  },
  {
   "cell_type": "code",
   "execution_count": 27,
   "id": "ec334f7c",
   "metadata": {},
   "outputs": [
    {
     "data": {
      "text/html": [
       "<div>\n",
       "<style scoped>\n",
       "    .dataframe tbody tr th:only-of-type {\n",
       "        vertical-align: middle;\n",
       "    }\n",
       "\n",
       "    .dataframe tbody tr th {\n",
       "        vertical-align: top;\n",
       "    }\n",
       "\n",
       "    .dataframe thead th {\n",
       "        text-align: right;\n",
       "    }\n",
       "</style>\n",
       "<table border=\"1\" class=\"dataframe\">\n",
       "  <thead>\n",
       "    <tr style=\"text-align: right;\">\n",
       "      <th></th>\n",
       "      <th>Job Title</th>\n",
       "      <th>Company</th>\n",
       "    </tr>\n",
       "  </thead>\n",
       "  <tbody>\n",
       "    <tr>\n",
       "      <th>0</th>\n",
       "      <td>Sr Data Scientist</td>\n",
       "      <td>Uber</td>\n",
       "    </tr>\n",
       "    <tr>\n",
       "      <th>1</th>\n",
       "      <td>HCL Tech Opening - Lead Data Scientist</td>\n",
       "      <td>HCL</td>\n",
       "    </tr>\n",
       "    <tr>\n",
       "      <th>2</th>\n",
       "      <td>Sr . Data Scientist</td>\n",
       "      <td>Visa</td>\n",
       "    </tr>\n",
       "    <tr>\n",
       "      <th>3</th>\n",
       "      <td>Need Data scientists and data engineers - WFH-...</td>\n",
       "      <td>Covalense Technologies Private Limited</td>\n",
       "    </tr>\n",
       "    <tr>\n",
       "      <th>4</th>\n",
       "      <td>Principal Data Scientist</td>\n",
       "      <td>Mobile Premier League</td>\n",
       "    </tr>\n",
       "    <tr>\n",
       "      <th>5</th>\n",
       "      <td>Hiring For Data scientist- ML/python @ Unitedh...</td>\n",
       "      <td>Optum</td>\n",
       "    </tr>\n",
       "    <tr>\n",
       "      <th>6</th>\n",
       "      <td>Senior Data Scientist Payments</td>\n",
       "      <td>AirSeva</td>\n",
       "    </tr>\n",
       "    <tr>\n",
       "      <th>7</th>\n",
       "      <td>Senior Data Scientist (R Programming)</td>\n",
       "      <td>Ignitho</td>\n",
       "    </tr>\n",
       "    <tr>\n",
       "      <th>8</th>\n",
       "      <td>Computer Vision Python Data Scientist</td>\n",
       "      <td>OceanOfWeb</td>\n",
       "    </tr>\n",
       "    <tr>\n",
       "      <th>9</th>\n",
       "      <td>Data Scientist</td>\n",
       "      <td>Minions Ventures</td>\n",
       "    </tr>\n",
       "  </tbody>\n",
       "</table>\n",
       "</div>"
      ],
      "text/plain": [
       "                                           Job Title  \\\n",
       "0                                  Sr Data Scientist   \n",
       "1             HCL Tech Opening - Lead Data Scientist   \n",
       "2                                Sr . Data Scientist   \n",
       "3  Need Data scientists and data engineers - WFH-...   \n",
       "4                           Principal Data Scientist   \n",
       "5  Hiring For Data scientist- ML/python @ Unitedh...   \n",
       "6                     Senior Data Scientist Payments   \n",
       "7              Senior Data Scientist (R Programming)   \n",
       "8              Computer Vision Python Data Scientist   \n",
       "9                                     Data Scientist   \n",
       "\n",
       "                                  Company  \n",
       "0                                    Uber  \n",
       "1                                     HCL  \n",
       "2                                    Visa  \n",
       "3  Covalense Technologies Private Limited  \n",
       "4                   Mobile Premier League  \n",
       "5                                   Optum  \n",
       "6                                 AirSeva  \n",
       "7                                 Ignitho  \n",
       "8                              OceanOfWeb  \n",
       "9                        Minions Ventures  "
      ]
     },
     "execution_count": 27,
     "metadata": {},
     "output_type": "execute_result"
    }
   ],
   "source": [
    "jobs = pd.DataFrame()\n",
    "jobs['Job Title']=job_titles\n",
    "jobs['Company']=company_names\n",
    "jobs[0:10]"
   ]
  },
  {
   "cell_type": "code",
   "execution_count": 28,
   "id": "d2bf0b69",
   "metadata": {},
   "outputs": [],
   "source": [
    "url = 'https://www.naukri.com/'\n",
    "driver.get(url)"
   ]
  },
  {
   "cell_type": "code",
   "execution_count": 29,
   "id": "0719aa76",
   "metadata": {},
   "outputs": [
    {
     "data": {
      "text/plain": [
       "<selenium.webdriver.remote.webelement.WebElement (session=\"dd1e8e1887a8cc6b2f08c24dcb238407\", element=\"06ddd98a-5a16-4457-97eb-269f63ebe26f\")>"
      ]
     },
     "execution_count": 29,
     "metadata": {},
     "output_type": "execute_result"
    }
   ],
   "source": [
    "search_job = driver.find_element_by_class_name(\"suggestor-input\")\n",
    "search_job"
   ]
  },
  {
   "cell_type": "code",
   "execution_count": 30,
   "id": "c9f48134",
   "metadata": {},
   "outputs": [],
   "source": [
    "search_job.send_keys('data scientist')"
   ]
  },
  {
   "cell_type": "code",
   "execution_count": 31,
   "id": "f016f1e1",
   "metadata": {},
   "outputs": [
    {
     "data": {
      "text/plain": [
       "<selenium.webdriver.remote.webelement.WebElement (session=\"dd1e8e1887a8cc6b2f08c24dcb238407\", element=\"929344bb-5da8-47b6-a8b4-4fc3a036aa54\")>"
      ]
     },
     "execution_count": 31,
     "metadata": {},
     "output_type": "execute_result"
    }
   ],
   "source": [
    "search_locn = driver.find_element_by_xpath('/html/body/div/div[2]/div[3]/div/div/div[3]/div/div/div/input')\n",
    "search_locn"
   ]
  },
  {
   "cell_type": "code",
   "execution_count": 32,
   "id": "1263cb47",
   "metadata": {},
   "outputs": [],
   "source": [
    "search_locn.send_keys('Delhi')"
   ]
  },
  {
   "cell_type": "code",
   "execution_count": 33,
   "id": "ca7addbe",
   "metadata": {},
   "outputs": [
    {
     "data": {
      "text/plain": [
       "<selenium.webdriver.remote.webelement.WebElement (session=\"dd1e8e1887a8cc6b2f08c24dcb238407\", element=\"9426f75a-da24-46c1-b63d-1f741e563021\")>"
      ]
     },
     "execution_count": 33,
     "metadata": {},
     "output_type": "execute_result"
    }
   ],
   "source": [
    "search_btn = driver.find_element_by_xpath('/html/body/div/div[2]/div[3]/div/div/div[6]')\n",
    "search_btn"
   ]
  },
  {
   "cell_type": "code",
   "execution_count": 34,
   "id": "68c49233",
   "metadata": {},
   "outputs": [],
   "source": [
    "search_btn.click()"
   ]
  },
  {
   "cell_type": "code",
   "execution_count": 35,
   "id": "c3b300bf",
   "metadata": {},
   "outputs": [
    {
     "data": {
      "text/plain": [
       "[<selenium.webdriver.remote.webelement.WebElement (session=\"dd1e8e1887a8cc6b2f08c24dcb238407\", element=\"78f1185b-d9d9-4ded-a164-827739a26b6b\")>,\n",
       " <selenium.webdriver.remote.webelement.WebElement (session=\"dd1e8e1887a8cc6b2f08c24dcb238407\", element=\"26a9765e-8a7e-437a-80d3-f3137f948289\")>,\n",
       " <selenium.webdriver.remote.webelement.WebElement (session=\"dd1e8e1887a8cc6b2f08c24dcb238407\", element=\"ef5fa930-4e77-4a08-acaa-59780862e982\")>,\n",
       " <selenium.webdriver.remote.webelement.WebElement (session=\"dd1e8e1887a8cc6b2f08c24dcb238407\", element=\"bea4ce32-82b9-4cd7-8196-2073cce8a924\")>,\n",
       " <selenium.webdriver.remote.webelement.WebElement (session=\"dd1e8e1887a8cc6b2f08c24dcb238407\", element=\"a0d96861-5629-4448-85a0-07160ce2a316\")>,\n",
       " <selenium.webdriver.remote.webelement.WebElement (session=\"dd1e8e1887a8cc6b2f08c24dcb238407\", element=\"072cd7a4-01fa-47de-9fe9-4ec029c93060\")>,\n",
       " <selenium.webdriver.remote.webelement.WebElement (session=\"dd1e8e1887a8cc6b2f08c24dcb238407\", element=\"1040b756-8f67-46cb-b151-2e8940969705\")>,\n",
       " <selenium.webdriver.remote.webelement.WebElement (session=\"dd1e8e1887a8cc6b2f08c24dcb238407\", element=\"ce8b55a5-a761-43f0-a59f-17177e86815d\")>,\n",
       " <selenium.webdriver.remote.webelement.WebElement (session=\"dd1e8e1887a8cc6b2f08c24dcb238407\", element=\"1770f49d-42c3-45db-bb87-4aba4d88445d\")>]"
      ]
     },
     "execution_count": 35,
     "metadata": {},
     "output_type": "execute_result"
    }
   ],
   "source": [
    "title_tags = driver.find_elements_by_xpath('//a[@class=\"title fw500 ellipsis\"]')\n",
    "len(title_tags)\n",
    "title_tags[0:9]"
   ]
  },
  {
   "cell_type": "code",
   "execution_count": 36,
   "id": "c41f4b67",
   "metadata": {},
   "outputs": [
    {
     "data": {
      "text/plain": [
       "['HCL Tech Opening - Lead Data Scientist',\n",
       " 'Hiring For Senior Data Scientist || Noida/Hyderabad',\n",
       " 'Forecasting Analyst/ Data Scientist (US Client)',\n",
       " 'Hiring For Senior Data Scientist-Noida',\n",
       " 'Data Scientist',\n",
       " 'Senior Data Scientist',\n",
       " 'Data Scientist',\n",
       " 'Data Scientist',\n",
       " 'Data Scientist - NLP/ML/Python']"
      ]
     },
     "execution_count": 36,
     "metadata": {},
     "output_type": "execute_result"
    }
   ],
   "source": [
    "job_titles =[]\n",
    "\n",
    "for i in title_tags:\n",
    "    job_titles.append(i.text)\n",
    "len(job_titles)\n",
    "job_titles[0:9]"
   ]
  },
  {
   "cell_type": "code",
   "execution_count": 37,
   "id": "a8d7a252",
   "metadata": {},
   "outputs": [
    {
     "data": {
      "text/plain": [
       "[<selenium.webdriver.remote.webelement.WebElement (session=\"dd1e8e1887a8cc6b2f08c24dcb238407\", element=\"29b024f7-398f-4e19-9b46-7062759b2fab\")>,\n",
       " <selenium.webdriver.remote.webelement.WebElement (session=\"dd1e8e1887a8cc6b2f08c24dcb238407\", element=\"78e62bc5-01fc-4bcb-95ed-df3af7acb070\")>,\n",
       " <selenium.webdriver.remote.webelement.WebElement (session=\"dd1e8e1887a8cc6b2f08c24dcb238407\", element=\"ff99a096-a250-4c3c-835c-4b36d985cbcf\")>,\n",
       " <selenium.webdriver.remote.webelement.WebElement (session=\"dd1e8e1887a8cc6b2f08c24dcb238407\", element=\"4c81f468-0b6f-408f-928b-15da3a06bc01\")>,\n",
       " <selenium.webdriver.remote.webelement.WebElement (session=\"dd1e8e1887a8cc6b2f08c24dcb238407\", element=\"98a8f32e-a796-46f4-b32e-b92a7da0a9cb\")>,\n",
       " <selenium.webdriver.remote.webelement.WebElement (session=\"dd1e8e1887a8cc6b2f08c24dcb238407\", element=\"9723184d-83c8-4e99-8af6-575b40cc8809\")>,\n",
       " <selenium.webdriver.remote.webelement.WebElement (session=\"dd1e8e1887a8cc6b2f08c24dcb238407\", element=\"d22953c4-06d0-44fe-801c-9119c5a85e00\")>,\n",
       " <selenium.webdriver.remote.webelement.WebElement (session=\"dd1e8e1887a8cc6b2f08c24dcb238407\", element=\"35bf41d4-91c2-427a-846b-c98b1cb4f905\")>,\n",
       " <selenium.webdriver.remote.webelement.WebElement (session=\"dd1e8e1887a8cc6b2f08c24dcb238407\", element=\"439837b1-bd6c-4bac-8132-90ca632ba085\")>,\n",
       " <selenium.webdriver.remote.webelement.WebElement (session=\"dd1e8e1887a8cc6b2f08c24dcb238407\", element=\"0a6bb6aa-61e4-49e3-949f-063ad31046ad\")>,\n",
       " <selenium.webdriver.remote.webelement.WebElement (session=\"dd1e8e1887a8cc6b2f08c24dcb238407\", element=\"71090758-a0e9-4c65-9481-cb12464322bc\")>,\n",
       " <selenium.webdriver.remote.webelement.WebElement (session=\"dd1e8e1887a8cc6b2f08c24dcb238407\", element=\"9b158d26-4866-4dcc-bdae-03e9dfa5048b\")>,\n",
       " <selenium.webdriver.remote.webelement.WebElement (session=\"dd1e8e1887a8cc6b2f08c24dcb238407\", element=\"7f72c622-5349-4f3b-afa2-c0c6673dfd85\")>,\n",
       " <selenium.webdriver.remote.webelement.WebElement (session=\"dd1e8e1887a8cc6b2f08c24dcb238407\", element=\"adc0530e-0c19-406d-8c8a-a80744bbc280\")>,\n",
       " <selenium.webdriver.remote.webelement.WebElement (session=\"dd1e8e1887a8cc6b2f08c24dcb238407\", element=\"5cee664d-755e-44bf-921e-4b08f0ae4559\")>,\n",
       " <selenium.webdriver.remote.webelement.WebElement (session=\"dd1e8e1887a8cc6b2f08c24dcb238407\", element=\"13df502f-ec22-4259-8c85-927ea8a65c5c\")>,\n",
       " <selenium.webdriver.remote.webelement.WebElement (session=\"dd1e8e1887a8cc6b2f08c24dcb238407\", element=\"8188acd9-f3de-429b-8d97-54b8d2fa2186\")>,\n",
       " <selenium.webdriver.remote.webelement.WebElement (session=\"dd1e8e1887a8cc6b2f08c24dcb238407\", element=\"3c588d25-743b-4e11-af1b-f35737b324ce\")>,\n",
       " <selenium.webdriver.remote.webelement.WebElement (session=\"dd1e8e1887a8cc6b2f08c24dcb238407\", element=\"fd8d3eb3-62d3-4504-bb33-0a7776d1b1be\")>,\n",
       " <selenium.webdriver.remote.webelement.WebElement (session=\"dd1e8e1887a8cc6b2f08c24dcb238407\", element=\"60e4bf8d-cfef-400e-88f5-ac77f29ab0e6\")>]"
      ]
     },
     "execution_count": 37,
     "metadata": {},
     "output_type": "execute_result"
    }
   ],
   "source": [
    "company_tags = driver.find_elements_by_xpath('//a[@class=\"subTitle ellipsis fleft\"]')\n",
    "company_tags"
   ]
  },
  {
   "cell_type": "code",
   "execution_count": 38,
   "id": "2e0ee949",
   "metadata": {},
   "outputs": [
    {
     "data": {
      "text/plain": [
       "['HCL',\n",
       " 'Tokopedia',\n",
       " 'Concentrix',\n",
       " 'Lumiq.ai',\n",
       " 'Korea Trade Center',\n",
       " 'Pitney Bowes India Pvt Ltd',\n",
       " 'HDFC Bank',\n",
       " 'Genpact',\n",
       " 'Elixir Web Solutions']"
      ]
     },
     "execution_count": 38,
     "metadata": {},
     "output_type": "execute_result"
    }
   ],
   "source": [
    "company_names = []\n",
    "for i in company_tags:\n",
    "    company_names.append(i.text)\n",
    "company_names[0:9]"
   ]
  },
  {
   "cell_type": "code",
   "execution_count": 48,
   "id": "1f6e8ad6",
   "metadata": {},
   "outputs": [
    {
     "data": {
      "text/plain": [
       "<selenium.webdriver.remote.webelement.WebElement (session=\"dd1e8e1887a8cc6b2f08c24dcb238407\", element=\"2489f412-74e3-40d6-ba35-64c4c05c9fa9\")>"
      ]
     },
     "execution_count": 48,
     "metadata": {},
     "output_type": "execute_result"
    }
   ],
   "source": [
    "salary_check = driver.find_element_by_xpath('/html/body/div[1]/div[3]/div[2]/section[1]/div[2]/div[1]/div[2]/div[1]/label/i')\n",
    "salary_check"
   ]
  },
  {
   "cell_type": "code",
   "execution_count": 49,
   "id": "a488bbc8",
   "metadata": {},
   "outputs": [],
   "source": [
    "salary_check.click()"
   ]
  },
  {
   "cell_type": "code",
   "execution_count": 50,
   "id": "4508901c",
   "metadata": {},
   "outputs": [
    {
     "data": {
      "text/plain": [
       "<selenium.webdriver.remote.webelement.WebElement (session=\"dd1e8e1887a8cc6b2f08c24dcb238407\", element=\"5f2f6a26-e2b3-4897-9fe1-efab3392a69c\")>"
      ]
     },
     "execution_count": 50,
     "metadata": {},
     "output_type": "execute_result"
    }
   ],
   "source": [
    "location_check =driver.find_element_by_xpath('/html/body/div[1]/div[3]/div[2]/section[2]/div[2]/article[1]/div[1]/div[1]/ul/li[3]/span')\n",
    "location_check"
   ]
  },
  {
   "cell_type": "code",
   "execution_count": 51,
   "id": "166e817e",
   "metadata": {},
   "outputs": [],
   "source": [
    "location_check.click()"
   ]
  },
  {
   "cell_type": "code",
   "execution_count": 52,
   "id": "4c85abb0",
   "metadata": {},
   "outputs": [
    {
     "data": {
      "text/html": [
       "<div>\n",
       "<style scoped>\n",
       "    .dataframe tbody tr th:only-of-type {\n",
       "        vertical-align: middle;\n",
       "    }\n",
       "\n",
       "    .dataframe tbody tr th {\n",
       "        vertical-align: top;\n",
       "    }\n",
       "\n",
       "    .dataframe thead th {\n",
       "        text-align: right;\n",
       "    }\n",
       "</style>\n",
       "<table border=\"1\" class=\"dataframe\">\n",
       "  <thead>\n",
       "    <tr style=\"text-align: right;\">\n",
       "      <th></th>\n",
       "      <th>Job Title</th>\n",
       "      <th>Company</th>\n",
       "    </tr>\n",
       "  </thead>\n",
       "  <tbody>\n",
       "    <tr>\n",
       "      <th>0</th>\n",
       "      <td>HCL Tech Opening - Lead Data Scientist</td>\n",
       "      <td>HCL</td>\n",
       "    </tr>\n",
       "    <tr>\n",
       "      <th>1</th>\n",
       "      <td>Hiring For Senior Data Scientist || Noida/Hyde...</td>\n",
       "      <td>Tokopedia</td>\n",
       "    </tr>\n",
       "    <tr>\n",
       "      <th>2</th>\n",
       "      <td>Forecasting Analyst/ Data Scientist (US Client)</td>\n",
       "      <td>Concentrix</td>\n",
       "    </tr>\n",
       "    <tr>\n",
       "      <th>3</th>\n",
       "      <td>Hiring For Senior Data Scientist-Noida</td>\n",
       "      <td>Lumiq.ai</td>\n",
       "    </tr>\n",
       "    <tr>\n",
       "      <th>4</th>\n",
       "      <td>Data Scientist</td>\n",
       "      <td>Korea Trade Center</td>\n",
       "    </tr>\n",
       "    <tr>\n",
       "      <th>5</th>\n",
       "      <td>Senior Data Scientist</td>\n",
       "      <td>Pitney Bowes India Pvt Ltd</td>\n",
       "    </tr>\n",
       "    <tr>\n",
       "      <th>6</th>\n",
       "      <td>Data Scientist</td>\n",
       "      <td>HDFC Bank</td>\n",
       "    </tr>\n",
       "    <tr>\n",
       "      <th>7</th>\n",
       "      <td>Data Scientist</td>\n",
       "      <td>Genpact</td>\n",
       "    </tr>\n",
       "    <tr>\n",
       "      <th>8</th>\n",
       "      <td>Data Scientist - NLP/ML/Python</td>\n",
       "      <td>Elixir Web Solutions</td>\n",
       "    </tr>\n",
       "    <tr>\n",
       "      <th>9</th>\n",
       "      <td>Data Scientist - Machine Learning</td>\n",
       "      <td>Corner Tree Consulting</td>\n",
       "    </tr>\n",
       "  </tbody>\n",
       "</table>\n",
       "</div>"
      ],
      "text/plain": [
       "                                           Job Title  \\\n",
       "0             HCL Tech Opening - Lead Data Scientist   \n",
       "1  Hiring For Senior Data Scientist || Noida/Hyde...   \n",
       "2    Forecasting Analyst/ Data Scientist (US Client)   \n",
       "3             Hiring For Senior Data Scientist-Noida   \n",
       "4                                     Data Scientist   \n",
       "5                              Senior Data Scientist   \n",
       "6                                     Data Scientist   \n",
       "7                                     Data Scientist   \n",
       "8                     Data Scientist - NLP/ML/Python   \n",
       "9                  Data Scientist - Machine Learning   \n",
       "\n",
       "                      Company  \n",
       "0                         HCL  \n",
       "1                   Tokopedia  \n",
       "2                  Concentrix  \n",
       "3                    Lumiq.ai  \n",
       "4          Korea Trade Center  \n",
       "5  Pitney Bowes India Pvt Ltd  \n",
       "6                   HDFC Bank  \n",
       "7                     Genpact  \n",
       "8        Elixir Web Solutions  \n",
       "9      Corner Tree Consulting  "
      ]
     },
     "execution_count": 52,
     "metadata": {},
     "output_type": "execute_result"
    }
   ],
   "source": [
    "jobs = pd.DataFrame()\n",
    "jobs['Job Title']=job_titles\n",
    "jobs['Company']=company_names\n",
    "jobs[0:10]"
   ]
  },
  {
   "cell_type": "code",
   "execution_count": 53,
   "id": "5d94b07f",
   "metadata": {},
   "outputs": [],
   "source": [
    "url ='http://www.flipkart.com/'\n",
    "driver.get(url)"
   ]
  },
  {
   "cell_type": "code",
   "execution_count": 54,
   "id": "b1c19332",
   "metadata": {},
   "outputs": [
    {
     "data": {
      "text/plain": [
       "<selenium.webdriver.remote.webelement.WebElement (session=\"dd1e8e1887a8cc6b2f08c24dcb238407\", element=\"ad93555c-0552-4eec-bd43-233bf1eac3a8\")>"
      ]
     },
     "execution_count": 54,
     "metadata": {},
     "output_type": "execute_result"
    }
   ],
   "source": [
    "search_sunglasses = driver.find_element_by_class_name(\"_3704LK\")\n",
    "search_sunglasses"
   ]
  },
  {
   "cell_type": "code",
   "execution_count": 55,
   "id": "40a0dfe4",
   "metadata": {},
   "outputs": [],
   "source": [
    "search_sunglasses.send_keys('sunglasses')"
   ]
  },
  {
   "cell_type": "code",
   "execution_count": 56,
   "id": "0a1ba787",
   "metadata": {},
   "outputs": [
    {
     "data": {
      "text/plain": [
       "<selenium.webdriver.remote.webelement.WebElement (session=\"dd1e8e1887a8cc6b2f08c24dcb238407\", element=\"e9ae83f6-b1b4-41a9-a386-5c076372e3a3\")>"
      ]
     },
     "execution_count": 56,
     "metadata": {},
     "output_type": "execute_result"
    }
   ],
   "source": [
    "search_btn = driver.find_element_by_xpath('/html/body/div/div/div[1]/div[1]/div[2]/div[2]/form/div/button')\n",
    "search_btn"
   ]
  },
  {
   "cell_type": "code",
   "execution_count": 57,
   "id": "a25cb7c7",
   "metadata": {},
   "outputs": [],
   "source": [
    "search_btn.click()"
   ]
  },
  {
   "cell_type": "code",
   "execution_count": 58,
   "id": "00357e12",
   "metadata": {},
   "outputs": [
    {
     "data": {
      "text/plain": [
       "[<selenium.webdriver.remote.webelement.WebElement (session=\"dd1e8e1887a8cc6b2f08c24dcb238407\", element=\"c2b35a74-08e0-4d83-8078-bcf319426dfb\")>,\n",
       " <selenium.webdriver.remote.webelement.WebElement (session=\"dd1e8e1887a8cc6b2f08c24dcb238407\", element=\"0f10dd2e-520e-4081-ad56-52de93821435\")>,\n",
       " <selenium.webdriver.remote.webelement.WebElement (session=\"dd1e8e1887a8cc6b2f08c24dcb238407\", element=\"92981b5d-0521-4887-a9f1-5a8eac8bd47c\")>,\n",
       " <selenium.webdriver.remote.webelement.WebElement (session=\"dd1e8e1887a8cc6b2f08c24dcb238407\", element=\"15bb408a-f986-4a78-b682-6c5af00cb466\")>,\n",
       " <selenium.webdriver.remote.webelement.WebElement (session=\"dd1e8e1887a8cc6b2f08c24dcb238407\", element=\"f548d0c7-f466-4bee-b7f7-f607c7f222bc\")>,\n",
       " <selenium.webdriver.remote.webelement.WebElement (session=\"dd1e8e1887a8cc6b2f08c24dcb238407\", element=\"b8d53f6f-683e-4cc1-883e-1e279979d3ed\")>,\n",
       " <selenium.webdriver.remote.webelement.WebElement (session=\"dd1e8e1887a8cc6b2f08c24dcb238407\", element=\"a5908c35-f15a-4dd2-9718-895d250a0875\")>,\n",
       " <selenium.webdriver.remote.webelement.WebElement (session=\"dd1e8e1887a8cc6b2f08c24dcb238407\", element=\"73909bff-df09-484c-9500-c38413030409\")>,\n",
       " <selenium.webdriver.remote.webelement.WebElement (session=\"dd1e8e1887a8cc6b2f08c24dcb238407\", element=\"4306e3b4-c124-40c4-b75a-34c0c97bb6ce\")>,\n",
       " <selenium.webdriver.remote.webelement.WebElement (session=\"dd1e8e1887a8cc6b2f08c24dcb238407\", element=\"47fdd6ac-7b42-4276-b39d-9921084cd8fe\")>,\n",
       " <selenium.webdriver.remote.webelement.WebElement (session=\"dd1e8e1887a8cc6b2f08c24dcb238407\", element=\"2ab06906-2937-4983-bc0f-9a8e6db38ee8\")>,\n",
       " <selenium.webdriver.remote.webelement.WebElement (session=\"dd1e8e1887a8cc6b2f08c24dcb238407\", element=\"89eb4847-349f-42f5-b5b7-1e63d869fd59\")>,\n",
       " <selenium.webdriver.remote.webelement.WebElement (session=\"dd1e8e1887a8cc6b2f08c24dcb238407\", element=\"e088cab8-2d72-4ed4-b0f7-98f9962c339e\")>,\n",
       " <selenium.webdriver.remote.webelement.WebElement (session=\"dd1e8e1887a8cc6b2f08c24dcb238407\", element=\"58d2b32c-c7eb-4252-81ea-01cc11a860b2\")>,\n",
       " <selenium.webdriver.remote.webelement.WebElement (session=\"dd1e8e1887a8cc6b2f08c24dcb238407\", element=\"00f71fb5-e1a2-4a49-b600-0434c389f1fe\")>,\n",
       " <selenium.webdriver.remote.webelement.WebElement (session=\"dd1e8e1887a8cc6b2f08c24dcb238407\", element=\"f7aacdfc-0655-4a07-9a26-a979b04f5393\")>,\n",
       " <selenium.webdriver.remote.webelement.WebElement (session=\"dd1e8e1887a8cc6b2f08c24dcb238407\", element=\"2e4dbf79-5621-4965-abb0-21829c7d48fd\")>,\n",
       " <selenium.webdriver.remote.webelement.WebElement (session=\"dd1e8e1887a8cc6b2f08c24dcb238407\", element=\"21e7faab-2793-4181-93ac-5d8b1a975eff\")>,\n",
       " <selenium.webdriver.remote.webelement.WebElement (session=\"dd1e8e1887a8cc6b2f08c24dcb238407\", element=\"f606b0a6-f7f2-4e84-98cc-753d08c03e44\")>,\n",
       " <selenium.webdriver.remote.webelement.WebElement (session=\"dd1e8e1887a8cc6b2f08c24dcb238407\", element=\"159b64b0-d69b-4baf-a0c2-0aa02987772d\")>,\n",
       " <selenium.webdriver.remote.webelement.WebElement (session=\"dd1e8e1887a8cc6b2f08c24dcb238407\", element=\"8ae2d3f1-5421-48d1-890c-ac2871bdaa9c\")>,\n",
       " <selenium.webdriver.remote.webelement.WebElement (session=\"dd1e8e1887a8cc6b2f08c24dcb238407\", element=\"c21c1345-aa7f-4afc-8f09-3750ce2471c5\")>,\n",
       " <selenium.webdriver.remote.webelement.WebElement (session=\"dd1e8e1887a8cc6b2f08c24dcb238407\", element=\"71691f02-1555-43df-8c91-e302eaa3a999\")>,\n",
       " <selenium.webdriver.remote.webelement.WebElement (session=\"dd1e8e1887a8cc6b2f08c24dcb238407\", element=\"fde1be03-53ab-43dc-90c3-52a2ffedc99f\")>,\n",
       " <selenium.webdriver.remote.webelement.WebElement (session=\"dd1e8e1887a8cc6b2f08c24dcb238407\", element=\"5f54ca5d-7ba7-4df5-9a1c-2536b38ef75b\")>,\n",
       " <selenium.webdriver.remote.webelement.WebElement (session=\"dd1e8e1887a8cc6b2f08c24dcb238407\", element=\"ba14f7c0-4aad-4ff1-8fcf-6dc27b291cfc\")>,\n",
       " <selenium.webdriver.remote.webelement.WebElement (session=\"dd1e8e1887a8cc6b2f08c24dcb238407\", element=\"c6ded2db-b949-40c9-8ad0-7d38bb88fb49\")>,\n",
       " <selenium.webdriver.remote.webelement.WebElement (session=\"dd1e8e1887a8cc6b2f08c24dcb238407\", element=\"eb1a07ab-94ef-4824-a80e-c70e797ff2d5\")>,\n",
       " <selenium.webdriver.remote.webelement.WebElement (session=\"dd1e8e1887a8cc6b2f08c24dcb238407\", element=\"f9eb2a81-c24f-406a-bf33-b348d4ccf90c\")>,\n",
       " <selenium.webdriver.remote.webelement.WebElement (session=\"dd1e8e1887a8cc6b2f08c24dcb238407\", element=\"577620a7-4dbd-4a4d-9742-27d4bfceebfb\")>,\n",
       " <selenium.webdriver.remote.webelement.WebElement (session=\"dd1e8e1887a8cc6b2f08c24dcb238407\", element=\"f0cc857f-4519-4365-b984-dc2dbe037a93\")>,\n",
       " <selenium.webdriver.remote.webelement.WebElement (session=\"dd1e8e1887a8cc6b2f08c24dcb238407\", element=\"e9769afb-fe58-4c1f-b506-325f9e2272eb\")>,\n",
       " <selenium.webdriver.remote.webelement.WebElement (session=\"dd1e8e1887a8cc6b2f08c24dcb238407\", element=\"a61e3996-b78b-4fb9-80f6-99ebca180f6e\")>,\n",
       " <selenium.webdriver.remote.webelement.WebElement (session=\"dd1e8e1887a8cc6b2f08c24dcb238407\", element=\"2b5f6890-6e63-4440-b990-466276c5d685\")>,\n",
       " <selenium.webdriver.remote.webelement.WebElement (session=\"dd1e8e1887a8cc6b2f08c24dcb238407\", element=\"4e2f5a09-a9fb-428c-b180-c9335593bb6a\")>,\n",
       " <selenium.webdriver.remote.webelement.WebElement (session=\"dd1e8e1887a8cc6b2f08c24dcb238407\", element=\"f3ba520e-c707-4166-9830-1a0744ae338d\")>,\n",
       " <selenium.webdriver.remote.webelement.WebElement (session=\"dd1e8e1887a8cc6b2f08c24dcb238407\", element=\"8a675fc5-d218-4700-9025-0afcee01b220\")>,\n",
       " <selenium.webdriver.remote.webelement.WebElement (session=\"dd1e8e1887a8cc6b2f08c24dcb238407\", element=\"fcf534b7-fc77-4b80-9b74-6bd74e5c593f\")>,\n",
       " <selenium.webdriver.remote.webelement.WebElement (session=\"dd1e8e1887a8cc6b2f08c24dcb238407\", element=\"5089e5ab-891f-478d-b6b8-3702279373a2\")>,\n",
       " <selenium.webdriver.remote.webelement.WebElement (session=\"dd1e8e1887a8cc6b2f08c24dcb238407\", element=\"2f35350f-e74b-40bf-b398-26ef9ea0a841\")>]"
      ]
     },
     "execution_count": 58,
     "metadata": {},
     "output_type": "execute_result"
    }
   ],
   "source": [
    "title_tags = driver.find_elements_by_xpath('//div[@class=\"_2WkVRV\"]')\n",
    "len(title_tags)\n",
    "title_tags[0:40]"
   ]
  },
  {
   "cell_type": "code",
   "execution_count": 59,
   "id": "68b6de6f",
   "metadata": {},
   "outputs": [
    {
     "data": {
      "text/plain": [
       "['SRPM',\n",
       " 'SUNBEE',\n",
       " 'PIRASO',\n",
       " 'DEIXELS',\n",
       " 'ROZZETTA CRAFT',\n",
       " 'Elligator',\n",
       " 'PIRASO',\n",
       " 'SHAAH COLLECTIONS',\n",
       " 'Fastrack',\n",
       " 'New Specs',\n",
       " 'Lee Topper',\n",
       " 'PIRASO',\n",
       " 'PIRASO',\n",
       " 'kingsunglasses',\n",
       " 'GANSTA',\n",
       " 'Lee Topper',\n",
       " 'ROYAL SON',\n",
       " 'Fastrack',\n",
       " 'Silver Kartz',\n",
       " 'kingsunglasses',\n",
       " 'PIRASO',\n",
       " 'SRPM',\n",
       " 'SUNBEE',\n",
       " 'Elligator',\n",
       " 'Fastrack',\n",
       " 'PHENOMENAL',\n",
       " 'SRPM',\n",
       " 'IDEE',\n",
       " 'PIRASO',\n",
       " 'kingsunglasses',\n",
       " 'ROYAL SON',\n",
       " 'New Specs',\n",
       " 'PIRASO',\n",
       " 'ROZZETTA CRAFT',\n",
       " 'SHAAH COLLECTIONS',\n",
       " 'United Colors of Benetton',\n",
       " 'Elligator',\n",
       " 'kingsunglasses',\n",
       " 'SUNBEE',\n",
       " 'ROYAL SON']"
      ]
     },
     "execution_count": 59,
     "metadata": {},
     "output_type": "execute_result"
    }
   ],
   "source": [
    "product_titles =[]\n",
    "\n",
    "for i in title_tags:\n",
    "    product_titles.append(i.text)\n",
    "len(product_titles)\n",
    "product_titles"
   ]
  },
  {
   "cell_type": "code",
   "execution_count": 60,
   "id": "82661b8f",
   "metadata": {},
   "outputs": [
    {
     "data": {
      "text/plain": [
       "[<selenium.webdriver.remote.webelement.WebElement (session=\"dd1e8e1887a8cc6b2f08c24dcb238407\", element=\"7afb2641-129a-4ee2-82be-b0a1239827da\")>,\n",
       " <selenium.webdriver.remote.webelement.WebElement (session=\"dd1e8e1887a8cc6b2f08c24dcb238407\", element=\"4dd69a2b-1b71-4fe4-a1af-37740b3ec27c\")>,\n",
       " <selenium.webdriver.remote.webelement.WebElement (session=\"dd1e8e1887a8cc6b2f08c24dcb238407\", element=\"f3a7f15e-17cc-4194-8cbd-2fe05542505f\")>,\n",
       " <selenium.webdriver.remote.webelement.WebElement (session=\"dd1e8e1887a8cc6b2f08c24dcb238407\", element=\"6c9ca1ff-52ff-455b-a84e-3603d84dda9b\")>,\n",
       " <selenium.webdriver.remote.webelement.WebElement (session=\"dd1e8e1887a8cc6b2f08c24dcb238407\", element=\"6ca8cd98-2d1e-4089-9ce9-ce69a1cd8a94\")>,\n",
       " <selenium.webdriver.remote.webelement.WebElement (session=\"dd1e8e1887a8cc6b2f08c24dcb238407\", element=\"299afab1-b750-422f-a290-233afe53955d\")>,\n",
       " <selenium.webdriver.remote.webelement.WebElement (session=\"dd1e8e1887a8cc6b2f08c24dcb238407\", element=\"192cb89f-35fd-47ff-ad50-b13b70c12526\")>,\n",
       " <selenium.webdriver.remote.webelement.WebElement (session=\"dd1e8e1887a8cc6b2f08c24dcb238407\", element=\"c910a54f-29ff-4975-94a3-a80181547acb\")>,\n",
       " <selenium.webdriver.remote.webelement.WebElement (session=\"dd1e8e1887a8cc6b2f08c24dcb238407\", element=\"cf94e7cf-1b0b-4415-aa78-07c2e9da975b\")>,\n",
       " <selenium.webdriver.remote.webelement.WebElement (session=\"dd1e8e1887a8cc6b2f08c24dcb238407\", element=\"85975ec9-e2a9-4e61-913d-3f5ffa488110\")>,\n",
       " <selenium.webdriver.remote.webelement.WebElement (session=\"dd1e8e1887a8cc6b2f08c24dcb238407\", element=\"ba309a61-786a-432b-98a9-be64b375173d\")>,\n",
       " <selenium.webdriver.remote.webelement.WebElement (session=\"dd1e8e1887a8cc6b2f08c24dcb238407\", element=\"67f71771-eda2-4f30-84f3-0236d4f8db4c\")>,\n",
       " <selenium.webdriver.remote.webelement.WebElement (session=\"dd1e8e1887a8cc6b2f08c24dcb238407\", element=\"3638b736-0d62-4294-a311-96dad96920e0\")>,\n",
       " <selenium.webdriver.remote.webelement.WebElement (session=\"dd1e8e1887a8cc6b2f08c24dcb238407\", element=\"2617a07d-8ccf-47d0-9c40-3a1407b78ca1\")>,\n",
       " <selenium.webdriver.remote.webelement.WebElement (session=\"dd1e8e1887a8cc6b2f08c24dcb238407\", element=\"a0eac9ef-9169-4d90-beea-ba2a0ad9adab\")>,\n",
       " <selenium.webdriver.remote.webelement.WebElement (session=\"dd1e8e1887a8cc6b2f08c24dcb238407\", element=\"be30cf82-bd28-4d4e-93b0-cc81b4761d16\")>,\n",
       " <selenium.webdriver.remote.webelement.WebElement (session=\"dd1e8e1887a8cc6b2f08c24dcb238407\", element=\"748dc7c1-1f1d-43d0-84aa-da65b1b1f95f\")>,\n",
       " <selenium.webdriver.remote.webelement.WebElement (session=\"dd1e8e1887a8cc6b2f08c24dcb238407\", element=\"e49f726d-9c7d-430d-9665-aa0210746133\")>,\n",
       " <selenium.webdriver.remote.webelement.WebElement (session=\"dd1e8e1887a8cc6b2f08c24dcb238407\", element=\"5c2fed66-da5a-4b34-aab0-fb4dccf1a77e\")>,\n",
       " <selenium.webdriver.remote.webelement.WebElement (session=\"dd1e8e1887a8cc6b2f08c24dcb238407\", element=\"17696765-5c4a-424e-9acc-dad431851a44\")>,\n",
       " <selenium.webdriver.remote.webelement.WebElement (session=\"dd1e8e1887a8cc6b2f08c24dcb238407\", element=\"704b12aa-937f-41d4-a3d4-282ea0680dee\")>,\n",
       " <selenium.webdriver.remote.webelement.WebElement (session=\"dd1e8e1887a8cc6b2f08c24dcb238407\", element=\"ebdade36-9c6e-482f-935c-e6cec06611e1\")>,\n",
       " <selenium.webdriver.remote.webelement.WebElement (session=\"dd1e8e1887a8cc6b2f08c24dcb238407\", element=\"bc28ed03-9c45-4376-bd97-1533d45dbd4d\")>,\n",
       " <selenium.webdriver.remote.webelement.WebElement (session=\"dd1e8e1887a8cc6b2f08c24dcb238407\", element=\"65c5be22-6903-44e2-8a5f-17ee06702fc0\")>,\n",
       " <selenium.webdriver.remote.webelement.WebElement (session=\"dd1e8e1887a8cc6b2f08c24dcb238407\", element=\"96ad4f1b-e433-45ad-999a-2dab9a36f953\")>,\n",
       " <selenium.webdriver.remote.webelement.WebElement (session=\"dd1e8e1887a8cc6b2f08c24dcb238407\", element=\"c1f958e9-202a-4a21-b496-6006fd665475\")>,\n",
       " <selenium.webdriver.remote.webelement.WebElement (session=\"dd1e8e1887a8cc6b2f08c24dcb238407\", element=\"db20761b-2ffa-4f28-b877-003c010d3684\")>,\n",
       " <selenium.webdriver.remote.webelement.WebElement (session=\"dd1e8e1887a8cc6b2f08c24dcb238407\", element=\"32f0200f-f778-4c36-9f0d-a4f1c73d2a79\")>,\n",
       " <selenium.webdriver.remote.webelement.WebElement (session=\"dd1e8e1887a8cc6b2f08c24dcb238407\", element=\"e57e9b16-52c7-4380-be77-a9bbafaf0f6b\")>,\n",
       " <selenium.webdriver.remote.webelement.WebElement (session=\"dd1e8e1887a8cc6b2f08c24dcb238407\", element=\"7b25244d-3c72-4713-911b-e44e88914b8f\")>,\n",
       " <selenium.webdriver.remote.webelement.WebElement (session=\"dd1e8e1887a8cc6b2f08c24dcb238407\", element=\"3fd0dc8b-ff6d-4946-a698-eba5e2884f94\")>,\n",
       " <selenium.webdriver.remote.webelement.WebElement (session=\"dd1e8e1887a8cc6b2f08c24dcb238407\", element=\"6fadd10e-c4d8-4b1d-98e4-9c86aa51ccc2\")>,\n",
       " <selenium.webdriver.remote.webelement.WebElement (session=\"dd1e8e1887a8cc6b2f08c24dcb238407\", element=\"ea5d1511-5345-44df-a762-441249048e0a\")>,\n",
       " <selenium.webdriver.remote.webelement.WebElement (session=\"dd1e8e1887a8cc6b2f08c24dcb238407\", element=\"fd43eaa7-fad5-4f1a-aeaf-0d40bdefbce6\")>,\n",
       " <selenium.webdriver.remote.webelement.WebElement (session=\"dd1e8e1887a8cc6b2f08c24dcb238407\", element=\"35f6bff3-87fd-4589-939c-54cc05c06b7c\")>,\n",
       " <selenium.webdriver.remote.webelement.WebElement (session=\"dd1e8e1887a8cc6b2f08c24dcb238407\", element=\"6f02f23f-1200-4618-93cc-c08284c23f0f\")>,\n",
       " <selenium.webdriver.remote.webelement.WebElement (session=\"dd1e8e1887a8cc6b2f08c24dcb238407\", element=\"5c1e1f39-e166-4b9c-9ea4-b5a8221fdcf7\")>,\n",
       " <selenium.webdriver.remote.webelement.WebElement (session=\"dd1e8e1887a8cc6b2f08c24dcb238407\", element=\"68c7c7fa-3d3a-4545-bbfb-03a7c785a30d\")>,\n",
       " <selenium.webdriver.remote.webelement.WebElement (session=\"dd1e8e1887a8cc6b2f08c24dcb238407\", element=\"ed816033-cd70-4be5-88e7-ffd50444c7a0\")>,\n",
       " <selenium.webdriver.remote.webelement.WebElement (session=\"dd1e8e1887a8cc6b2f08c24dcb238407\", element=\"2b8ade76-90ac-4fd1-8cb4-73ad40bcf433\")>]"
      ]
     },
     "execution_count": 60,
     "metadata": {},
     "output_type": "execute_result"
    }
   ],
   "source": [
    "desc_tags = driver.find_elements_by_xpath('//a[@class=\"IRpwTa\"]')\n",
    "len(desc_tags)\n",
    "desc_tags[0:40]"
   ]
  },
  {
   "cell_type": "code",
   "execution_count": 61,
   "id": "07afa9e3",
   "metadata": {},
   "outputs": [
    {
     "data": {
      "text/plain": [
       "['UV Protection Wayfarer Sunglasses (50)',\n",
       " 'UV Protection, Polarized Wayfarer Sunglasses (Free Size...',\n",
       " 'UV Protection Aviator Sunglasses (54)',\n",
       " 'UV Protection Aviator, Wayfarer Sunglasses (Free Size)',\n",
       " 'Polarized, Night Vision, Riding Glasses Sports, Wrap-ar...',\n",
       " 'UV Protection Round Sunglasses (54)',\n",
       " 'UV Protection Aviator Sunglasses (54)',\n",
       " 'UV Protection, Polarized, Mirrored Rectangular Sunglass...',\n",
       " 'UV Protection Rectangular Sunglasses (Free Size)',\n",
       " 'UV Protection Rectangular Sunglasses (Free Size)',\n",
       " 'Riding Glasses Wrap-around Sunglasses (Free Size)',\n",
       " 'UV Protection Wayfarer Sunglasses (55)',\n",
       " 'UV Protection Aviator Sunglasses (54)',\n",
       " 'UV Protection, Riding Glasses, Mirrored Wayfarer Sungla...',\n",
       " 'UV Protection, Riding Glasses Wayfarer Sunglasses (53)',\n",
       " 'UV Protection Rectangular Sunglasses (Free Size)',\n",
       " 'Mirrored Aviator Sunglasses (55)',\n",
       " 'UV Protection Wayfarer Sunglasses (Free Size)',\n",
       " 'UV Protection Wayfarer Sunglasses (Free Size)',\n",
       " 'UV Protection Round Sunglasses (54)',\n",
       " 'UV Protection Wayfarer Sunglasses (32)',\n",
       " 'UV Protection Wayfarer Sunglasses (53)',\n",
       " 'UV Protection, Polarized, Mirrored Round Sunglasses (Fr...',\n",
       " 'UV Protection Round Sunglasses (53)',\n",
       " 'Gradient, UV Protection Wayfarer Sunglasses (Free Size)',\n",
       " 'UV Protection Retro Square Sunglasses (53)',\n",
       " 'Others Wayfarer, Retro Square Sunglasses (50)',\n",
       " 'UV Protection Rectangular Sunglasses (59)',\n",
       " 'UV Protection Aviator Sunglasses (Free Size)',\n",
       " 'UV Protection Rectangular Sunglasses (Free Size)',\n",
       " 'Mirrored Aviator Sunglasses (55)',\n",
       " 'Mirrored, UV Protection, Riding Glasses, Others Round S...',\n",
       " 'UV Protection Aviator Sunglasses (58)',\n",
       " 'UV Protection Retro Square Sunglasses (Free Size)',\n",
       " 'UV Protection Round Sunglasses (Free Size)',\n",
       " 'UV Protection Wayfarer Sunglasses (56)',\n",
       " 'UV Protection Wayfarer Sunglasses (53)',\n",
       " 'Mirrored, UV Protection Wayfarer Sunglasses (Free Size)',\n",
       " 'UV Protection, Polarized, Mirrored Retro Square Sunglas...',\n",
       " 'Mirrored Aviator Sunglasses (Free Size)']"
      ]
     },
     "execution_count": 61,
     "metadata": {},
     "output_type": "execute_result"
    }
   ],
   "source": [
    "product_desc =[]\n",
    "\n",
    "for i in desc_tags:\n",
    "    product_desc.append(i.text)\n",
    "len(product_desc)\n",
    "product_desc[0:40]"
   ]
  },
  {
   "cell_type": "code",
   "execution_count": 62,
   "id": "c0b9f603",
   "metadata": {},
   "outputs": [
    {
     "data": {
      "text/plain": [
       "[<selenium.webdriver.remote.webelement.WebElement (session=\"dd1e8e1887a8cc6b2f08c24dcb238407\", element=\"70aaa437-c9e0-481c-9549-60fdfc4a4469\")>,\n",
       " <selenium.webdriver.remote.webelement.WebElement (session=\"dd1e8e1887a8cc6b2f08c24dcb238407\", element=\"859c22c2-e1f2-4247-8111-14963d632b63\")>,\n",
       " <selenium.webdriver.remote.webelement.WebElement (session=\"dd1e8e1887a8cc6b2f08c24dcb238407\", element=\"70e759cc-5cce-4402-9c97-e609c6874185\")>,\n",
       " <selenium.webdriver.remote.webelement.WebElement (session=\"dd1e8e1887a8cc6b2f08c24dcb238407\", element=\"2413207d-91e0-40e4-b7b7-1d1cc1770099\")>,\n",
       " <selenium.webdriver.remote.webelement.WebElement (session=\"dd1e8e1887a8cc6b2f08c24dcb238407\", element=\"a0e36da7-9d61-4ade-bef6-a7c5c91b27ee\")>,\n",
       " <selenium.webdriver.remote.webelement.WebElement (session=\"dd1e8e1887a8cc6b2f08c24dcb238407\", element=\"421b44cf-85c5-4c29-b0b4-6d9b54a1e32b\")>,\n",
       " <selenium.webdriver.remote.webelement.WebElement (session=\"dd1e8e1887a8cc6b2f08c24dcb238407\", element=\"b9863474-7f90-4057-a448-65491807e440\")>,\n",
       " <selenium.webdriver.remote.webelement.WebElement (session=\"dd1e8e1887a8cc6b2f08c24dcb238407\", element=\"5a40feab-f126-4cfe-814e-6be18f82d78e\")>,\n",
       " <selenium.webdriver.remote.webelement.WebElement (session=\"dd1e8e1887a8cc6b2f08c24dcb238407\", element=\"68f7789d-20a7-497c-a9f1-597da991fd3e\")>,\n",
       " <selenium.webdriver.remote.webelement.WebElement (session=\"dd1e8e1887a8cc6b2f08c24dcb238407\", element=\"97418c7d-b872-4262-b562-05b3b36e1fac\")>,\n",
       " <selenium.webdriver.remote.webelement.WebElement (session=\"dd1e8e1887a8cc6b2f08c24dcb238407\", element=\"d15c50fc-fd58-4aae-a052-466672dc2215\")>,\n",
       " <selenium.webdriver.remote.webelement.WebElement (session=\"dd1e8e1887a8cc6b2f08c24dcb238407\", element=\"c5921f69-c31f-466c-8244-b625fb544406\")>,\n",
       " <selenium.webdriver.remote.webelement.WebElement (session=\"dd1e8e1887a8cc6b2f08c24dcb238407\", element=\"eb70ba97-cfd5-4768-a04e-c3164cab676c\")>,\n",
       " <selenium.webdriver.remote.webelement.WebElement (session=\"dd1e8e1887a8cc6b2f08c24dcb238407\", element=\"f001b23f-256c-4bb6-b7a3-0c82c6f1fbdd\")>,\n",
       " <selenium.webdriver.remote.webelement.WebElement (session=\"dd1e8e1887a8cc6b2f08c24dcb238407\", element=\"da1c9cb3-b1aa-46f5-85ca-b6bc1ae97130\")>,\n",
       " <selenium.webdriver.remote.webelement.WebElement (session=\"dd1e8e1887a8cc6b2f08c24dcb238407\", element=\"0cb9e967-4f12-471b-a03e-ac22161f24e4\")>,\n",
       " <selenium.webdriver.remote.webelement.WebElement (session=\"dd1e8e1887a8cc6b2f08c24dcb238407\", element=\"611a633d-2f4e-452e-b082-137fc1c98f2d\")>,\n",
       " <selenium.webdriver.remote.webelement.WebElement (session=\"dd1e8e1887a8cc6b2f08c24dcb238407\", element=\"d2809ae9-add3-4199-8c22-69ef396df208\")>,\n",
       " <selenium.webdriver.remote.webelement.WebElement (session=\"dd1e8e1887a8cc6b2f08c24dcb238407\", element=\"a6417f97-3176-4b3f-9cd9-40e5c3aaeae3\")>,\n",
       " <selenium.webdriver.remote.webelement.WebElement (session=\"dd1e8e1887a8cc6b2f08c24dcb238407\", element=\"b2389420-ccc4-4331-9be1-b9ff78c83da0\")>,\n",
       " <selenium.webdriver.remote.webelement.WebElement (session=\"dd1e8e1887a8cc6b2f08c24dcb238407\", element=\"45bd8ba8-8b78-4099-8a37-f2b86e3a05ec\")>,\n",
       " <selenium.webdriver.remote.webelement.WebElement (session=\"dd1e8e1887a8cc6b2f08c24dcb238407\", element=\"465ce5c9-6f0e-4002-a057-08a5693c2dff\")>,\n",
       " <selenium.webdriver.remote.webelement.WebElement (session=\"dd1e8e1887a8cc6b2f08c24dcb238407\", element=\"142486b6-ea6e-403a-a7a8-a93aaafe4743\")>,\n",
       " <selenium.webdriver.remote.webelement.WebElement (session=\"dd1e8e1887a8cc6b2f08c24dcb238407\", element=\"e5290929-f496-43f6-b612-91f47433e1a7\")>,\n",
       " <selenium.webdriver.remote.webelement.WebElement (session=\"dd1e8e1887a8cc6b2f08c24dcb238407\", element=\"ebfd5293-9b91-4afa-baae-c083fb7bab13\")>,\n",
       " <selenium.webdriver.remote.webelement.WebElement (session=\"dd1e8e1887a8cc6b2f08c24dcb238407\", element=\"b61f7238-3ac6-42ad-984b-79c9e7d2c93c\")>,\n",
       " <selenium.webdriver.remote.webelement.WebElement (session=\"dd1e8e1887a8cc6b2f08c24dcb238407\", element=\"1bd932bd-e459-4446-9e1b-df1e1b130cc3\")>,\n",
       " <selenium.webdriver.remote.webelement.WebElement (session=\"dd1e8e1887a8cc6b2f08c24dcb238407\", element=\"6914e921-6d08-425a-b526-bfb2167ce6eb\")>,\n",
       " <selenium.webdriver.remote.webelement.WebElement (session=\"dd1e8e1887a8cc6b2f08c24dcb238407\", element=\"01676070-ee8e-447d-9f1c-5c3785d39d04\")>,\n",
       " <selenium.webdriver.remote.webelement.WebElement (session=\"dd1e8e1887a8cc6b2f08c24dcb238407\", element=\"9033462f-aeef-4f98-9794-5725b7afa8ab\")>,\n",
       " <selenium.webdriver.remote.webelement.WebElement (session=\"dd1e8e1887a8cc6b2f08c24dcb238407\", element=\"78205081-ce66-4fc7-9e63-8469825df916\")>,\n",
       " <selenium.webdriver.remote.webelement.WebElement (session=\"dd1e8e1887a8cc6b2f08c24dcb238407\", element=\"08036c90-c592-463c-a948-e51c27f29b7c\")>,\n",
       " <selenium.webdriver.remote.webelement.WebElement (session=\"dd1e8e1887a8cc6b2f08c24dcb238407\", element=\"218ebdfb-5a18-4c72-8d10-0027127c7e1f\")>,\n",
       " <selenium.webdriver.remote.webelement.WebElement (session=\"dd1e8e1887a8cc6b2f08c24dcb238407\", element=\"cedff23b-c33e-47ab-a14a-cc1bb6c1a049\")>,\n",
       " <selenium.webdriver.remote.webelement.WebElement (session=\"dd1e8e1887a8cc6b2f08c24dcb238407\", element=\"c9dd3fdf-888d-4fcb-90a8-6a976b4706f5\")>,\n",
       " <selenium.webdriver.remote.webelement.WebElement (session=\"dd1e8e1887a8cc6b2f08c24dcb238407\", element=\"5479e445-ad80-4a49-aea1-eb9f69c39ee5\")>,\n",
       " <selenium.webdriver.remote.webelement.WebElement (session=\"dd1e8e1887a8cc6b2f08c24dcb238407\", element=\"dbb14baf-6e4b-48fd-badc-c1eec99ba671\")>,\n",
       " <selenium.webdriver.remote.webelement.WebElement (session=\"dd1e8e1887a8cc6b2f08c24dcb238407\", element=\"7e264b34-ecf2-466e-a007-7941c3f576ab\")>,\n",
       " <selenium.webdriver.remote.webelement.WebElement (session=\"dd1e8e1887a8cc6b2f08c24dcb238407\", element=\"fa574605-1324-46ef-8928-49aa976da19a\")>,\n",
       " <selenium.webdriver.remote.webelement.WebElement (session=\"dd1e8e1887a8cc6b2f08c24dcb238407\", element=\"bd3c8603-496d-45fe-ac13-5419720ca46b\")>]"
      ]
     },
     "execution_count": 62,
     "metadata": {},
     "output_type": "execute_result"
    }
   ],
   "source": [
    "price_tags = driver.find_elements_by_xpath('//a[@class=\"_3bPFwb\"]')\n",
    "len(price_tags)\n",
    "price_tags[0:40]"
   ]
  },
  {
   "cell_type": "code",
   "execution_count": 63,
   "id": "231d9ecf",
   "metadata": {},
   "outputs": [
    {
     "data": {
      "text/plain": [
       "['₹198₹1,29984% off',\n",
       " '₹253₹1,29980% off',\n",
       " '₹229₹1,59985% off',\n",
       " '₹229₹1,19980% off',\n",
       " '₹474₹1,99976% off',\n",
       " '₹258₹2,49589% off',\n",
       " '₹225₹1,59985% off',\n",
       " '₹165₹1,69990% off',\n",
       " '₹679₹79915% off\\nFree delivery',\n",
       " '₹232₹2,59991% off',\n",
       " '₹275₹2,49988% off',\n",
       " '₹225₹1,59985% off',\n",
       " '₹225₹1,59985% off',\n",
       " '₹184₹1,19984% off',\n",
       " '₹198₹1,79988% off',\n",
       " '₹199₹99980% off',\n",
       " '₹379₹1,49974% off',\n",
       " '₹639₹79920% off\\nFree delivery',\n",
       " '₹246₹1,49983% off',\n",
       " '₹186₹99981% off',\n",
       " '₹225₹1,59985% off',\n",
       " '₹220₹99877% off',\n",
       " '₹284₹1,69983% off',\n",
       " '₹189₹99881% off',\n",
       " '₹709₹89921% off\\nFree delivery',\n",
       " '₹289₹99971% off',\n",
       " '₹178₹99982% off',\n",
       " '₹1,009₹2,45058% off\\nFree delivery',\n",
       " '₹299₹1,59981% off',\n",
       " '₹180₹1,09983% off',\n",
       " '₹379₹1,49974% off',\n",
       " '₹263₹1,39981% off',\n",
       " '₹349₹2,59986% off',\n",
       " '₹474₹2,22578% off',\n",
       " '₹284₹1,69983% off',\n",
       " '₹949₹3,70074% off\\nFree delivery',\n",
       " '₹176₹1,49788% off',\n",
       " '₹239₹1,99988% off',\n",
       " '₹230₹1,29982% off',\n",
       " '₹379₹1,49974% off']"
      ]
     },
     "execution_count": 63,
     "metadata": {},
     "output_type": "execute_result"
    }
   ],
   "source": [
    "rate_tag = []\n",
    "for i in price_tags:\n",
    "    rate_tag.append(i.text)\n",
    "len(rate_tag)\n",
    "rate_tag[0:40]"
   ]
  },
  {
   "cell_type": "code",
   "execution_count": 64,
   "id": "a641cd9e",
   "metadata": {},
   "outputs": [
    {
     "data": {
      "text/plain": [
       "<selenium.webdriver.remote.webelement.WebElement (session=\"dd1e8e1887a8cc6b2f08c24dcb238407\", element=\"c0771815-acc4-45ff-9ba0-0566f5e4ad24\")>"
      ]
     },
     "execution_count": 64,
     "metadata": {},
     "output_type": "execute_result"
    }
   ],
   "source": [
    "next_btn = driver.find_element_by_xpath('/html/body/div/div/div[3]/div[1]/div[2]/div[12]/div/div/nav/a[11]')\n",
    "next_btn"
   ]
  },
  {
   "cell_type": "code",
   "execution_count": 65,
   "id": "f7201c7a",
   "metadata": {},
   "outputs": [],
   "source": [
    "next_btn.click()"
   ]
  },
  {
   "cell_type": "code",
   "execution_count": 66,
   "id": "8cd0fd60",
   "metadata": {},
   "outputs": [
    {
     "data": {
      "text/plain": [
       "[<selenium.webdriver.remote.webelement.WebElement (session=\"dd1e8e1887a8cc6b2f08c24dcb238407\", element=\"db148e4f-02f0-49de-b7d5-d27121b79b96\")>,\n",
       " <selenium.webdriver.remote.webelement.WebElement (session=\"dd1e8e1887a8cc6b2f08c24dcb238407\", element=\"9c9db4d8-a909-459a-a71a-359af71995ed\")>,\n",
       " <selenium.webdriver.remote.webelement.WebElement (session=\"dd1e8e1887a8cc6b2f08c24dcb238407\", element=\"e61bd9d0-da6f-4f34-85d8-de7987798446\")>,\n",
       " <selenium.webdriver.remote.webelement.WebElement (session=\"dd1e8e1887a8cc6b2f08c24dcb238407\", element=\"09a35dee-f333-4b69-b26a-d4fc9d8b3810\")>,\n",
       " <selenium.webdriver.remote.webelement.WebElement (session=\"dd1e8e1887a8cc6b2f08c24dcb238407\", element=\"f263c1b1-d5f8-4feb-8241-6164167ca291\")>,\n",
       " <selenium.webdriver.remote.webelement.WebElement (session=\"dd1e8e1887a8cc6b2f08c24dcb238407\", element=\"47c7ef75-ad89-43b9-bcc2-bc1f5f480f22\")>,\n",
       " <selenium.webdriver.remote.webelement.WebElement (session=\"dd1e8e1887a8cc6b2f08c24dcb238407\", element=\"ae52c89e-f88f-46d4-b37f-ccb9a1d57443\")>,\n",
       " <selenium.webdriver.remote.webelement.WebElement (session=\"dd1e8e1887a8cc6b2f08c24dcb238407\", element=\"2f69b835-c830-4ca3-92f9-a654fc507707\")>,\n",
       " <selenium.webdriver.remote.webelement.WebElement (session=\"dd1e8e1887a8cc6b2f08c24dcb238407\", element=\"fb407408-7ed0-4aad-aab4-4c3e5b9eefad\")>,\n",
       " <selenium.webdriver.remote.webelement.WebElement (session=\"dd1e8e1887a8cc6b2f08c24dcb238407\", element=\"a87e6aaa-4ff0-4fa3-b50d-ba6ed1614965\")>,\n",
       " <selenium.webdriver.remote.webelement.WebElement (session=\"dd1e8e1887a8cc6b2f08c24dcb238407\", element=\"3a66188b-8fa6-47ce-8bee-db577112ecd0\")>,\n",
       " <selenium.webdriver.remote.webelement.WebElement (session=\"dd1e8e1887a8cc6b2f08c24dcb238407\", element=\"35dd78f5-b314-4852-a013-76c79ef8b1ce\")>,\n",
       " <selenium.webdriver.remote.webelement.WebElement (session=\"dd1e8e1887a8cc6b2f08c24dcb238407\", element=\"4776b220-6c9b-4ee5-abcd-98739dfe3fce\")>,\n",
       " <selenium.webdriver.remote.webelement.WebElement (session=\"dd1e8e1887a8cc6b2f08c24dcb238407\", element=\"b0533402-e32e-4697-b9fa-03c28350188f\")>,\n",
       " <selenium.webdriver.remote.webelement.WebElement (session=\"dd1e8e1887a8cc6b2f08c24dcb238407\", element=\"b8e1607e-410a-4358-9edb-fb4b29497f1a\")>,\n",
       " <selenium.webdriver.remote.webelement.WebElement (session=\"dd1e8e1887a8cc6b2f08c24dcb238407\", element=\"1c18daf1-08ad-4ee2-b896-5b7c6357f7c6\")>,\n",
       " <selenium.webdriver.remote.webelement.WebElement (session=\"dd1e8e1887a8cc6b2f08c24dcb238407\", element=\"088f1bde-6d07-47d5-bad5-fe58196ae06a\")>,\n",
       " <selenium.webdriver.remote.webelement.WebElement (session=\"dd1e8e1887a8cc6b2f08c24dcb238407\", element=\"377d3a38-e7c6-4ce7-8dc0-c7487f009391\")>,\n",
       " <selenium.webdriver.remote.webelement.WebElement (session=\"dd1e8e1887a8cc6b2f08c24dcb238407\", element=\"f75c25c6-8ca0-4c2c-aec4-70c9f2402eb4\")>,\n",
       " <selenium.webdriver.remote.webelement.WebElement (session=\"dd1e8e1887a8cc6b2f08c24dcb238407\", element=\"018782e2-9f3c-4dae-a98d-1bc6224b9ee8\")>,\n",
       " <selenium.webdriver.remote.webelement.WebElement (session=\"dd1e8e1887a8cc6b2f08c24dcb238407\", element=\"efeff48c-058c-4624-be15-7d899ffff7a9\")>,\n",
       " <selenium.webdriver.remote.webelement.WebElement (session=\"dd1e8e1887a8cc6b2f08c24dcb238407\", element=\"f4d22408-7944-4be4-a173-9fc7aa46cddd\")>,\n",
       " <selenium.webdriver.remote.webelement.WebElement (session=\"dd1e8e1887a8cc6b2f08c24dcb238407\", element=\"7e77dd78-9601-4a44-9062-9df0734842ab\")>,\n",
       " <selenium.webdriver.remote.webelement.WebElement (session=\"dd1e8e1887a8cc6b2f08c24dcb238407\", element=\"79bb7c0a-7712-4ee3-825b-dec65831a530\")>,\n",
       " <selenium.webdriver.remote.webelement.WebElement (session=\"dd1e8e1887a8cc6b2f08c24dcb238407\", element=\"ece0d126-fd7f-47c2-b8c9-2eacb9b17f9e\")>,\n",
       " <selenium.webdriver.remote.webelement.WebElement (session=\"dd1e8e1887a8cc6b2f08c24dcb238407\", element=\"9450d52a-10e5-440e-8cce-b1f5873564e0\")>,\n",
       " <selenium.webdriver.remote.webelement.WebElement (session=\"dd1e8e1887a8cc6b2f08c24dcb238407\", element=\"c61482d8-7446-4eff-94f8-66323cdd6fde\")>,\n",
       " <selenium.webdriver.remote.webelement.WebElement (session=\"dd1e8e1887a8cc6b2f08c24dcb238407\", element=\"abbab2a4-d41b-48f3-94cd-0a52815ec171\")>,\n",
       " <selenium.webdriver.remote.webelement.WebElement (session=\"dd1e8e1887a8cc6b2f08c24dcb238407\", element=\"9636b26b-fd51-4173-8310-62af6b98ec50\")>,\n",
       " <selenium.webdriver.remote.webelement.WebElement (session=\"dd1e8e1887a8cc6b2f08c24dcb238407\", element=\"c032a861-c5ed-4569-9359-40c8bad968eb\")>,\n",
       " <selenium.webdriver.remote.webelement.WebElement (session=\"dd1e8e1887a8cc6b2f08c24dcb238407\", element=\"2bf6c7e3-cdbf-4771-8cb8-7714c956427b\")>,\n",
       " <selenium.webdriver.remote.webelement.WebElement (session=\"dd1e8e1887a8cc6b2f08c24dcb238407\", element=\"d1f3dc72-b063-4469-bf06-2e6bde04562c\")>,\n",
       " <selenium.webdriver.remote.webelement.WebElement (session=\"dd1e8e1887a8cc6b2f08c24dcb238407\", element=\"9da16471-687d-4a92-86ac-22f96c109b82\")>,\n",
       " <selenium.webdriver.remote.webelement.WebElement (session=\"dd1e8e1887a8cc6b2f08c24dcb238407\", element=\"87bbc2cd-3c9d-404b-b450-a890ab903662\")>,\n",
       " <selenium.webdriver.remote.webelement.WebElement (session=\"dd1e8e1887a8cc6b2f08c24dcb238407\", element=\"e62c7d55-04b7-4fb8-9510-beae5db5ee33\")>,\n",
       " <selenium.webdriver.remote.webelement.WebElement (session=\"dd1e8e1887a8cc6b2f08c24dcb238407\", element=\"ccc2acc4-7813-4dd1-9572-2451ae3aff04\")>,\n",
       " <selenium.webdriver.remote.webelement.WebElement (session=\"dd1e8e1887a8cc6b2f08c24dcb238407\", element=\"ec08e572-f36c-45b9-a344-44e4fc54fe52\")>,\n",
       " <selenium.webdriver.remote.webelement.WebElement (session=\"dd1e8e1887a8cc6b2f08c24dcb238407\", element=\"16c45b1e-3e25-4d86-9df1-2509bbf323c3\")>,\n",
       " <selenium.webdriver.remote.webelement.WebElement (session=\"dd1e8e1887a8cc6b2f08c24dcb238407\", element=\"9ec223a9-afce-4991-845d-3b2bec3b5647\")>,\n",
       " <selenium.webdriver.remote.webelement.WebElement (session=\"dd1e8e1887a8cc6b2f08c24dcb238407\", element=\"4c300e05-bb95-4310-896b-cd3d91f309b6\")>]"
      ]
     },
     "execution_count": 66,
     "metadata": {},
     "output_type": "execute_result"
    }
   ],
   "source": [
    "title_tags = driver.find_elements_by_xpath('//div[@class=\"_2WkVRV\"]')\n",
    "len(title_tags)\n",
    "title_tags[0:40]"
   ]
  },
  {
   "cell_type": "code",
   "execution_count": 67,
   "id": "b6906ae6",
   "metadata": {},
   "outputs": [
    {
     "data": {
      "text/plain": [
       "['ROYAL SON',\n",
       " 'kingsunglasses',\n",
       " 'SUNBEE',\n",
       " 'Elligator',\n",
       " 'SHAAH COLLECTIONS',\n",
       " 'Silver Kartz',\n",
       " 'kingsunglasses',\n",
       " 'Fastrack',\n",
       " 'PHENOMENAL',\n",
       " 'Rich Club',\n",
       " 'PIRASO',\n",
       " 'PIRASO',\n",
       " 'New Specs',\n",
       " 'DEIXELS',\n",
       " 'ROYAL SON',\n",
       " 'kingsunglasses',\n",
       " 'Singco India',\n",
       " 'SUNBEE',\n",
       " 'Rich Club',\n",
       " 'kingsunglasses',\n",
       " 'PHENOMENAL',\n",
       " 'kingsunglasses',\n",
       " 'ROZZETTA CRAFT',\n",
       " 'Lee Topper',\n",
       " 'ROZZETTA CRAFT',\n",
       " 'Fastrack',\n",
       " 'ROZZETTA CRAFT',\n",
       " 'SUNBEE',\n",
       " 'VINCENT CHASE',\n",
       " 'New Specs',\n",
       " 'Fastrack',\n",
       " 'IDEE',\n",
       " 'SRPM',\n",
       " 'Singco India',\n",
       " 'Poloport',\n",
       " 'ROYAL SON',\n",
       " 'hipe',\n",
       " 'Fastrack',\n",
       " 'PHENOMENAL',\n",
       " 'Fastrack']"
      ]
     },
     "execution_count": 67,
     "metadata": {},
     "output_type": "execute_result"
    }
   ],
   "source": [
    "product_titles =[]\n",
    "\n",
    "for i in title_tags:\n",
    "    product_titles.append(i.text)\n",
    "len(product_titles)\n",
    "product_titles"
   ]
  },
  {
   "cell_type": "code",
   "execution_count": 68,
   "id": "9e16f82c",
   "metadata": {},
   "outputs": [
    {
     "data": {
      "text/plain": [
       "[<selenium.webdriver.remote.webelement.WebElement (session=\"dd1e8e1887a8cc6b2f08c24dcb238407\", element=\"187d3f3e-bbb5-4806-8d5c-d98f17ec62bc\")>,\n",
       " <selenium.webdriver.remote.webelement.WebElement (session=\"dd1e8e1887a8cc6b2f08c24dcb238407\", element=\"d59fbf43-3f79-497e-8558-fb8841d349bf\")>,\n",
       " <selenium.webdriver.remote.webelement.WebElement (session=\"dd1e8e1887a8cc6b2f08c24dcb238407\", element=\"c84de217-0a15-4f7d-9204-3fbcec1eaac4\")>,\n",
       " <selenium.webdriver.remote.webelement.WebElement (session=\"dd1e8e1887a8cc6b2f08c24dcb238407\", element=\"fee660ce-fbdf-4603-94a2-85d54a93eff2\")>,\n",
       " <selenium.webdriver.remote.webelement.WebElement (session=\"dd1e8e1887a8cc6b2f08c24dcb238407\", element=\"a9067def-c761-4d94-bbca-dfeb4f5424c7\")>,\n",
       " <selenium.webdriver.remote.webelement.WebElement (session=\"dd1e8e1887a8cc6b2f08c24dcb238407\", element=\"b156ebf9-ad06-45f1-ba0a-3d6632b985dc\")>,\n",
       " <selenium.webdriver.remote.webelement.WebElement (session=\"dd1e8e1887a8cc6b2f08c24dcb238407\", element=\"94ba835f-06a5-464a-bbc0-21ef356551b3\")>,\n",
       " <selenium.webdriver.remote.webelement.WebElement (session=\"dd1e8e1887a8cc6b2f08c24dcb238407\", element=\"0255eb33-54be-4673-9ab7-b81630cc5f6e\")>,\n",
       " <selenium.webdriver.remote.webelement.WebElement (session=\"dd1e8e1887a8cc6b2f08c24dcb238407\", element=\"389bbd0a-2a12-4153-875c-99eb118e345e\")>,\n",
       " <selenium.webdriver.remote.webelement.WebElement (session=\"dd1e8e1887a8cc6b2f08c24dcb238407\", element=\"40c7ac22-93a5-4530-ada6-ae199adf3478\")>,\n",
       " <selenium.webdriver.remote.webelement.WebElement (session=\"dd1e8e1887a8cc6b2f08c24dcb238407\", element=\"394dff57-f7cc-46f3-ae86-aba201c47d0b\")>,\n",
       " <selenium.webdriver.remote.webelement.WebElement (session=\"dd1e8e1887a8cc6b2f08c24dcb238407\", element=\"ea3c188c-f4e0-4b6b-8e44-5dbf25a3fb62\")>,\n",
       " <selenium.webdriver.remote.webelement.WebElement (session=\"dd1e8e1887a8cc6b2f08c24dcb238407\", element=\"88bf6594-cb7e-48ae-b7a0-e8af330f5c77\")>,\n",
       " <selenium.webdriver.remote.webelement.WebElement (session=\"dd1e8e1887a8cc6b2f08c24dcb238407\", element=\"0d11ca86-4fcb-4874-ab85-a001103e1113\")>,\n",
       " <selenium.webdriver.remote.webelement.WebElement (session=\"dd1e8e1887a8cc6b2f08c24dcb238407\", element=\"c976e0a1-fa30-4970-8e42-fda86657d3c5\")>,\n",
       " <selenium.webdriver.remote.webelement.WebElement (session=\"dd1e8e1887a8cc6b2f08c24dcb238407\", element=\"66154961-40f3-44d9-8b3e-280314382c80\")>,\n",
       " <selenium.webdriver.remote.webelement.WebElement (session=\"dd1e8e1887a8cc6b2f08c24dcb238407\", element=\"fed2ae0c-d5d0-4e2b-9d71-b54f40db076c\")>,\n",
       " <selenium.webdriver.remote.webelement.WebElement (session=\"dd1e8e1887a8cc6b2f08c24dcb238407\", element=\"dbb28c10-d537-493b-9116-5b57f8349c50\")>,\n",
       " <selenium.webdriver.remote.webelement.WebElement (session=\"dd1e8e1887a8cc6b2f08c24dcb238407\", element=\"fc5abd8a-e233-4690-9f98-50e5f3885835\")>,\n",
       " <selenium.webdriver.remote.webelement.WebElement (session=\"dd1e8e1887a8cc6b2f08c24dcb238407\", element=\"3b8fad62-60fc-4996-b58a-df57b6fcf948\")>,\n",
       " <selenium.webdriver.remote.webelement.WebElement (session=\"dd1e8e1887a8cc6b2f08c24dcb238407\", element=\"27e3b603-8c2c-438c-af1f-3ef857999928\")>,\n",
       " <selenium.webdriver.remote.webelement.WebElement (session=\"dd1e8e1887a8cc6b2f08c24dcb238407\", element=\"3f26800f-fc6f-4ea4-9091-478830c91da0\")>,\n",
       " <selenium.webdriver.remote.webelement.WebElement (session=\"dd1e8e1887a8cc6b2f08c24dcb238407\", element=\"e8a25950-aff6-4dbf-ad6a-41c4a265a906\")>,\n",
       " <selenium.webdriver.remote.webelement.WebElement (session=\"dd1e8e1887a8cc6b2f08c24dcb238407\", element=\"87dafafb-de37-461f-a240-60b95b7e94b2\")>,\n",
       " <selenium.webdriver.remote.webelement.WebElement (session=\"dd1e8e1887a8cc6b2f08c24dcb238407\", element=\"2be54307-0658-48f5-9f35-0fbcafa43ca5\")>,\n",
       " <selenium.webdriver.remote.webelement.WebElement (session=\"dd1e8e1887a8cc6b2f08c24dcb238407\", element=\"7c33fa81-09ad-492c-a706-fddae526b772\")>,\n",
       " <selenium.webdriver.remote.webelement.WebElement (session=\"dd1e8e1887a8cc6b2f08c24dcb238407\", element=\"f75b4c27-3c70-4f97-ae34-5355b53f1312\")>,\n",
       " <selenium.webdriver.remote.webelement.WebElement (session=\"dd1e8e1887a8cc6b2f08c24dcb238407\", element=\"939ef0ad-d721-4c6c-ab65-87c90a34c737\")>,\n",
       " <selenium.webdriver.remote.webelement.WebElement (session=\"dd1e8e1887a8cc6b2f08c24dcb238407\", element=\"08cb2923-5ad2-48aa-8c4f-aa6ef885a40a\")>,\n",
       " <selenium.webdriver.remote.webelement.WebElement (session=\"dd1e8e1887a8cc6b2f08c24dcb238407\", element=\"1e4cda26-bdb4-42b4-9f71-856669f675cc\")>,\n",
       " <selenium.webdriver.remote.webelement.WebElement (session=\"dd1e8e1887a8cc6b2f08c24dcb238407\", element=\"6582918a-48cb-4e32-9421-a34c811678cc\")>,\n",
       " <selenium.webdriver.remote.webelement.WebElement (session=\"dd1e8e1887a8cc6b2f08c24dcb238407\", element=\"6e8786f0-7013-4073-9037-101d067ac4a8\")>,\n",
       " <selenium.webdriver.remote.webelement.WebElement (session=\"dd1e8e1887a8cc6b2f08c24dcb238407\", element=\"de2ee637-542f-4724-81f4-6b126a4f4a7a\")>,\n",
       " <selenium.webdriver.remote.webelement.WebElement (session=\"dd1e8e1887a8cc6b2f08c24dcb238407\", element=\"305b70ec-f43f-4e57-ae25-773369d55711\")>,\n",
       " <selenium.webdriver.remote.webelement.WebElement (session=\"dd1e8e1887a8cc6b2f08c24dcb238407\", element=\"f12d48a1-75c2-4fc9-bdc4-aea3ae95230f\")>,\n",
       " <selenium.webdriver.remote.webelement.WebElement (session=\"dd1e8e1887a8cc6b2f08c24dcb238407\", element=\"3bc14795-32b9-4b6d-a63f-ad8ab7398caa\")>,\n",
       " <selenium.webdriver.remote.webelement.WebElement (session=\"dd1e8e1887a8cc6b2f08c24dcb238407\", element=\"47c90aab-a94a-4e37-9e4b-7f89c6bdb0e3\")>,\n",
       " <selenium.webdriver.remote.webelement.WebElement (session=\"dd1e8e1887a8cc6b2f08c24dcb238407\", element=\"1264efc3-4ec7-4916-979b-ece1360354fe\")>,\n",
       " <selenium.webdriver.remote.webelement.WebElement (session=\"dd1e8e1887a8cc6b2f08c24dcb238407\", element=\"5df7a73d-76c8-4c6d-be6d-55cf47db8677\")>,\n",
       " <selenium.webdriver.remote.webelement.WebElement (session=\"dd1e8e1887a8cc6b2f08c24dcb238407\", element=\"56024f39-27c8-4bb3-9704-a4b0c87511b7\")>]"
      ]
     },
     "execution_count": 68,
     "metadata": {},
     "output_type": "execute_result"
    }
   ],
   "source": [
    "desc_tags = driver.find_elements_by_xpath('//a[@class=\"IRpwTa\"]')\n",
    "len(desc_tags)\n",
    "desc_tags[0:40]"
   ]
  },
  {
   "cell_type": "code",
   "execution_count": 69,
   "id": "aea1b988",
   "metadata": {},
   "outputs": [
    {
     "data": {
      "text/plain": [
       "['Mirrored Aviator Sunglasses (Free Size)',\n",
       " 'Mirrored, UV Protection Wayfarer Sunglasses (Free Size)',\n",
       " 'UV Protection, Polarized, Mirrored Retro Square Sunglas...',\n",
       " 'UV Protection Wayfarer Sunglasses (53)',\n",
       " 'UV Protection, Polarized, Mirrored Rectangular Sunglass...',\n",
       " 'UV Protection Aviator Sunglasses (88)',\n",
       " 'UV Protection Round Sunglasses (Free Size)',\n",
       " 'Gradient, UV Protection Wayfarer Sunglasses (Free Size)',\n",
       " 'UV Protection Retro Square Sunglasses (Free Size)',\n",
       " 'UV Protection Round Sunglasses (48)',\n",
       " 'UV Protection Butterfly Sunglasses (65)',\n",
       " 'UV Protection Butterfly Sunglasses (60)',\n",
       " 'UV Protection Aviator Sunglasses (Free Size)',\n",
       " 'UV Protection Wayfarer Sunglasses (Free Size)',\n",
       " 'UV Protection Rectangular Sunglasses (58)',\n",
       " 'Mirrored, UV Protection Wayfarer, Rectangular Sunglasse...',\n",
       " 'Riding Glasses, UV Protection, Others Aviator Sunglasse...',\n",
       " 'UV Protection, Polarized, Mirrored Wayfarer Sunglasses ...',\n",
       " 'Polarized Round Sunglasses (48)',\n",
       " 'Mirrored, UV Protection Aviator Sunglasses (56)',\n",
       " 'UV Protection, Mirrored Retro Square Sunglasses (53)',\n",
       " 'UV Protection, Mirrored Round Sunglasses (Free Size)',\n",
       " 'UV Protection, Gradient Rectangular Sunglasses (Free Si...',\n",
       " 'UV Protection, Riding Glasses Retro Square, Spectacle ...',\n",
       " 'UV Protection Aviator Sunglasses (62)',\n",
       " 'UV Protection Wayfarer Sunglasses (Free Size)',\n",
       " 'UV Protection, Gradient Round Sunglasses (Free Size)',\n",
       " 'UV Protection, Polarized, Mirrored Wayfarer Sunglasses ...',\n",
       " 'by Lenskart Polarized, UV Protection Wayfarer Sunglasse...',\n",
       " 'UV Protection, Mirrored Sports Sunglasses (Free Size)',\n",
       " 'UV Protection Wrap-around Sunglasses (Free Size)',\n",
       " 'UV Protection Cat-eye Sunglasses (17)',\n",
       " 'Night Vision, UV Protection Round Sunglasses (54)',\n",
       " 'Mirrored, Riding Glasses, Others Sports Sunglasses (50)',\n",
       " 'UV Protection Wayfarer Sunglasses (Free Size)',\n",
       " 'Polarized Rectangular Sunglasses (60)',\n",
       " 'Mirrored, UV Protection, Gradient Round Sunglasses (55)',\n",
       " 'UV Protection Shield Sunglasses (Free Size)',\n",
       " 'UV Protection Clubmaster Sunglasses (Free Size)',\n",
       " 'UV Protection Wayfarer Sunglasses (Free Size)']"
      ]
     },
     "execution_count": 69,
     "metadata": {},
     "output_type": "execute_result"
    }
   ],
   "source": [
    "product_desc =[]\n",
    "\n",
    "for i in desc_tags:\n",
    "    product_desc.append(i.text)\n",
    "len(product_desc)\n",
    "product_desc[0:40]"
   ]
  },
  {
   "cell_type": "code",
   "execution_count": 70,
   "id": "f4acf0bc",
   "metadata": {},
   "outputs": [
    {
     "data": {
      "text/plain": [
       "[<selenium.webdriver.remote.webelement.WebElement (session=\"dd1e8e1887a8cc6b2f08c24dcb238407\", element=\"bda98bc2-e23d-439d-8a68-62a5086497bf\")>,\n",
       " <selenium.webdriver.remote.webelement.WebElement (session=\"dd1e8e1887a8cc6b2f08c24dcb238407\", element=\"31ce6187-d742-4344-9b64-788be4313a0e\")>,\n",
       " <selenium.webdriver.remote.webelement.WebElement (session=\"dd1e8e1887a8cc6b2f08c24dcb238407\", element=\"64bb3c10-0a41-4021-b8b2-ec44b19a7a8c\")>,\n",
       " <selenium.webdriver.remote.webelement.WebElement (session=\"dd1e8e1887a8cc6b2f08c24dcb238407\", element=\"2ba46b98-2dbf-4c76-9d63-191e6eb102e0\")>,\n",
       " <selenium.webdriver.remote.webelement.WebElement (session=\"dd1e8e1887a8cc6b2f08c24dcb238407\", element=\"9fa5829a-e5d0-4df9-84f6-6e50692d3ca5\")>,\n",
       " <selenium.webdriver.remote.webelement.WebElement (session=\"dd1e8e1887a8cc6b2f08c24dcb238407\", element=\"c0f8be75-fecf-467a-9161-37fcc68794e8\")>,\n",
       " <selenium.webdriver.remote.webelement.WebElement (session=\"dd1e8e1887a8cc6b2f08c24dcb238407\", element=\"8c2e6b6a-1050-4ae8-a5d6-e72c15b58d60\")>,\n",
       " <selenium.webdriver.remote.webelement.WebElement (session=\"dd1e8e1887a8cc6b2f08c24dcb238407\", element=\"dafc86b9-a57f-4fe7-a5f9-cae73f7654c7\")>,\n",
       " <selenium.webdriver.remote.webelement.WebElement (session=\"dd1e8e1887a8cc6b2f08c24dcb238407\", element=\"536b815a-7714-4e84-ade8-8d909f3dbca8\")>,\n",
       " <selenium.webdriver.remote.webelement.WebElement (session=\"dd1e8e1887a8cc6b2f08c24dcb238407\", element=\"7db52dfa-cb15-4416-a1cb-e609ed78c4a5\")>,\n",
       " <selenium.webdriver.remote.webelement.WebElement (session=\"dd1e8e1887a8cc6b2f08c24dcb238407\", element=\"6638ec94-3d05-4638-a62c-10a372e4b658\")>,\n",
       " <selenium.webdriver.remote.webelement.WebElement (session=\"dd1e8e1887a8cc6b2f08c24dcb238407\", element=\"8fc30dd7-8ddc-49df-8f7e-f7a838a59125\")>,\n",
       " <selenium.webdriver.remote.webelement.WebElement (session=\"dd1e8e1887a8cc6b2f08c24dcb238407\", element=\"7f6f0043-6292-4848-bbee-3d78a9cdf592\")>,\n",
       " <selenium.webdriver.remote.webelement.WebElement (session=\"dd1e8e1887a8cc6b2f08c24dcb238407\", element=\"c5d4b53f-c982-44c0-890c-847ae6fbd17d\")>,\n",
       " <selenium.webdriver.remote.webelement.WebElement (session=\"dd1e8e1887a8cc6b2f08c24dcb238407\", element=\"7d9a432c-a9f4-4ff4-a837-ca089dfe9f57\")>,\n",
       " <selenium.webdriver.remote.webelement.WebElement (session=\"dd1e8e1887a8cc6b2f08c24dcb238407\", element=\"1ad50c64-5ada-454d-86ba-6d35e6f776e7\")>,\n",
       " <selenium.webdriver.remote.webelement.WebElement (session=\"dd1e8e1887a8cc6b2f08c24dcb238407\", element=\"8b17d85c-51d5-4e4f-a039-8cae7567654d\")>,\n",
       " <selenium.webdriver.remote.webelement.WebElement (session=\"dd1e8e1887a8cc6b2f08c24dcb238407\", element=\"9baa513f-5b1d-48b4-adc1-3f1831c40868\")>,\n",
       " <selenium.webdriver.remote.webelement.WebElement (session=\"dd1e8e1887a8cc6b2f08c24dcb238407\", element=\"e4a039a4-0549-465a-b44d-35523fb360bb\")>,\n",
       " <selenium.webdriver.remote.webelement.WebElement (session=\"dd1e8e1887a8cc6b2f08c24dcb238407\", element=\"1b69e2ee-40cd-45e7-b479-7401dd5491d5\")>,\n",
       " <selenium.webdriver.remote.webelement.WebElement (session=\"dd1e8e1887a8cc6b2f08c24dcb238407\", element=\"26965d29-78fa-479e-8dd3-240714468bc0\")>,\n",
       " <selenium.webdriver.remote.webelement.WebElement (session=\"dd1e8e1887a8cc6b2f08c24dcb238407\", element=\"bd95da14-78ec-4c25-8a1b-28d9f06bd090\")>,\n",
       " <selenium.webdriver.remote.webelement.WebElement (session=\"dd1e8e1887a8cc6b2f08c24dcb238407\", element=\"9a340b71-f0cd-4684-ace2-ffade3b89be0\")>,\n",
       " <selenium.webdriver.remote.webelement.WebElement (session=\"dd1e8e1887a8cc6b2f08c24dcb238407\", element=\"367978bb-fae0-473d-9848-01955184c8ce\")>,\n",
       " <selenium.webdriver.remote.webelement.WebElement (session=\"dd1e8e1887a8cc6b2f08c24dcb238407\", element=\"d64b3230-a06e-4142-8248-4918119752bd\")>,\n",
       " <selenium.webdriver.remote.webelement.WebElement (session=\"dd1e8e1887a8cc6b2f08c24dcb238407\", element=\"72471c2c-9899-411c-951a-dd79dd64a2c6\")>,\n",
       " <selenium.webdriver.remote.webelement.WebElement (session=\"dd1e8e1887a8cc6b2f08c24dcb238407\", element=\"b0ba684d-4113-4061-8978-c4488070d1b8\")>,\n",
       " <selenium.webdriver.remote.webelement.WebElement (session=\"dd1e8e1887a8cc6b2f08c24dcb238407\", element=\"404f69ea-41cc-4c0c-b156-3785f4b5aa61\")>,\n",
       " <selenium.webdriver.remote.webelement.WebElement (session=\"dd1e8e1887a8cc6b2f08c24dcb238407\", element=\"c368186e-0b84-4edc-8c75-23d925ff710d\")>,\n",
       " <selenium.webdriver.remote.webelement.WebElement (session=\"dd1e8e1887a8cc6b2f08c24dcb238407\", element=\"830f105b-f485-45c8-b5b2-d5c0180847d8\")>,\n",
       " <selenium.webdriver.remote.webelement.WebElement (session=\"dd1e8e1887a8cc6b2f08c24dcb238407\", element=\"b8e3fdd1-6a7e-4bbf-9054-85db1d631140\")>,\n",
       " <selenium.webdriver.remote.webelement.WebElement (session=\"dd1e8e1887a8cc6b2f08c24dcb238407\", element=\"1697c945-23fe-4a37-9bbe-cea6c5bebbce\")>,\n",
       " <selenium.webdriver.remote.webelement.WebElement (session=\"dd1e8e1887a8cc6b2f08c24dcb238407\", element=\"a5350ad6-62c5-4f99-8454-c8e78be2f4cc\")>,\n",
       " <selenium.webdriver.remote.webelement.WebElement (session=\"dd1e8e1887a8cc6b2f08c24dcb238407\", element=\"ad0fa268-2efa-4408-a2a4-01ddaffa5973\")>,\n",
       " <selenium.webdriver.remote.webelement.WebElement (session=\"dd1e8e1887a8cc6b2f08c24dcb238407\", element=\"ac6808ae-9f92-41e6-af3c-0ead4f321e0c\")>,\n",
       " <selenium.webdriver.remote.webelement.WebElement (session=\"dd1e8e1887a8cc6b2f08c24dcb238407\", element=\"2700417c-1d0a-440e-a065-c0b11c7c6bc3\")>,\n",
       " <selenium.webdriver.remote.webelement.WebElement (session=\"dd1e8e1887a8cc6b2f08c24dcb238407\", element=\"2a34b795-b9de-45a0-9bd5-1fcea1550d4c\")>,\n",
       " <selenium.webdriver.remote.webelement.WebElement (session=\"dd1e8e1887a8cc6b2f08c24dcb238407\", element=\"2dee0ddf-89f4-4b10-abde-fcd559fcbd1c\")>,\n",
       " <selenium.webdriver.remote.webelement.WebElement (session=\"dd1e8e1887a8cc6b2f08c24dcb238407\", element=\"7d2bf8dc-4485-4f91-b567-2c8d66171b56\")>,\n",
       " <selenium.webdriver.remote.webelement.WebElement (session=\"dd1e8e1887a8cc6b2f08c24dcb238407\", element=\"3c5eabad-2c3e-4171-9e51-1127c01f08a0\")>]"
      ]
     },
     "execution_count": 70,
     "metadata": {},
     "output_type": "execute_result"
    }
   ],
   "source": [
    "price_tags = driver.find_elements_by_xpath('//a[@class=\"_3bPFwb\"]')\n",
    "len(price_tags)\n",
    "price_tags[0:40]"
   ]
  },
  {
   "cell_type": "code",
   "execution_count": 71,
   "id": "31917cb5",
   "metadata": {},
   "outputs": [
    {
     "data": {
      "text/plain": [
       "['₹379₹1,49974% off',\n",
       " '₹239₹1,99988% off',\n",
       " '₹230₹1,29982% off',\n",
       " '₹176₹1,49788% off',\n",
       " '₹181₹99981% off',\n",
       " '₹255₹1,19978% off',\n",
       " '₹289₹1,59981% off',\n",
       " '₹709₹79911% off\\nFree delivery',\n",
       " '₹328₹1,99983% off',\n",
       " '₹260₹79967% off',\n",
       " '₹375₹2,59985% off',\n",
       " '₹375₹2,59985% off',\n",
       " '₹183₹1,59988% off',\n",
       " '₹229₹49954% off',\n",
       " '₹474₹1,49968% off',\n",
       " '₹258₹1,99987% off',\n",
       " '₹208₹1,49986% off',\n",
       " '₹253₹1,29980% off',\n",
       " '₹175₹49964% off',\n",
       " '₹219₹1,29983% off',\n",
       " '₹317₹1,99984% off',\n",
       " '₹229₹1,69986% off',\n",
       " '₹379₹1,99981% off',\n",
       " '₹375₹1,29971% off',\n",
       " '₹616₹2,55575% off\\nFree delivery',\n",
       " '₹639₹79920% off\\nFree delivery',\n",
       " '₹342₹1,99982% off',\n",
       " '₹247₹1,29980% off',\n",
       " '₹799₹2,50068% off\\nFree delivery',\n",
       " '₹155₹1,29988% off',\n",
       " '₹929₹1,09915% off\\nFree delivery',\n",
       " '₹939₹2,25058% off\\nFree delivery',\n",
       " '₹199₹99980% off',\n",
       " '₹233₹1,49984% off',\n",
       " '₹249₹1,92087% off',\n",
       " '₹664₹1,99966% off\\nFree delivery',\n",
       " '₹179₹1,46687% off',\n",
       " '₹739₹89917% off\\nFree delivery',\n",
       " '₹307₹1,99884% off',\n",
       " '₹799₹89911% off\\nFree delivery']"
      ]
     },
     "execution_count": 71,
     "metadata": {},
     "output_type": "execute_result"
    }
   ],
   "source": [
    "rate_tag = []\n",
    "for i in price_tags:\n",
    "    rate_tag.append(i.text)\n",
    "len(rate_tag)\n",
    "rate_tag[0:40]"
   ]
  },
  {
   "cell_type": "code",
   "execution_count": 72,
   "id": "e49226da",
   "metadata": {},
   "outputs": [
    {
     "data": {
      "text/plain": [
       "<selenium.webdriver.remote.webelement.WebElement (session=\"dd1e8e1887a8cc6b2f08c24dcb238407\", element=\"2db893e3-761e-4c58-a299-abb3fedcd90f\")>"
      ]
     },
     "execution_count": 72,
     "metadata": {},
     "output_type": "execute_result"
    }
   ],
   "source": [
    "next_btn = driver.find_element_by_xpath('/html/body/div/div/div[3]/div[1]/div[2]/div[12]/div/div/nav/a[11]')\n",
    "next_btn"
   ]
  },
  {
   "cell_type": "code",
   "execution_count": 73,
   "id": "4b838ec9",
   "metadata": {},
   "outputs": [],
   "source": [
    "next_btn.click()"
   ]
  },
  {
   "cell_type": "code",
   "execution_count": 74,
   "id": "c61bbbd8",
   "metadata": {},
   "outputs": [
    {
     "data": {
      "text/plain": [
       "[<selenium.webdriver.remote.webelement.WebElement (session=\"dd1e8e1887a8cc6b2f08c24dcb238407\", element=\"82de6b50-9a66-4558-ac24-4f8ada624185\")>,\n",
       " <selenium.webdriver.remote.webelement.WebElement (session=\"dd1e8e1887a8cc6b2f08c24dcb238407\", element=\"0a4a6e5d-9347-4a89-a188-3ee805fe9dca\")>,\n",
       " <selenium.webdriver.remote.webelement.WebElement (session=\"dd1e8e1887a8cc6b2f08c24dcb238407\", element=\"4d93deef-1636-44e9-bde8-e79787766f82\")>,\n",
       " <selenium.webdriver.remote.webelement.WebElement (session=\"dd1e8e1887a8cc6b2f08c24dcb238407\", element=\"cc0c6f27-1d22-407d-acb5-bd189058d8b8\")>,\n",
       " <selenium.webdriver.remote.webelement.WebElement (session=\"dd1e8e1887a8cc6b2f08c24dcb238407\", element=\"22bce18e-84d4-4071-8805-91b46e62f718\")>,\n",
       " <selenium.webdriver.remote.webelement.WebElement (session=\"dd1e8e1887a8cc6b2f08c24dcb238407\", element=\"aa85abf0-1de5-421e-9a2c-f8900c46b07d\")>,\n",
       " <selenium.webdriver.remote.webelement.WebElement (session=\"dd1e8e1887a8cc6b2f08c24dcb238407\", element=\"7b43c563-0ec1-4162-be11-8b48c7540141\")>,\n",
       " <selenium.webdriver.remote.webelement.WebElement (session=\"dd1e8e1887a8cc6b2f08c24dcb238407\", element=\"91123075-7529-4164-897c-57663c31c10a\")>,\n",
       " <selenium.webdriver.remote.webelement.WebElement (session=\"dd1e8e1887a8cc6b2f08c24dcb238407\", element=\"db856638-a807-4e2d-9221-1407b46c51be\")>,\n",
       " <selenium.webdriver.remote.webelement.WebElement (session=\"dd1e8e1887a8cc6b2f08c24dcb238407\", element=\"1c23d7d9-8f49-4c31-ac11-9da98b1e3d64\")>,\n",
       " <selenium.webdriver.remote.webelement.WebElement (session=\"dd1e8e1887a8cc6b2f08c24dcb238407\", element=\"57ca5ff6-d143-431c-b2c9-4b2dc8fe0c23\")>,\n",
       " <selenium.webdriver.remote.webelement.WebElement (session=\"dd1e8e1887a8cc6b2f08c24dcb238407\", element=\"3d7ac6bf-3011-4753-887d-d9e25743f421\")>,\n",
       " <selenium.webdriver.remote.webelement.WebElement (session=\"dd1e8e1887a8cc6b2f08c24dcb238407\", element=\"3852c6e6-d715-454f-a5a2-062cd4510a8b\")>,\n",
       " <selenium.webdriver.remote.webelement.WebElement (session=\"dd1e8e1887a8cc6b2f08c24dcb238407\", element=\"1257cd86-6b74-45bd-852b-6304bced7896\")>,\n",
       " <selenium.webdriver.remote.webelement.WebElement (session=\"dd1e8e1887a8cc6b2f08c24dcb238407\", element=\"c451d4f9-e7ae-41d1-b302-96b42d3e4cc0\")>,\n",
       " <selenium.webdriver.remote.webelement.WebElement (session=\"dd1e8e1887a8cc6b2f08c24dcb238407\", element=\"161a0a29-369d-41b0-a4ea-9b12fae3c78d\")>,\n",
       " <selenium.webdriver.remote.webelement.WebElement (session=\"dd1e8e1887a8cc6b2f08c24dcb238407\", element=\"e00f9423-8332-410d-9f03-a67d4a98f57f\")>,\n",
       " <selenium.webdriver.remote.webelement.WebElement (session=\"dd1e8e1887a8cc6b2f08c24dcb238407\", element=\"7639d462-92fe-42c6-a5ab-fa6481618f03\")>,\n",
       " <selenium.webdriver.remote.webelement.WebElement (session=\"dd1e8e1887a8cc6b2f08c24dcb238407\", element=\"ee007c47-7bb9-415c-8a7f-da21eb1ab11d\")>,\n",
       " <selenium.webdriver.remote.webelement.WebElement (session=\"dd1e8e1887a8cc6b2f08c24dcb238407\", element=\"67cc5bd3-8fdf-4255-b377-278a7ecb6f9d\")>]"
      ]
     },
     "execution_count": 74,
     "metadata": {},
     "output_type": "execute_result"
    }
   ],
   "source": [
    "title_tags = driver.find_elements_by_xpath('//div[@class=\"_2WkVRV\"]')\n",
    "len(title_tags)\n",
    "title_tags[0:20]"
   ]
  },
  {
   "cell_type": "code",
   "execution_count": 75,
   "id": "09687cab",
   "metadata": {},
   "outputs": [
    {
     "data": {
      "text/plain": [
       "['GANSTA',\n",
       " 'Fravy',\n",
       " 'New Specs',\n",
       " 'VINCENT CHASE',\n",
       " 'PETER JONES',\n",
       " 'ROZZETTA CRAFT',\n",
       " 'ROYAL SON',\n",
       " 'New Specs',\n",
       " 'AISLIN',\n",
       " 'ROYAL SON',\n",
       " 'GANSTA',\n",
       " 'kingsunglasses',\n",
       " 'NuVew',\n",
       " 'AISLIN',\n",
       " 'Fastrack',\n",
       " 'VILLAIN',\n",
       " 'Silver Kartz',\n",
       " 'ROYAL SON',\n",
       " 'SHAAH COLLECTIONS',\n",
       " 'Rich Club',\n",
       " 'AISLIN',\n",
       " 'AISLIN',\n",
       " 'GANSTA',\n",
       " 'NuVew',\n",
       " 'AISLIN',\n",
       " 'kingsunglasses',\n",
       " 'ROYAL SON',\n",
       " 'GANSTA',\n",
       " 'VINCENT CHASE',\n",
       " 'kingsunglasses',\n",
       " 'WROGN',\n",
       " 'Fastrack',\n",
       " 'ROYAL SON',\n",
       " 'AISLIN',\n",
       " 'Rich Club',\n",
       " 'Urbanic',\n",
       " 'United Colors of Benetton',\n",
       " 'Fastrack',\n",
       " 'AISLIN',\n",
       " 'SUNBEE']"
      ]
     },
     "execution_count": 75,
     "metadata": {},
     "output_type": "execute_result"
    }
   ],
   "source": [
    "product_titles =[]\n",
    "\n",
    "for i in title_tags:\n",
    "    product_titles.append(i.text)\n",
    "len(product_titles)\n",
    "product_titles"
   ]
  },
  {
   "cell_type": "code",
   "execution_count": 76,
   "id": "207b5868",
   "metadata": {},
   "outputs": [
    {
     "data": {
      "text/plain": [
       "[<selenium.webdriver.remote.webelement.WebElement (session=\"dd1e8e1887a8cc6b2f08c24dcb238407\", element=\"a8ef45c7-a41c-4b90-919a-00738de78413\")>,\n",
       " <selenium.webdriver.remote.webelement.WebElement (session=\"dd1e8e1887a8cc6b2f08c24dcb238407\", element=\"4186c99d-cdc1-4e51-8030-ae101878fa0c\")>,\n",
       " <selenium.webdriver.remote.webelement.WebElement (session=\"dd1e8e1887a8cc6b2f08c24dcb238407\", element=\"5d4a6514-dfe6-48f6-b1fd-9f20a5cea5a8\")>,\n",
       " <selenium.webdriver.remote.webelement.WebElement (session=\"dd1e8e1887a8cc6b2f08c24dcb238407\", element=\"471ef5e7-c6a3-480b-9eca-be46ac2ca191\")>,\n",
       " <selenium.webdriver.remote.webelement.WebElement (session=\"dd1e8e1887a8cc6b2f08c24dcb238407\", element=\"c9e5f3db-fbf9-4548-acec-26b7972ef73c\")>,\n",
       " <selenium.webdriver.remote.webelement.WebElement (session=\"dd1e8e1887a8cc6b2f08c24dcb238407\", element=\"8055995e-dd2f-4435-8af2-a7b2dd88cd5c\")>,\n",
       " <selenium.webdriver.remote.webelement.WebElement (session=\"dd1e8e1887a8cc6b2f08c24dcb238407\", element=\"472e64d6-28b2-4462-81fd-cf13adfcf60c\")>,\n",
       " <selenium.webdriver.remote.webelement.WebElement (session=\"dd1e8e1887a8cc6b2f08c24dcb238407\", element=\"785720d2-7a0f-47e3-a0d9-81b11a302806\")>,\n",
       " <selenium.webdriver.remote.webelement.WebElement (session=\"dd1e8e1887a8cc6b2f08c24dcb238407\", element=\"9e692050-b42d-49da-a792-dae53bf88fdd\")>,\n",
       " <selenium.webdriver.remote.webelement.WebElement (session=\"dd1e8e1887a8cc6b2f08c24dcb238407\", element=\"dc918072-8012-4bf1-a48b-16be2ede554b\")>,\n",
       " <selenium.webdriver.remote.webelement.WebElement (session=\"dd1e8e1887a8cc6b2f08c24dcb238407\", element=\"f43b56d8-e011-4426-888f-271d1f15eec6\")>,\n",
       " <selenium.webdriver.remote.webelement.WebElement (session=\"dd1e8e1887a8cc6b2f08c24dcb238407\", element=\"3fd065b4-f42a-4ae7-b596-8d08f58e653f\")>,\n",
       " <selenium.webdriver.remote.webelement.WebElement (session=\"dd1e8e1887a8cc6b2f08c24dcb238407\", element=\"438fc434-7eb2-4b9f-8823-244d7d4f5cf2\")>,\n",
       " <selenium.webdriver.remote.webelement.WebElement (session=\"dd1e8e1887a8cc6b2f08c24dcb238407\", element=\"88925dc6-3d5a-4586-afd5-5a600973cf42\")>,\n",
       " <selenium.webdriver.remote.webelement.WebElement (session=\"dd1e8e1887a8cc6b2f08c24dcb238407\", element=\"d86b1e8f-2a1b-4c6e-a7f1-79a91cf05c94\")>,\n",
       " <selenium.webdriver.remote.webelement.WebElement (session=\"dd1e8e1887a8cc6b2f08c24dcb238407\", element=\"8762f598-0b84-430c-9549-777ea3390c46\")>,\n",
       " <selenium.webdriver.remote.webelement.WebElement (session=\"dd1e8e1887a8cc6b2f08c24dcb238407\", element=\"6f7c54db-de69-4d1b-934b-91448e89ac67\")>,\n",
       " <selenium.webdriver.remote.webelement.WebElement (session=\"dd1e8e1887a8cc6b2f08c24dcb238407\", element=\"c53ec2eb-9d3e-408f-9128-b9a1c3d538c5\")>,\n",
       " <selenium.webdriver.remote.webelement.WebElement (session=\"dd1e8e1887a8cc6b2f08c24dcb238407\", element=\"8e032489-4bd1-48ba-bbf9-cfb82fd36e19\")>,\n",
       " <selenium.webdriver.remote.webelement.WebElement (session=\"dd1e8e1887a8cc6b2f08c24dcb238407\", element=\"a3e6f4b4-2740-4aba-914f-a9de96a613d0\")>]"
      ]
     },
     "execution_count": 76,
     "metadata": {},
     "output_type": "execute_result"
    }
   ],
   "source": [
    "desc_tags = driver.find_elements_by_xpath('//a[@class=\"IRpwTa\"]')\n",
    "len(desc_tags)\n",
    "desc_tags[0:20]"
   ]
  },
  {
   "cell_type": "code",
   "execution_count": 77,
   "id": "19b78d96",
   "metadata": {},
   "outputs": [
    {
     "data": {
      "text/plain": [
       "['UV Protection Aviator Sunglasses (57)',\n",
       " 'UV Protection Retro Square Sunglasses (Free Size)',\n",
       " 'UV Protection, Riding Glasses, Others Round Sunglasses ...',\n",
       " 'by Lenskart Polarized, UV Protection Wayfarer Sunglasse...',\n",
       " 'UV Protection Cat-eye Sunglasses (51)',\n",
       " 'UV Protection Round Sunglasses (Free Size)',\n",
       " 'Polarized, UV Protection Retro Square Sunglasses (55)',\n",
       " 'UV Protection Round Sunglasses (Free Size)',\n",
       " 'Toughened Glass Lens, UV Protection Aviator Sunglasses ...',\n",
       " 'UV Protection Retro Square Sunglasses (58)',\n",
       " 'UV Protection Rectangular Sunglasses (60)',\n",
       " 'UV Protection, Mirrored Wayfarer Sunglasses (54)',\n",
       " 'UV Protection Aviator Sunglasses (Free Size)',\n",
       " 'Toughened Glass Lens, UV Protection Aviator Sunglasses ...',\n",
       " 'UV Protection Wayfarer Sunglasses (55)',\n",
       " 'Others Wayfarer Sunglasses (Free Size)',\n",
       " 'UV Protection Wayfarer, Aviator Sunglasses (88)',\n",
       " 'UV Protection Round Sunglasses (50)',\n",
       " 'UV Protection Round Sunglasses (Free Size)',\n",
       " 'Polarized, UV Protection, Riding Glasses Wayfarer, Rect...']"
      ]
     },
     "execution_count": 77,
     "metadata": {},
     "output_type": "execute_result"
    }
   ],
   "source": [
    "product_desc =[]\n",
    "\n",
    "for i in desc_tags:\n",
    "    product_desc.append(i.text)\n",
    "len(product_desc)\n",
    "product_desc[0:20]"
   ]
  },
  {
   "cell_type": "code",
   "execution_count": 78,
   "id": "5e24feed",
   "metadata": {},
   "outputs": [
    {
     "data": {
      "text/plain": [
       "[<selenium.webdriver.remote.webelement.WebElement (session=\"dd1e8e1887a8cc6b2f08c24dcb238407\", element=\"bd100556-bbf4-465f-8de6-62035bc97715\")>,\n",
       " <selenium.webdriver.remote.webelement.WebElement (session=\"dd1e8e1887a8cc6b2f08c24dcb238407\", element=\"b7c5a6cf-5cda-486d-b25f-71c17f7bad8f\")>,\n",
       " <selenium.webdriver.remote.webelement.WebElement (session=\"dd1e8e1887a8cc6b2f08c24dcb238407\", element=\"2c043c04-df2f-4eb8-ac62-eb49de191bde\")>,\n",
       " <selenium.webdriver.remote.webelement.WebElement (session=\"dd1e8e1887a8cc6b2f08c24dcb238407\", element=\"28677625-60c8-4469-b810-48ba471ff278\")>,\n",
       " <selenium.webdriver.remote.webelement.WebElement (session=\"dd1e8e1887a8cc6b2f08c24dcb238407\", element=\"57f107bf-0e05-4685-9058-b99881cc7fb8\")>,\n",
       " <selenium.webdriver.remote.webelement.WebElement (session=\"dd1e8e1887a8cc6b2f08c24dcb238407\", element=\"b6c81054-4984-4273-84ed-3c32528d4ee9\")>,\n",
       " <selenium.webdriver.remote.webelement.WebElement (session=\"dd1e8e1887a8cc6b2f08c24dcb238407\", element=\"aab3320a-bf17-4121-9093-0563a0bc890f\")>,\n",
       " <selenium.webdriver.remote.webelement.WebElement (session=\"dd1e8e1887a8cc6b2f08c24dcb238407\", element=\"538e6b1d-6105-4d75-8cf3-d7e0348ca1c7\")>,\n",
       " <selenium.webdriver.remote.webelement.WebElement (session=\"dd1e8e1887a8cc6b2f08c24dcb238407\", element=\"f5887599-5bf0-42be-b0cc-99fdff2f777f\")>,\n",
       " <selenium.webdriver.remote.webelement.WebElement (session=\"dd1e8e1887a8cc6b2f08c24dcb238407\", element=\"dbb0f6bd-10d4-44d8-9e64-61f3990ef5ad\")>,\n",
       " <selenium.webdriver.remote.webelement.WebElement (session=\"dd1e8e1887a8cc6b2f08c24dcb238407\", element=\"f8e5ef55-c3e9-4930-9be8-08edcdba28e7\")>,\n",
       " <selenium.webdriver.remote.webelement.WebElement (session=\"dd1e8e1887a8cc6b2f08c24dcb238407\", element=\"b887f438-d3e8-4714-bcef-831e6a899e0c\")>,\n",
       " <selenium.webdriver.remote.webelement.WebElement (session=\"dd1e8e1887a8cc6b2f08c24dcb238407\", element=\"ae72d6db-84ca-4c3e-a554-38bcc7034060\")>,\n",
       " <selenium.webdriver.remote.webelement.WebElement (session=\"dd1e8e1887a8cc6b2f08c24dcb238407\", element=\"4902e2ec-631f-41d2-9387-c8f8286f2f4f\")>,\n",
       " <selenium.webdriver.remote.webelement.WebElement (session=\"dd1e8e1887a8cc6b2f08c24dcb238407\", element=\"017a12dc-3aa9-4274-8a51-19fd54e8fd8a\")>,\n",
       " <selenium.webdriver.remote.webelement.WebElement (session=\"dd1e8e1887a8cc6b2f08c24dcb238407\", element=\"a20008dc-fdec-4dd3-ab16-f0d1dd242d2c\")>,\n",
       " <selenium.webdriver.remote.webelement.WebElement (session=\"dd1e8e1887a8cc6b2f08c24dcb238407\", element=\"22f664eb-7b07-4798-95a2-213628c735ed\")>,\n",
       " <selenium.webdriver.remote.webelement.WebElement (session=\"dd1e8e1887a8cc6b2f08c24dcb238407\", element=\"06e50951-f12f-4a40-87bc-2dbe122b87eb\")>,\n",
       " <selenium.webdriver.remote.webelement.WebElement (session=\"dd1e8e1887a8cc6b2f08c24dcb238407\", element=\"c1d4c05b-7702-4071-9a7e-85e29f3d1be4\")>,\n",
       " <selenium.webdriver.remote.webelement.WebElement (session=\"dd1e8e1887a8cc6b2f08c24dcb238407\", element=\"bcf60c51-ced8-4353-b040-de7ca7dd2243\")>]"
      ]
     },
     "execution_count": 78,
     "metadata": {},
     "output_type": "execute_result"
    }
   ],
   "source": [
    "price_tags = driver.find_elements_by_xpath('//a[@class=\"_3bPFwb\"]')\n",
    "len(price_tags)\n",
    "price_tags[0:20]"
   ]
  },
  {
   "cell_type": "code",
   "execution_count": 79,
   "id": "5c087cce",
   "metadata": {},
   "outputs": [
    {
     "data": {
      "text/plain": [
       "['₹233₹1,04977% off',\n",
       " '₹244₹1,49983% off',\n",
       " '₹229₹1,29982% off',\n",
       " '₹999₹1,99950% off\\nFree delivery',\n",
       " '₹548₹1,49963% off\\nFree delivery',\n",
       " '₹398₹1,99980% off',\n",
       " '₹649₹1,99967% off\\nFree delivery',\n",
       " '₹216₹1,19981% off',\n",
       " '₹845₹3,69977% off\\nFree delivery',\n",
       " '₹474₹1,49968% off',\n",
       " '₹224₹1,29982% off',\n",
       " '₹155₹99984% off',\n",
       " '₹396₹1,25068% off',\n",
       " '₹875₹3,69976% off\\nFree delivery',\n",
       " '₹889₹99911% off\\nFree delivery',\n",
       " '₹522₹99947% off\\nFree delivery',\n",
       " '₹265₹1,19977% off',\n",
       " '₹379₹1,49974% off',\n",
       " '₹284₹1,69983% off',\n",
       " '₹275₹99972% off']"
      ]
     },
     "execution_count": 79,
     "metadata": {},
     "output_type": "execute_result"
    }
   ],
   "source": [
    "rate_tag = []\n",
    "for i in price_tags:\n",
    "    rate_tag.append(i.text)\n",
    "len(rate_tag)\n",
    "rate_tag[0:20]"
   ]
  },
  {
   "cell_type": "code",
   "execution_count": 115,
   "id": "19c7862f",
   "metadata": {},
   "outputs": [
    {
     "ename": "WebDriverException",
     "evalue": "Message: unknown error: net::ERR_INTERNET_DISCONNECTED\n  (Session info: chrome=99.0.4844.51)\nStacktrace:\nBacktrace:\n\tOrdinal0 [0x01019943+2595139]\n\tOrdinal0 [0x00FAC9F1+2148849]\n\tOrdinal0 [0x00EA4528+1066280]\n\tOrdinal0 [0x00EA0DB4+1052084]\n\tOrdinal0 [0x00E963BD+1008573]\n\tOrdinal0 [0x00E96F7C+1011580]\n\tOrdinal0 [0x00E965CA+1009098]\n\tOrdinal0 [0x00E95BC6+1006534]\n\tOrdinal0 [0x00E94AD0+1002192]\n\tOrdinal0 [0x00E94FAD+1003437]\n\tOrdinal0 [0x00EA5C4A+1072202]\n\tOrdinal0 [0x00EFC19D+1425821]\n\tOrdinal0 [0x00EEB9EC+1358316]\n\tOrdinal0 [0x00EFBAF2+1424114]\n\tOrdinal0 [0x00EEB806+1357830]\n\tOrdinal0 [0x00EC6086+1204358]\n\tOrdinal0 [0x00EC6F96+1208214]\n\tGetHandleVerifier [0x011BB232+1658114]\n\tGetHandleVerifier [0x0127312C+2411516]\n\tGetHandleVerifier [0x010AF261+560433]\n\tGetHandleVerifier [0x010AE366+556598]\n\tOrdinal0 [0x00FB286B+2173035]\n\tOrdinal0 [0x00FB75F8+2192888]\n\tOrdinal0 [0x00FB76E5+2193125]\n\tOrdinal0 [0x00FC11FC+2232828]\n\tBaseThreadInitThunk [0x76E6FA29+25]\n\tRtlGetAppContainerNamedObjectPath [0x77647A7E+286]\n\tRtlGetAppContainerNamedObjectPath [0x77647A4E+238]\n",
     "output_type": "error",
     "traceback": [
      "\u001b[1;31m---------------------------------------------------------------------------\u001b[0m",
      "\u001b[1;31mWebDriverException\u001b[0m                        Traceback (most recent call last)",
      "\u001b[1;32m<ipython-input-115-aca9f572b3ef>\u001b[0m in \u001b[0;36m<module>\u001b[1;34m\u001b[0m\n\u001b[0;32m      1\u001b[0m \u001b[0murl\u001b[0m \u001b[1;33m=\u001b[0m \u001b[1;34m'http://www.flipkart.com/apple-iphone-11-black-64-gb-includes-earpods-power-'\u001b[0m\u001b[1;33m\u001b[0m\u001b[1;33m\u001b[0m\u001b[0m\n\u001b[1;32m----> 2\u001b[1;33m \u001b[0mdriver\u001b[0m\u001b[1;33m.\u001b[0m\u001b[0mget\u001b[0m\u001b[1;33m(\u001b[0m\u001b[0murl\u001b[0m\u001b[1;33m)\u001b[0m\u001b[1;33m\u001b[0m\u001b[1;33m\u001b[0m\u001b[0m\n\u001b[0m",
      "\u001b[1;32m~\\anaconda3\\lib\\site-packages\\selenium\\webdriver\\remote\\webdriver.py\u001b[0m in \u001b[0;36mget\u001b[1;34m(self, url)\u001b[0m\n\u001b[0;32m    435\u001b[0m         \u001b[0mLoads\u001b[0m \u001b[0ma\u001b[0m \u001b[0mweb\u001b[0m \u001b[0mpage\u001b[0m \u001b[1;32min\u001b[0m \u001b[0mthe\u001b[0m \u001b[0mcurrent\u001b[0m \u001b[0mbrowser\u001b[0m \u001b[0msession\u001b[0m\u001b[1;33m.\u001b[0m\u001b[1;33m\u001b[0m\u001b[1;33m\u001b[0m\u001b[0m\n\u001b[0;32m    436\u001b[0m         \"\"\"\n\u001b[1;32m--> 437\u001b[1;33m         \u001b[0mself\u001b[0m\u001b[1;33m.\u001b[0m\u001b[0mexecute\u001b[0m\u001b[1;33m(\u001b[0m\u001b[0mCommand\u001b[0m\u001b[1;33m.\u001b[0m\u001b[0mGET\u001b[0m\u001b[1;33m,\u001b[0m \u001b[1;33m{\u001b[0m\u001b[1;34m'url'\u001b[0m\u001b[1;33m:\u001b[0m \u001b[0murl\u001b[0m\u001b[1;33m}\u001b[0m\u001b[1;33m)\u001b[0m\u001b[1;33m\u001b[0m\u001b[1;33m\u001b[0m\u001b[0m\n\u001b[0m\u001b[0;32m    438\u001b[0m \u001b[1;33m\u001b[0m\u001b[0m\n\u001b[0;32m    439\u001b[0m     \u001b[1;33m@\u001b[0m\u001b[0mproperty\u001b[0m\u001b[1;33m\u001b[0m\u001b[1;33m\u001b[0m\u001b[0m\n",
      "\u001b[1;32m~\\anaconda3\\lib\\site-packages\\selenium\\webdriver\\remote\\webdriver.py\u001b[0m in \u001b[0;36mexecute\u001b[1;34m(self, driver_command, params)\u001b[0m\n\u001b[0;32m    423\u001b[0m         \u001b[0mresponse\u001b[0m \u001b[1;33m=\u001b[0m \u001b[0mself\u001b[0m\u001b[1;33m.\u001b[0m\u001b[0mcommand_executor\u001b[0m\u001b[1;33m.\u001b[0m\u001b[0mexecute\u001b[0m\u001b[1;33m(\u001b[0m\u001b[0mdriver_command\u001b[0m\u001b[1;33m,\u001b[0m \u001b[0mparams\u001b[0m\u001b[1;33m)\u001b[0m\u001b[1;33m\u001b[0m\u001b[1;33m\u001b[0m\u001b[0m\n\u001b[0;32m    424\u001b[0m         \u001b[1;32mif\u001b[0m \u001b[0mresponse\u001b[0m\u001b[1;33m:\u001b[0m\u001b[1;33m\u001b[0m\u001b[1;33m\u001b[0m\u001b[0m\n\u001b[1;32m--> 425\u001b[1;33m             \u001b[0mself\u001b[0m\u001b[1;33m.\u001b[0m\u001b[0merror_handler\u001b[0m\u001b[1;33m.\u001b[0m\u001b[0mcheck_response\u001b[0m\u001b[1;33m(\u001b[0m\u001b[0mresponse\u001b[0m\u001b[1;33m)\u001b[0m\u001b[1;33m\u001b[0m\u001b[1;33m\u001b[0m\u001b[0m\n\u001b[0m\u001b[0;32m    426\u001b[0m             response['value'] = self._unwrap_value(\n\u001b[0;32m    427\u001b[0m                 response.get('value', None))\n",
      "\u001b[1;32m~\\anaconda3\\lib\\site-packages\\selenium\\webdriver\\remote\\errorhandler.py\u001b[0m in \u001b[0;36mcheck_response\u001b[1;34m(self, response)\u001b[0m\n\u001b[0;32m    245\u001b[0m                 \u001b[0malert_text\u001b[0m \u001b[1;33m=\u001b[0m \u001b[0mvalue\u001b[0m\u001b[1;33m[\u001b[0m\u001b[1;34m'alert'\u001b[0m\u001b[1;33m]\u001b[0m\u001b[1;33m.\u001b[0m\u001b[0mget\u001b[0m\u001b[1;33m(\u001b[0m\u001b[1;34m'text'\u001b[0m\u001b[1;33m)\u001b[0m\u001b[1;33m\u001b[0m\u001b[1;33m\u001b[0m\u001b[0m\n\u001b[0;32m    246\u001b[0m             \u001b[1;32mraise\u001b[0m \u001b[0mexception_class\u001b[0m\u001b[1;33m(\u001b[0m\u001b[0mmessage\u001b[0m\u001b[1;33m,\u001b[0m \u001b[0mscreen\u001b[0m\u001b[1;33m,\u001b[0m \u001b[0mstacktrace\u001b[0m\u001b[1;33m,\u001b[0m \u001b[0malert_text\u001b[0m\u001b[1;33m)\u001b[0m  \u001b[1;31m# type: ignore[call-arg]  # mypy is not smart enough here\u001b[0m\u001b[1;33m\u001b[0m\u001b[1;33m\u001b[0m\u001b[0m\n\u001b[1;32m--> 247\u001b[1;33m         \u001b[1;32mraise\u001b[0m \u001b[0mexception_class\u001b[0m\u001b[1;33m(\u001b[0m\u001b[0mmessage\u001b[0m\u001b[1;33m,\u001b[0m \u001b[0mscreen\u001b[0m\u001b[1;33m,\u001b[0m \u001b[0mstacktrace\u001b[0m\u001b[1;33m)\u001b[0m\u001b[1;33m\u001b[0m\u001b[1;33m\u001b[0m\u001b[0m\n\u001b[0m\u001b[0;32m    248\u001b[0m \u001b[1;33m\u001b[0m\u001b[0m\n\u001b[0;32m    249\u001b[0m     \u001b[1;32mdef\u001b[0m \u001b[0m_value_or_default\u001b[0m\u001b[1;33m(\u001b[0m\u001b[0mself\u001b[0m\u001b[1;33m,\u001b[0m \u001b[0mobj\u001b[0m\u001b[1;33m:\u001b[0m \u001b[0mMapping\u001b[0m\u001b[1;33m[\u001b[0m\u001b[0m_KT\u001b[0m\u001b[1;33m,\u001b[0m \u001b[0m_VT\u001b[0m\u001b[1;33m]\u001b[0m\u001b[1;33m,\u001b[0m \u001b[0mkey\u001b[0m\u001b[1;33m:\u001b[0m \u001b[0m_KT\u001b[0m\u001b[1;33m,\u001b[0m \u001b[0mdefault\u001b[0m\u001b[1;33m:\u001b[0m \u001b[0m_VT\u001b[0m\u001b[1;33m)\u001b[0m \u001b[1;33m->\u001b[0m \u001b[0m_VT\u001b[0m\u001b[1;33m:\u001b[0m\u001b[1;33m\u001b[0m\u001b[1;33m\u001b[0m\u001b[0m\n",
      "\u001b[1;31mWebDriverException\u001b[0m: Message: unknown error: net::ERR_INTERNET_DISCONNECTED\n  (Session info: chrome=99.0.4844.51)\nStacktrace:\nBacktrace:\n\tOrdinal0 [0x01019943+2595139]\n\tOrdinal0 [0x00FAC9F1+2148849]\n\tOrdinal0 [0x00EA4528+1066280]\n\tOrdinal0 [0x00EA0DB4+1052084]\n\tOrdinal0 [0x00E963BD+1008573]\n\tOrdinal0 [0x00E96F7C+1011580]\n\tOrdinal0 [0x00E965CA+1009098]\n\tOrdinal0 [0x00E95BC6+1006534]\n\tOrdinal0 [0x00E94AD0+1002192]\n\tOrdinal0 [0x00E94FAD+1003437]\n\tOrdinal0 [0x00EA5C4A+1072202]\n\tOrdinal0 [0x00EFC19D+1425821]\n\tOrdinal0 [0x00EEB9EC+1358316]\n\tOrdinal0 [0x00EFBAF2+1424114]\n\tOrdinal0 [0x00EEB806+1357830]\n\tOrdinal0 [0x00EC6086+1204358]\n\tOrdinal0 [0x00EC6F96+1208214]\n\tGetHandleVerifier [0x011BB232+1658114]\n\tGetHandleVerifier [0x0127312C+2411516]\n\tGetHandleVerifier [0x010AF261+560433]\n\tGetHandleVerifier [0x010AE366+556598]\n\tOrdinal0 [0x00FB286B+2173035]\n\tOrdinal0 [0x00FB75F8+2192888]\n\tOrdinal0 [0x00FB76E5+2193125]\n\tOrdinal0 [0x00FC11FC+2232828]\n\tBaseThreadInitThunk [0x76E6FA29+25]\n\tRtlGetAppContainerNamedObjectPath [0x77647A7E+286]\n\tRtlGetAppContainerNamedObjectPath [0x77647A4E+238]\n"
     ]
    }
   ],
   "source": [
    "url = 'http://www.flipkart.com/apple-iphone-11-black-64-gb-includes-earpods-power-'\n",
    "driver.get(url)"
   ]
  },
  {
   "cell_type": "code",
   "execution_count": 82,
   "id": "2039a87d",
   "metadata": {},
   "outputs": [
    {
     "ename": "SyntaxError",
     "evalue": "EOL while scanning string literal (<ipython-input-82-44ea5f4f852b>, line 1)",
     "output_type": "error",
     "traceback": [
      "\u001b[1;36m  File \u001b[1;32m\"<ipython-input-82-44ea5f4f852b>\"\u001b[1;36m, line \u001b[1;32m1\u001b[0m\n\u001b[1;33m    rating_tags = driver.find_elements_by_xpath('//*[@id=\"container\"]/div/div[3]/div/div[1]/div[2]/div[4]/div/div/div/div[1]/div)\u001b[0m\n\u001b[1;37m                                                                                                                                 ^\u001b[0m\n\u001b[1;31mSyntaxError\u001b[0m\u001b[1;31m:\u001b[0m EOL while scanning string literal\n"
     ]
    }
   ],
   "source": [
    "rating_tags = driver.find_elements_by_xpath('//*[@id=\"container\"]/div/div[3]/div/div[1]/div[2]/div[4]/div/div/div/div[1]/div)\n",
    "len(rating_tags)\n",
    "rating_tags[0:10]"
   ]
  },
  {
   "cell_type": "code",
   "execution_count": 162,
   "id": "d8af8695",
   "metadata": {},
   "outputs": [
    {
     "data": {
      "text/plain": [
       "[]"
      ]
     },
     "execution_count": 162,
     "metadata": {},
     "output_type": "execute_result"
    }
   ],
   "source": [
    "rating = []\n",
    "for i in rating_tags:\n",
    "    rating.append(i.text)\n",
    "len(rating)\n",
    "rating"
   ]
  },
  {
   "cell_type": "code",
   "execution_count": null,
   "id": "b3e53ec2",
   "metadata": {},
   "outputs": [],
   "source": [
    "review_tags = driver.find_elements_by_xpath('//div[@class=\"_2-N8zT\"]')\n",
    "len(review_tags)\n",
    "review_tags[0:10]"
   ]
  },
  {
   "cell_type": "code",
   "execution_count": null,
   "id": "4f848b4e",
   "metadata": {},
   "outputs": [],
   "source": [
    "review = []\n",
    "for i in review_tags:\n",
    "    review.append(i.text)\n",
    "len(review)\n",
    "review"
   ]
  },
  {
   "cell_type": "code",
   "execution_count": null,
   "id": "6ccaf7c1",
   "metadata": {},
   "outputs": [],
   "source": [
    "full_review = driver.find_elements_by_xpath('class=\"_1H-bmy\"')\n",
    "len(full_review)\n",
    "full_review[0:10]"
   ]
  },
  {
   "cell_type": "code",
   "execution_count": null,
   "id": "d07290a9",
   "metadata": {},
   "outputs": [],
   "source": [
    "full_reviews = []\n",
    "for i in full_review:\n",
    "    full_reviews.append(i.text)\n",
    "len(full_reviews)\n",
    "full_reviews"
   ]
  },
  {
   "cell_type": "code",
   "execution_count": 117,
   "id": "c8e87a90",
   "metadata": {},
   "outputs": [],
   "source": [
    "url ='https://www.flipkart.com/search?q=sneakers+for+men&sid=osp%2Ccil%2Ce1f&as=on&as-show=on&otracker=AS_QueryStore_HistoryAutoSuggest_1_5_na_na_na&otracker1=AS_QueryStore_HistoryAutoSuggest_1_5_na_na_na&as-pos=1&as-type=HISTORY&suggestionId=sneakers+for+men%7CCasual+Shoes&requestId=616dc335-923d-44a3-95a0-e3f473ba9460&as-searchtext=sneak'\n",
    "driver.get(url)"
   ]
  },
  {
   "cell_type": "code",
   "execution_count": 118,
   "id": "a689d89a",
   "metadata": {},
   "outputs": [
    {
     "data": {
      "text/plain": [
       "[<selenium.webdriver.remote.webelement.WebElement (session=\"dd1e8e1887a8cc6b2f08c24dcb238407\", element=\"6fb124d3-43b7-47bd-9cff-57158a725736\")>,\n",
       " <selenium.webdriver.remote.webelement.WebElement (session=\"dd1e8e1887a8cc6b2f08c24dcb238407\", element=\"cc0c25ad-2be9-4223-9364-90bdc98d9dfc\")>,\n",
       " <selenium.webdriver.remote.webelement.WebElement (session=\"dd1e8e1887a8cc6b2f08c24dcb238407\", element=\"bb19e5bf-3fd5-406d-915a-95f8902fc718\")>,\n",
       " <selenium.webdriver.remote.webelement.WebElement (session=\"dd1e8e1887a8cc6b2f08c24dcb238407\", element=\"8e97be11-d73b-417a-a7d8-25b1f2456c77\")>,\n",
       " <selenium.webdriver.remote.webelement.WebElement (session=\"dd1e8e1887a8cc6b2f08c24dcb238407\", element=\"96b8fa90-d854-4d0c-bc23-fbed35596da8\")>,\n",
       " <selenium.webdriver.remote.webelement.WebElement (session=\"dd1e8e1887a8cc6b2f08c24dcb238407\", element=\"1799ea16-4517-40a8-b363-939cfc1b24be\")>,\n",
       " <selenium.webdriver.remote.webelement.WebElement (session=\"dd1e8e1887a8cc6b2f08c24dcb238407\", element=\"170f4b72-0fb0-46a6-bd2f-d260ddabb71b\")>,\n",
       " <selenium.webdriver.remote.webelement.WebElement (session=\"dd1e8e1887a8cc6b2f08c24dcb238407\", element=\"68c6b7d1-9417-4dc2-ac7c-0a0338c544f4\")>,\n",
       " <selenium.webdriver.remote.webelement.WebElement (session=\"dd1e8e1887a8cc6b2f08c24dcb238407\", element=\"196633f3-f3f0-4aa9-99a3-881491b9fde2\")>,\n",
       " <selenium.webdriver.remote.webelement.WebElement (session=\"dd1e8e1887a8cc6b2f08c24dcb238407\", element=\"ac2c5128-9cec-494c-81e5-624d1ce5ff41\")>,\n",
       " <selenium.webdriver.remote.webelement.WebElement (session=\"dd1e8e1887a8cc6b2f08c24dcb238407\", element=\"f4bb3d4f-d8d2-4410-9115-114c049f2912\")>,\n",
       " <selenium.webdriver.remote.webelement.WebElement (session=\"dd1e8e1887a8cc6b2f08c24dcb238407\", element=\"d3b331b4-0020-4e6b-92cd-5266dc4c0cdb\")>,\n",
       " <selenium.webdriver.remote.webelement.WebElement (session=\"dd1e8e1887a8cc6b2f08c24dcb238407\", element=\"359a80a1-c3d8-4f8b-9064-8b61d5066f39\")>,\n",
       " <selenium.webdriver.remote.webelement.WebElement (session=\"dd1e8e1887a8cc6b2f08c24dcb238407\", element=\"f0fb339b-c793-442c-842e-ed3b7b152eba\")>,\n",
       " <selenium.webdriver.remote.webelement.WebElement (session=\"dd1e8e1887a8cc6b2f08c24dcb238407\", element=\"1c57f328-fb44-41ba-aa74-58a81fd5ebd5\")>,\n",
       " <selenium.webdriver.remote.webelement.WebElement (session=\"dd1e8e1887a8cc6b2f08c24dcb238407\", element=\"1c384395-fc2e-4da0-ad32-e2bc05e29784\")>,\n",
       " <selenium.webdriver.remote.webelement.WebElement (session=\"dd1e8e1887a8cc6b2f08c24dcb238407\", element=\"d4324fd2-0444-4dd1-9bac-6753853ac30a\")>,\n",
       " <selenium.webdriver.remote.webelement.WebElement (session=\"dd1e8e1887a8cc6b2f08c24dcb238407\", element=\"163caea1-12ac-4257-9e61-ae7730f90033\")>,\n",
       " <selenium.webdriver.remote.webelement.WebElement (session=\"dd1e8e1887a8cc6b2f08c24dcb238407\", element=\"a9987a6f-ac06-459b-98ad-d9d2d4b0fd88\")>,\n",
       " <selenium.webdriver.remote.webelement.WebElement (session=\"dd1e8e1887a8cc6b2f08c24dcb238407\", element=\"1c83f890-be43-4ce5-8504-8b60907d1d26\")>,\n",
       " <selenium.webdriver.remote.webelement.WebElement (session=\"dd1e8e1887a8cc6b2f08c24dcb238407\", element=\"fba8f833-1c76-4796-a01b-4f407a03b3bf\")>,\n",
       " <selenium.webdriver.remote.webelement.WebElement (session=\"dd1e8e1887a8cc6b2f08c24dcb238407\", element=\"1471a051-ce01-4617-b13e-7e247b4e7672\")>,\n",
       " <selenium.webdriver.remote.webelement.WebElement (session=\"dd1e8e1887a8cc6b2f08c24dcb238407\", element=\"1945b7c8-d5e1-4809-b65c-07a76377354a\")>,\n",
       " <selenium.webdriver.remote.webelement.WebElement (session=\"dd1e8e1887a8cc6b2f08c24dcb238407\", element=\"6db55b50-6afa-4802-a2cc-47417466247e\")>,\n",
       " <selenium.webdriver.remote.webelement.WebElement (session=\"dd1e8e1887a8cc6b2f08c24dcb238407\", element=\"e4ddb32e-ed93-498d-974b-e054cf701be0\")>,\n",
       " <selenium.webdriver.remote.webelement.WebElement (session=\"dd1e8e1887a8cc6b2f08c24dcb238407\", element=\"ac2a8349-167a-47c4-96c4-4bf0a997ca33\")>,\n",
       " <selenium.webdriver.remote.webelement.WebElement (session=\"dd1e8e1887a8cc6b2f08c24dcb238407\", element=\"b12e713a-a5bc-44f2-85a2-cada1345694a\")>,\n",
       " <selenium.webdriver.remote.webelement.WebElement (session=\"dd1e8e1887a8cc6b2f08c24dcb238407\", element=\"821ead6c-aa12-4eed-9219-dcd9de0b65b4\")>,\n",
       " <selenium.webdriver.remote.webelement.WebElement (session=\"dd1e8e1887a8cc6b2f08c24dcb238407\", element=\"b14221c7-6981-4975-b571-94d996ed6564\")>,\n",
       " <selenium.webdriver.remote.webelement.WebElement (session=\"dd1e8e1887a8cc6b2f08c24dcb238407\", element=\"3ef98ebe-cfac-470a-851f-afd7ec6d351d\")>,\n",
       " <selenium.webdriver.remote.webelement.WebElement (session=\"dd1e8e1887a8cc6b2f08c24dcb238407\", element=\"7a4524bd-60bc-46c5-bfab-e92b8710e24f\")>,\n",
       " <selenium.webdriver.remote.webelement.WebElement (session=\"dd1e8e1887a8cc6b2f08c24dcb238407\", element=\"c639e399-fe12-47ca-9082-35ac26ee96f1\")>,\n",
       " <selenium.webdriver.remote.webelement.WebElement (session=\"dd1e8e1887a8cc6b2f08c24dcb238407\", element=\"980138a1-dacd-494b-b09b-32ad5c61a58d\")>,\n",
       " <selenium.webdriver.remote.webelement.WebElement (session=\"dd1e8e1887a8cc6b2f08c24dcb238407\", element=\"e4c82200-888d-4d11-a23c-2c56b0a92c3b\")>,\n",
       " <selenium.webdriver.remote.webelement.WebElement (session=\"dd1e8e1887a8cc6b2f08c24dcb238407\", element=\"6903706b-5288-415c-99b5-a3976dbf1489\")>,\n",
       " <selenium.webdriver.remote.webelement.WebElement (session=\"dd1e8e1887a8cc6b2f08c24dcb238407\", element=\"ad13b826-83ad-4dc0-b083-df87333376df\")>,\n",
       " <selenium.webdriver.remote.webelement.WebElement (session=\"dd1e8e1887a8cc6b2f08c24dcb238407\", element=\"a6bdda16-6bb8-4270-938f-0c6935410045\")>,\n",
       " <selenium.webdriver.remote.webelement.WebElement (session=\"dd1e8e1887a8cc6b2f08c24dcb238407\", element=\"be41ea24-248c-4832-962a-d28456fb6b86\")>,\n",
       " <selenium.webdriver.remote.webelement.WebElement (session=\"dd1e8e1887a8cc6b2f08c24dcb238407\", element=\"2de6e356-eb79-4b8b-907d-ca34fdccd8ae\")>,\n",
       " <selenium.webdriver.remote.webelement.WebElement (session=\"dd1e8e1887a8cc6b2f08c24dcb238407\", element=\"3005a37d-b7f8-4423-8011-3ed0f9cc5bf4\")>]"
      ]
     },
     "execution_count": 118,
     "metadata": {},
     "output_type": "execute_result"
    }
   ],
   "source": [
    "title_tags = driver.find_elements_by_xpath('//div[@class=\"_2WkVRV\"]')\n",
    "len(title_tags)\n",
    "title_tags[0:40]"
   ]
  },
  {
   "cell_type": "code",
   "execution_count": 119,
   "id": "2c072559",
   "metadata": {},
   "outputs": [
    {
     "data": {
      "text/plain": [
       "['DUNKASTON',\n",
       " 'World Wear Footwear',\n",
       " 'BRUTON',\n",
       " 'URBANBOX',\n",
       " 'Chevit',\n",
       " 'Magnolia',\n",
       " 'D-SNEAKERZ',\n",
       " 'corsac',\n",
       " 'Shoes Bank',\n",
       " 'KWIK FIT',\n",
       " 'Kraasa',\n",
       " 'BRUTON',\n",
       " 'OMIKA',\n",
       " 'World Wear Footwear',\n",
       " 'RapidBox',\n",
       " 'BRUTON',\n",
       " 'SCATCHITE',\n",
       " 'TR',\n",
       " 'BRUTON',\n",
       " 'Labbin',\n",
       " 'Stefano Rads',\n",
       " 'ASTEROID',\n",
       " 'Magnolia',\n",
       " 'Rzisbo',\n",
       " 'CLYMB',\n",
       " 'Zixer',\n",
       " 'Stinson',\n",
       " 'World Wear Footwear',\n",
       " 'Airland',\n",
       " 'luxury fashion',\n",
       " 'Echor',\n",
       " 'World Wear Footwear',\n",
       " 'Chevit',\n",
       " 'Zsyto',\n",
       " 'luxury fashion',\n",
       " 'aadi',\n",
       " 'Xtoon',\n",
       " 'Magnolia',\n",
       " 'Bata',\n",
       " 'Kzaara']"
      ]
     },
     "execution_count": 119,
     "metadata": {},
     "output_type": "execute_result"
    }
   ],
   "source": [
    "product_titles =[]\n",
    "\n",
    "for i in title_tags:\n",
    "    product_titles.append(i.text)\n",
    "len(product_titles)\n",
    "product_titles"
   ]
  },
  {
   "cell_type": "code",
   "execution_count": 120,
   "id": "c86207d1",
   "metadata": {},
   "outputs": [
    {
     "data": {
      "text/plain": [
       "[<selenium.webdriver.remote.webelement.WebElement (session=\"dd1e8e1887a8cc6b2f08c24dcb238407\", element=\"33bc4fa6-53ae-4bb5-9349-11329778bfd0\")>,\n",
       " <selenium.webdriver.remote.webelement.WebElement (session=\"dd1e8e1887a8cc6b2f08c24dcb238407\", element=\"f8b1f91c-c0dd-4b29-9534-58157d16baf9\")>,\n",
       " <selenium.webdriver.remote.webelement.WebElement (session=\"dd1e8e1887a8cc6b2f08c24dcb238407\", element=\"95b6d3ad-e9b8-48d5-8ba9-ffb29d51995e\")>,\n",
       " <selenium.webdriver.remote.webelement.WebElement (session=\"dd1e8e1887a8cc6b2f08c24dcb238407\", element=\"891016a2-593c-4d25-83f0-53fc411b8ad8\")>,\n",
       " <selenium.webdriver.remote.webelement.WebElement (session=\"dd1e8e1887a8cc6b2f08c24dcb238407\", element=\"eee65388-5483-4ddf-a93f-1c7920644cc4\")>,\n",
       " <selenium.webdriver.remote.webelement.WebElement (session=\"dd1e8e1887a8cc6b2f08c24dcb238407\", element=\"a0ec8fc8-1e94-4220-acee-aa1e99834911\")>,\n",
       " <selenium.webdriver.remote.webelement.WebElement (session=\"dd1e8e1887a8cc6b2f08c24dcb238407\", element=\"499c9428-1588-4ebb-b61b-ce13e2dec7e2\")>,\n",
       " <selenium.webdriver.remote.webelement.WebElement (session=\"dd1e8e1887a8cc6b2f08c24dcb238407\", element=\"9d292183-f036-4657-82db-7459a2b045d5\")>,\n",
       " <selenium.webdriver.remote.webelement.WebElement (session=\"dd1e8e1887a8cc6b2f08c24dcb238407\", element=\"4b1c4996-18f2-4340-8e69-d0aa0f0c60fd\")>,\n",
       " <selenium.webdriver.remote.webelement.WebElement (session=\"dd1e8e1887a8cc6b2f08c24dcb238407\", element=\"fded5b93-5204-4408-9457-8ed1e7c7e4b9\")>,\n",
       " <selenium.webdriver.remote.webelement.WebElement (session=\"dd1e8e1887a8cc6b2f08c24dcb238407\", element=\"09b1e4eb-a3ac-4740-8b39-118fb654a0a8\")>,\n",
       " <selenium.webdriver.remote.webelement.WebElement (session=\"dd1e8e1887a8cc6b2f08c24dcb238407\", element=\"abec5cbc-77e6-4706-8047-c6cac1ee798e\")>,\n",
       " <selenium.webdriver.remote.webelement.WebElement (session=\"dd1e8e1887a8cc6b2f08c24dcb238407\", element=\"318c15dc-1049-4d79-b8f2-80e911891d24\")>,\n",
       " <selenium.webdriver.remote.webelement.WebElement (session=\"dd1e8e1887a8cc6b2f08c24dcb238407\", element=\"1eaab710-cc95-4fde-80b4-268fa540446e\")>,\n",
       " <selenium.webdriver.remote.webelement.WebElement (session=\"dd1e8e1887a8cc6b2f08c24dcb238407\", element=\"2822dd58-c177-4eab-a763-8aa54d3a9713\")>,\n",
       " <selenium.webdriver.remote.webelement.WebElement (session=\"dd1e8e1887a8cc6b2f08c24dcb238407\", element=\"fc273612-a130-4144-9d77-6567aea11f44\")>,\n",
       " <selenium.webdriver.remote.webelement.WebElement (session=\"dd1e8e1887a8cc6b2f08c24dcb238407\", element=\"25244b3f-9b7a-4019-9e82-eeb14bed03f6\")>,\n",
       " <selenium.webdriver.remote.webelement.WebElement (session=\"dd1e8e1887a8cc6b2f08c24dcb238407\", element=\"9be21a57-cc17-4fcf-bad6-fa352e7803d7\")>,\n",
       " <selenium.webdriver.remote.webelement.WebElement (session=\"dd1e8e1887a8cc6b2f08c24dcb238407\", element=\"5cb47070-35d8-402c-9685-b09365b52216\")>,\n",
       " <selenium.webdriver.remote.webelement.WebElement (session=\"dd1e8e1887a8cc6b2f08c24dcb238407\", element=\"95fe2866-b76d-49d8-89b3-29cc62384feb\")>,\n",
       " <selenium.webdriver.remote.webelement.WebElement (session=\"dd1e8e1887a8cc6b2f08c24dcb238407\", element=\"acf49014-2311-4b41-a22b-6a927d517f3e\")>,\n",
       " <selenium.webdriver.remote.webelement.WebElement (session=\"dd1e8e1887a8cc6b2f08c24dcb238407\", element=\"5b130e59-f341-4688-b88f-363b57c6b07f\")>,\n",
       " <selenium.webdriver.remote.webelement.WebElement (session=\"dd1e8e1887a8cc6b2f08c24dcb238407\", element=\"a548f0fe-d65f-486d-80e3-308e9955f504\")>,\n",
       " <selenium.webdriver.remote.webelement.WebElement (session=\"dd1e8e1887a8cc6b2f08c24dcb238407\", element=\"e18709a2-3bfe-43b2-9022-a731e1ce1513\")>,\n",
       " <selenium.webdriver.remote.webelement.WebElement (session=\"dd1e8e1887a8cc6b2f08c24dcb238407\", element=\"e1e16b19-7ef7-4906-9a21-189dc3fc71d7\")>,\n",
       " <selenium.webdriver.remote.webelement.WebElement (session=\"dd1e8e1887a8cc6b2f08c24dcb238407\", element=\"d45631c3-d0df-4e5b-ba91-3311bfa9a803\")>,\n",
       " <selenium.webdriver.remote.webelement.WebElement (session=\"dd1e8e1887a8cc6b2f08c24dcb238407\", element=\"d8074c5e-fcac-46dd-8936-07153ef67d35\")>,\n",
       " <selenium.webdriver.remote.webelement.WebElement (session=\"dd1e8e1887a8cc6b2f08c24dcb238407\", element=\"42b126c3-6cd2-49c7-b4de-a4d2251731fa\")>,\n",
       " <selenium.webdriver.remote.webelement.WebElement (session=\"dd1e8e1887a8cc6b2f08c24dcb238407\", element=\"9dd49e57-c43b-4aca-bcd3-43680fbc3316\")>,\n",
       " <selenium.webdriver.remote.webelement.WebElement (session=\"dd1e8e1887a8cc6b2f08c24dcb238407\", element=\"4c426be3-3e3b-481c-8ffd-681797632ccf\")>,\n",
       " <selenium.webdriver.remote.webelement.WebElement (session=\"dd1e8e1887a8cc6b2f08c24dcb238407\", element=\"f664fa37-1ccc-49e7-9a3a-6b6a8b685595\")>,\n",
       " <selenium.webdriver.remote.webelement.WebElement (session=\"dd1e8e1887a8cc6b2f08c24dcb238407\", element=\"853d5b3d-0e8a-4c07-8875-c5daf89bb49d\")>]"
      ]
     },
     "execution_count": 120,
     "metadata": {},
     "output_type": "execute_result"
    }
   ],
   "source": [
    "desc_tags = driver.find_elements_by_xpath('//a[@class=\"IRpwTa\"]')\n",
    "len(desc_tags)\n",
    "desc_tags[0:40]"
   ]
  },
  {
   "cell_type": "code",
   "execution_count": 121,
   "id": "ace0eb3a",
   "metadata": {},
   "outputs": [
    {
     "data": {
      "text/plain": [
       "['Sneakers For Men',\n",
       " 'Modern Trendy Sneakers Shoes Sneakers For Men',\n",
       " 'Super Stylish & Trendy Combo Pack of 02 Pairs Sneakers ...',\n",
       " 'Sneakers For Men',\n",
       " \"Casual , Partywear Sneakers Shoes For Men's And Boys Wh...\",\n",
       " 'STYLISH MENS BLACK AND WHITE SNEAKER Sneakers For Men',\n",
       " \"White Sneaker For Men's/Boy's Sneakers For Men\",\n",
       " 'Kwik FIT casual sneaker shoes and partywear shoes Casua...',\n",
       " 'Series 7 Sneakers For Men',\n",
       " 'Lattest Sneakers Shoe Sneakers For Men',\n",
       " 'Boots For Men',\n",
       " '5011-Latest Collection Stylish Casual Loafer Sneakers S...',\n",
       " 'Modern & Trendy Collection Combo Pack of 02 Shoes for M...',\n",
       " 'Sneakers For Men',\n",
       " 'Sneakers For Men',\n",
       " 'Sneaker Sneakers For Men',\n",
       " 'Sneakers For Men',\n",
       " \"Original Luxury Branded Fashionable Men's Casual Walkin...\",\n",
       " 'Sneakers For Men',\n",
       " 'Sneakers For Men',\n",
       " 'Sneakers For Men',\n",
       " 'Sneakers For Men',\n",
       " 'Men 5014 Latest Collection Stylish Casual Sports Loafer...',\n",
       " 'sneaker men red 1258 - 6 Sneakers For Men',\n",
       " 'Luxury Fashionable casual shoes Sneakers For Men',\n",
       " \"Men's Sneakers Fashion Lightweight Running Shoes Tennis...\",\n",
       " 'Latest Collection-1227 Stylish Casual Sports Sneakers F...',\n",
       " 'Sneakers For Men',\n",
       " 'Sneakers For Men',\n",
       " \"white Casual shoes,Sneakers for men's Sneakers For Men\",\n",
       " 'Sneakers For Men',\n",
       " 'Sneakers For Men']"
      ]
     },
     "execution_count": 121,
     "metadata": {},
     "output_type": "execute_result"
    }
   ],
   "source": [
    "product_desc =[]\n",
    "\n",
    "for i in desc_tags:\n",
    "    product_desc.append(i.text)\n",
    "len(product_desc)\n",
    "product_desc[0:40]"
   ]
  },
  {
   "cell_type": "code",
   "execution_count": 122,
   "id": "f87efd99",
   "metadata": {},
   "outputs": [
    {
     "data": {
      "text/plain": [
       "[<selenium.webdriver.remote.webelement.WebElement (session=\"dd1e8e1887a8cc6b2f08c24dcb238407\", element=\"33ac9a01-feb4-4cb7-897f-578d59e46a73\")>,\n",
       " <selenium.webdriver.remote.webelement.WebElement (session=\"dd1e8e1887a8cc6b2f08c24dcb238407\", element=\"fb0ea6b1-f61a-470b-b449-3cbe5f4a0372\")>,\n",
       " <selenium.webdriver.remote.webelement.WebElement (session=\"dd1e8e1887a8cc6b2f08c24dcb238407\", element=\"27d0ab9c-8d4d-4c48-95ea-4747bf3c9a55\")>,\n",
       " <selenium.webdriver.remote.webelement.WebElement (session=\"dd1e8e1887a8cc6b2f08c24dcb238407\", element=\"11d3e21f-6cc2-42c8-bf11-287e8ea40d69\")>,\n",
       " <selenium.webdriver.remote.webelement.WebElement (session=\"dd1e8e1887a8cc6b2f08c24dcb238407\", element=\"c5702a5d-eefe-4528-93d6-6c771dd7bb1e\")>,\n",
       " <selenium.webdriver.remote.webelement.WebElement (session=\"dd1e8e1887a8cc6b2f08c24dcb238407\", element=\"722173ed-aa12-41e7-a9e7-f03b272ff62c\")>,\n",
       " <selenium.webdriver.remote.webelement.WebElement (session=\"dd1e8e1887a8cc6b2f08c24dcb238407\", element=\"0991a236-439a-4b66-971f-9de7b6abd55c\")>,\n",
       " <selenium.webdriver.remote.webelement.WebElement (session=\"dd1e8e1887a8cc6b2f08c24dcb238407\", element=\"c104e638-d40a-41b1-8d8c-f6a947097390\")>,\n",
       " <selenium.webdriver.remote.webelement.WebElement (session=\"dd1e8e1887a8cc6b2f08c24dcb238407\", element=\"dc881a34-9557-4e9c-a643-54325effa732\")>,\n",
       " <selenium.webdriver.remote.webelement.WebElement (session=\"dd1e8e1887a8cc6b2f08c24dcb238407\", element=\"6242ea74-563e-4d75-aa14-70a3255f8b6c\")>,\n",
       " <selenium.webdriver.remote.webelement.WebElement (session=\"dd1e8e1887a8cc6b2f08c24dcb238407\", element=\"77349852-e507-462d-957c-35e07595e207\")>,\n",
       " <selenium.webdriver.remote.webelement.WebElement (session=\"dd1e8e1887a8cc6b2f08c24dcb238407\", element=\"f27bd56e-c14b-4cc8-8f17-5a8a8ad69af8\")>,\n",
       " <selenium.webdriver.remote.webelement.WebElement (session=\"dd1e8e1887a8cc6b2f08c24dcb238407\", element=\"5df329e5-5bcb-4d2a-ace3-5cb4d25d6012\")>,\n",
       " <selenium.webdriver.remote.webelement.WebElement (session=\"dd1e8e1887a8cc6b2f08c24dcb238407\", element=\"bc0979b9-ecf1-47da-bee4-9da0c34bdca6\")>,\n",
       " <selenium.webdriver.remote.webelement.WebElement (session=\"dd1e8e1887a8cc6b2f08c24dcb238407\", element=\"ed5929ad-868d-4c76-8b34-7a6ca38b1092\")>,\n",
       " <selenium.webdriver.remote.webelement.WebElement (session=\"dd1e8e1887a8cc6b2f08c24dcb238407\", element=\"533a57d3-9e55-49b4-9595-d06260db79bb\")>,\n",
       " <selenium.webdriver.remote.webelement.WebElement (session=\"dd1e8e1887a8cc6b2f08c24dcb238407\", element=\"878a338d-0c4e-4268-a54d-413323d387aa\")>,\n",
       " <selenium.webdriver.remote.webelement.WebElement (session=\"dd1e8e1887a8cc6b2f08c24dcb238407\", element=\"d262d9ac-d5f0-47a4-9d3b-658456e6da9d\")>,\n",
       " <selenium.webdriver.remote.webelement.WebElement (session=\"dd1e8e1887a8cc6b2f08c24dcb238407\", element=\"99ea7032-ad57-45b8-9073-951de6e6c170\")>,\n",
       " <selenium.webdriver.remote.webelement.WebElement (session=\"dd1e8e1887a8cc6b2f08c24dcb238407\", element=\"cb99c560-46d4-4cf4-bb00-af2fd739ac25\")>,\n",
       " <selenium.webdriver.remote.webelement.WebElement (session=\"dd1e8e1887a8cc6b2f08c24dcb238407\", element=\"c2044abf-a395-45e7-b045-acb8f5e13ccb\")>,\n",
       " <selenium.webdriver.remote.webelement.WebElement (session=\"dd1e8e1887a8cc6b2f08c24dcb238407\", element=\"9c746cae-d771-4060-b53c-a7b71957f951\")>,\n",
       " <selenium.webdriver.remote.webelement.WebElement (session=\"dd1e8e1887a8cc6b2f08c24dcb238407\", element=\"eda6d117-c04c-4c63-a3a7-0bde3f2d43f2\")>,\n",
       " <selenium.webdriver.remote.webelement.WebElement (session=\"dd1e8e1887a8cc6b2f08c24dcb238407\", element=\"79365b3e-33d2-4cf1-b707-a35e6693f720\")>,\n",
       " <selenium.webdriver.remote.webelement.WebElement (session=\"dd1e8e1887a8cc6b2f08c24dcb238407\", element=\"2204fb40-b86f-4416-a3d0-c8963ca89f7b\")>,\n",
       " <selenium.webdriver.remote.webelement.WebElement (session=\"dd1e8e1887a8cc6b2f08c24dcb238407\", element=\"d60036ab-383f-45b2-9554-171675195baf\")>,\n",
       " <selenium.webdriver.remote.webelement.WebElement (session=\"dd1e8e1887a8cc6b2f08c24dcb238407\", element=\"2eae7166-f730-4706-942b-932cfae22a7f\")>,\n",
       " <selenium.webdriver.remote.webelement.WebElement (session=\"dd1e8e1887a8cc6b2f08c24dcb238407\", element=\"f747d5c7-8b50-4a1a-830a-518de4218797\")>,\n",
       " <selenium.webdriver.remote.webelement.WebElement (session=\"dd1e8e1887a8cc6b2f08c24dcb238407\", element=\"da5aa0bf-c4e5-452d-aef1-36979c811737\")>,\n",
       " <selenium.webdriver.remote.webelement.WebElement (session=\"dd1e8e1887a8cc6b2f08c24dcb238407\", element=\"4fa8a672-c715-468a-9329-0d32814a6cf9\")>,\n",
       " <selenium.webdriver.remote.webelement.WebElement (session=\"dd1e8e1887a8cc6b2f08c24dcb238407\", element=\"c99597a4-477c-4f58-b3f7-6d993bd2c375\")>,\n",
       " <selenium.webdriver.remote.webelement.WebElement (session=\"dd1e8e1887a8cc6b2f08c24dcb238407\", element=\"a2711971-6ddf-4436-8a9d-6777b268a8b0\")>,\n",
       " <selenium.webdriver.remote.webelement.WebElement (session=\"dd1e8e1887a8cc6b2f08c24dcb238407\", element=\"a407401c-e66d-4ae9-b154-e1b90cac3fb2\")>,\n",
       " <selenium.webdriver.remote.webelement.WebElement (session=\"dd1e8e1887a8cc6b2f08c24dcb238407\", element=\"370a544a-dd9b-4280-805d-3d6dff7c8713\")>,\n",
       " <selenium.webdriver.remote.webelement.WebElement (session=\"dd1e8e1887a8cc6b2f08c24dcb238407\", element=\"04c737bd-6b12-4cd3-92a1-c3cbcd1ed977\")>,\n",
       " <selenium.webdriver.remote.webelement.WebElement (session=\"dd1e8e1887a8cc6b2f08c24dcb238407\", element=\"8ace2793-8d24-4c98-b62a-75510323ba01\")>,\n",
       " <selenium.webdriver.remote.webelement.WebElement (session=\"dd1e8e1887a8cc6b2f08c24dcb238407\", element=\"0fa6aa80-0a62-451e-8831-aeaf8a75b435\")>,\n",
       " <selenium.webdriver.remote.webelement.WebElement (session=\"dd1e8e1887a8cc6b2f08c24dcb238407\", element=\"2aaa2b80-308d-4873-85d7-82d89979fcbd\")>,\n",
       " <selenium.webdriver.remote.webelement.WebElement (session=\"dd1e8e1887a8cc6b2f08c24dcb238407\", element=\"ccfa754e-1b07-44b1-a927-db502eaa2186\")>,\n",
       " <selenium.webdriver.remote.webelement.WebElement (session=\"dd1e8e1887a8cc6b2f08c24dcb238407\", element=\"d9227723-73e9-46f8-945f-cee347a170d0\")>]"
      ]
     },
     "execution_count": 122,
     "metadata": {},
     "output_type": "execute_result"
    }
   ],
   "source": [
    "price_tags = driver.find_elements_by_xpath('//div[@class=\"_30jeq3\"]')\n",
    "len(price_tags)\n",
    "price_tags[0:40]"
   ]
  },
  {
   "cell_type": "code",
   "execution_count": 123,
   "id": "dec89049",
   "metadata": {},
   "outputs": [
    {
     "data": {
      "text/plain": [
       "['₹349',\n",
       " '₹149',\n",
       " '₹209',\n",
       " '₹148',\n",
       " '₹599',\n",
       " '₹398',\n",
       " '₹249',\n",
       " '₹399',\n",
       " '₹248',\n",
       " '₹349',\n",
       " '₹394',\n",
       " '₹249',\n",
       " '₹335',\n",
       " '₹149',\n",
       " '₹630',\n",
       " '₹421',\n",
       " '₹348',\n",
       " '₹310',\n",
       " '₹249',\n",
       " '₹449',\n",
       " '₹190',\n",
       " '₹424',\n",
       " '₹398',\n",
       " '₹444',\n",
       " '₹566',\n",
       " '₹519',\n",
       " '₹209',\n",
       " '₹209',\n",
       " '₹148',\n",
       " '₹357',\n",
       " '₹449',\n",
       " '₹209',\n",
       " '₹209',\n",
       " '₹261',\n",
       " '₹439',\n",
       " '₹309',\n",
       " '₹429',\n",
       " '₹398',\n",
       " '₹279',\n",
       " '₹209']"
      ]
     },
     "execution_count": 123,
     "metadata": {},
     "output_type": "execute_result"
    }
   ],
   "source": [
    "rate_tag = []\n",
    "for i in price_tags:\n",
    "    rate_tag.append(i.text)\n",
    "len(rate_tag)\n",
    "rate_tag[0:40]"
   ]
  },
  {
   "cell_type": "code",
   "execution_count": 124,
   "id": "85022b70",
   "metadata": {},
   "outputs": [],
   "source": [
    "url = 'https://www.flipkart.com/search?q=sneakers+for+men&sid=osp%2Ccil%2Ce1f&as=on&as-show=on&otracker=AS_QueryStore_HistoryAutoSuggest_1_5_na_na_na&otracker1=AS_QueryStore_HistoryAutoSuggest_1_5_na_na_na&as-pos=1&as-type=HISTORY&suggestionId=sneakers+for+men%7CCasual+Shoes&requestId=616dc335-923d-44a3-95a0-e3f473ba9460&as-searchtext=sneak&page=2'\n",
    "driver.get(url)"
   ]
  },
  {
   "cell_type": "code",
   "execution_count": 125,
   "id": "c85f6c11",
   "metadata": {},
   "outputs": [
    {
     "data": {
      "text/plain": [
       "[<selenium.webdriver.remote.webelement.WebElement (session=\"dd1e8e1887a8cc6b2f08c24dcb238407\", element=\"5fe422bc-2895-4d6b-9b37-5c7b4b2d1026\")>,\n",
       " <selenium.webdriver.remote.webelement.WebElement (session=\"dd1e8e1887a8cc6b2f08c24dcb238407\", element=\"67aa5f96-199e-455f-aad4-fbd3be81dfde\")>,\n",
       " <selenium.webdriver.remote.webelement.WebElement (session=\"dd1e8e1887a8cc6b2f08c24dcb238407\", element=\"404aa954-1c02-49cf-9ddf-3742a0809efb\")>,\n",
       " <selenium.webdriver.remote.webelement.WebElement (session=\"dd1e8e1887a8cc6b2f08c24dcb238407\", element=\"34e2cb3c-f3c8-42fe-9ae1-feb92f83d1c0\")>,\n",
       " <selenium.webdriver.remote.webelement.WebElement (session=\"dd1e8e1887a8cc6b2f08c24dcb238407\", element=\"67ee4853-a801-4234-9114-93d75cf21562\")>,\n",
       " <selenium.webdriver.remote.webelement.WebElement (session=\"dd1e8e1887a8cc6b2f08c24dcb238407\", element=\"16892f38-5bd1-4dd2-af49-c287011f5887\")>,\n",
       " <selenium.webdriver.remote.webelement.WebElement (session=\"dd1e8e1887a8cc6b2f08c24dcb238407\", element=\"0e4bcab4-bcae-441d-863b-981f2ebb3121\")>,\n",
       " <selenium.webdriver.remote.webelement.WebElement (session=\"dd1e8e1887a8cc6b2f08c24dcb238407\", element=\"c429a9e7-8d0e-4ccf-9874-707a51391790\")>,\n",
       " <selenium.webdriver.remote.webelement.WebElement (session=\"dd1e8e1887a8cc6b2f08c24dcb238407\", element=\"bab63882-ef3f-490f-8631-3e8ddf430e28\")>,\n",
       " <selenium.webdriver.remote.webelement.WebElement (session=\"dd1e8e1887a8cc6b2f08c24dcb238407\", element=\"1060f4e0-080d-4161-8770-528600e9c84b\")>,\n",
       " <selenium.webdriver.remote.webelement.WebElement (session=\"dd1e8e1887a8cc6b2f08c24dcb238407\", element=\"73a26a91-617f-4883-987f-ad8581bc7f61\")>,\n",
       " <selenium.webdriver.remote.webelement.WebElement (session=\"dd1e8e1887a8cc6b2f08c24dcb238407\", element=\"c9035f9b-a5bc-40ff-9ad3-4ddefc5fd002\")>,\n",
       " <selenium.webdriver.remote.webelement.WebElement (session=\"dd1e8e1887a8cc6b2f08c24dcb238407\", element=\"554ea0f1-a152-4cac-b3a0-80de9d446d36\")>,\n",
       " <selenium.webdriver.remote.webelement.WebElement (session=\"dd1e8e1887a8cc6b2f08c24dcb238407\", element=\"8c8c0c24-0744-47d2-b01a-da2b6db3af80\")>,\n",
       " <selenium.webdriver.remote.webelement.WebElement (session=\"dd1e8e1887a8cc6b2f08c24dcb238407\", element=\"6e0a2102-8746-4a92-9cf7-96d3df65f2d1\")>,\n",
       " <selenium.webdriver.remote.webelement.WebElement (session=\"dd1e8e1887a8cc6b2f08c24dcb238407\", element=\"3f4dc697-9647-4c3c-8e03-e2636c1b1306\")>,\n",
       " <selenium.webdriver.remote.webelement.WebElement (session=\"dd1e8e1887a8cc6b2f08c24dcb238407\", element=\"03157db6-9b2c-40cb-a507-2654a69c02b3\")>,\n",
       " <selenium.webdriver.remote.webelement.WebElement (session=\"dd1e8e1887a8cc6b2f08c24dcb238407\", element=\"05b64fe1-7e86-4119-bb47-965abbb65c2e\")>,\n",
       " <selenium.webdriver.remote.webelement.WebElement (session=\"dd1e8e1887a8cc6b2f08c24dcb238407\", element=\"564726f7-2903-4a39-b333-712867667826\")>,\n",
       " <selenium.webdriver.remote.webelement.WebElement (session=\"dd1e8e1887a8cc6b2f08c24dcb238407\", element=\"f58bf4f8-d224-43bf-9f7b-f1640c9363bd\")>,\n",
       " <selenium.webdriver.remote.webelement.WebElement (session=\"dd1e8e1887a8cc6b2f08c24dcb238407\", element=\"bd9e7cf5-6b7e-4af4-98d1-a556a13bb63a\")>,\n",
       " <selenium.webdriver.remote.webelement.WebElement (session=\"dd1e8e1887a8cc6b2f08c24dcb238407\", element=\"7b3de8d2-5079-4c37-baba-a76c3c4292bf\")>,\n",
       " <selenium.webdriver.remote.webelement.WebElement (session=\"dd1e8e1887a8cc6b2f08c24dcb238407\", element=\"5e30aeed-8948-4a12-acb9-ae8e390a4742\")>,\n",
       " <selenium.webdriver.remote.webelement.WebElement (session=\"dd1e8e1887a8cc6b2f08c24dcb238407\", element=\"30059215-ba6c-47f5-b8b9-4b23bd7b90d0\")>,\n",
       " <selenium.webdriver.remote.webelement.WebElement (session=\"dd1e8e1887a8cc6b2f08c24dcb238407\", element=\"33094f0a-0c64-4b94-bd07-5624ec41d704\")>,\n",
       " <selenium.webdriver.remote.webelement.WebElement (session=\"dd1e8e1887a8cc6b2f08c24dcb238407\", element=\"c588b271-0d9e-4eee-a0da-19e311ec761d\")>,\n",
       " <selenium.webdriver.remote.webelement.WebElement (session=\"dd1e8e1887a8cc6b2f08c24dcb238407\", element=\"6bfa755c-406b-47ac-bba2-9a2aa53b0204\")>,\n",
       " <selenium.webdriver.remote.webelement.WebElement (session=\"dd1e8e1887a8cc6b2f08c24dcb238407\", element=\"8b984a20-9529-4c50-88fb-2081810e8674\")>,\n",
       " <selenium.webdriver.remote.webelement.WebElement (session=\"dd1e8e1887a8cc6b2f08c24dcb238407\", element=\"46c95955-4088-472c-84ea-aca94905845c\")>,\n",
       " <selenium.webdriver.remote.webelement.WebElement (session=\"dd1e8e1887a8cc6b2f08c24dcb238407\", element=\"a0dd5a0f-2d3e-43e4-be32-1558511b56c5\")>,\n",
       " <selenium.webdriver.remote.webelement.WebElement (session=\"dd1e8e1887a8cc6b2f08c24dcb238407\", element=\"10203139-e76d-4009-b48d-7e6829a1ec51\")>,\n",
       " <selenium.webdriver.remote.webelement.WebElement (session=\"dd1e8e1887a8cc6b2f08c24dcb238407\", element=\"18edd7ea-81d5-49e8-a044-bb1760ff37bb\")>,\n",
       " <selenium.webdriver.remote.webelement.WebElement (session=\"dd1e8e1887a8cc6b2f08c24dcb238407\", element=\"f147e58c-9e79-4f27-a779-05db28c628ca\")>,\n",
       " <selenium.webdriver.remote.webelement.WebElement (session=\"dd1e8e1887a8cc6b2f08c24dcb238407\", element=\"793c5cfb-6d96-4c97-ac9a-666ff812d810\")>,\n",
       " <selenium.webdriver.remote.webelement.WebElement (session=\"dd1e8e1887a8cc6b2f08c24dcb238407\", element=\"2cf46054-80ed-4c7d-adc5-663033139c76\")>,\n",
       " <selenium.webdriver.remote.webelement.WebElement (session=\"dd1e8e1887a8cc6b2f08c24dcb238407\", element=\"9b41705c-abd6-45c9-a88f-17ae09fec08c\")>,\n",
       " <selenium.webdriver.remote.webelement.WebElement (session=\"dd1e8e1887a8cc6b2f08c24dcb238407\", element=\"c76c2be3-646f-466d-95b2-d1eb787e5716\")>,\n",
       " <selenium.webdriver.remote.webelement.WebElement (session=\"dd1e8e1887a8cc6b2f08c24dcb238407\", element=\"2fb29533-1e1e-4a3f-b285-52ee1aa450b5\")>,\n",
       " <selenium.webdriver.remote.webelement.WebElement (session=\"dd1e8e1887a8cc6b2f08c24dcb238407\", element=\"ab86cd48-4054-4dd4-b963-ea1f5870738f\")>,\n",
       " <selenium.webdriver.remote.webelement.WebElement (session=\"dd1e8e1887a8cc6b2f08c24dcb238407\", element=\"02fdb3c7-aede-4ea7-8002-d4f2a25586d1\")>]"
      ]
     },
     "execution_count": 125,
     "metadata": {},
     "output_type": "execute_result"
    }
   ],
   "source": [
    "title_tags = driver.find_elements_by_xpath('//div[@class=\"_2WkVRV\"]')\n",
    "len(title_tags)\n",
    "title_tags[0:40]"
   ]
  },
  {
   "cell_type": "code",
   "execution_count": 126,
   "id": "a7543b29",
   "metadata": {},
   "outputs": [
    {
     "data": {
      "text/plain": [
       "['Dizzler',\n",
       " 'BRUTON',\n",
       " 'Trendmode',\n",
       " 'India hub',\n",
       " 'CLYMB',\n",
       " 'BRUTON',\n",
       " 'India hub',\n",
       " 'LE GREEM',\n",
       " 'BIRDE',\n",
       " 'D-SNEAKERZ',\n",
       " 'ASIAN',\n",
       " 'LeeRooy',\n",
       " 'Chevit',\n",
       " 'PUMA',\n",
       " 'Noztile',\n",
       " 'Rzisbo',\n",
       " 'Chevit',\n",
       " 'Kraasa',\n",
       " 'Vellinto',\n",
       " 'HOTSTYLE',\n",
       " 'CLYMB',\n",
       " 'T-ROCK',\n",
       " 'Elevarse',\n",
       " 'SPARX',\n",
       " 'Brainer',\n",
       " 'aadi',\n",
       " 'Zixer',\n",
       " 'Hida',\n",
       " 'RANZAG',\n",
       " 'BRUTON',\n",
       " 'Robbie jones',\n",
       " 'Chevit',\n",
       " 'RapidBox',\n",
       " 'luxury fashion',\n",
       " 'Chevit',\n",
       " 'Numenzo',\n",
       " 'LeeRooy',\n",
       " 'Numenzo',\n",
       " 'ESSENCE',\n",
       " 'BIRDE']"
      ]
     },
     "execution_count": 126,
     "metadata": {},
     "output_type": "execute_result"
    }
   ],
   "source": [
    "product_titles =[]\n",
    "\n",
    "for i in title_tags:\n",
    "    product_titles.append(i.text)\n",
    "len(product_titles)\n",
    "product_titles"
   ]
  },
  {
   "cell_type": "code",
   "execution_count": 127,
   "id": "016f1e4b",
   "metadata": {},
   "outputs": [
    {
     "data": {
      "text/plain": [
       "[<selenium.webdriver.remote.webelement.WebElement (session=\"dd1e8e1887a8cc6b2f08c24dcb238407\", element=\"187aa2fe-02d8-4096-9a87-3a33fbdec67c\")>,\n",
       " <selenium.webdriver.remote.webelement.WebElement (session=\"dd1e8e1887a8cc6b2f08c24dcb238407\", element=\"d6c22e82-4df1-491c-8247-26605f7000b2\")>,\n",
       " <selenium.webdriver.remote.webelement.WebElement (session=\"dd1e8e1887a8cc6b2f08c24dcb238407\", element=\"52ffd150-f053-4759-926d-94f19558dfb0\")>,\n",
       " <selenium.webdriver.remote.webelement.WebElement (session=\"dd1e8e1887a8cc6b2f08c24dcb238407\", element=\"3d45e56d-ef93-4c39-8e48-074e05196b61\")>,\n",
       " <selenium.webdriver.remote.webelement.WebElement (session=\"dd1e8e1887a8cc6b2f08c24dcb238407\", element=\"332758cc-6e3c-4269-86bf-67bf6b149221\")>,\n",
       " <selenium.webdriver.remote.webelement.WebElement (session=\"dd1e8e1887a8cc6b2f08c24dcb238407\", element=\"a1f90d84-bd73-43a1-965c-31b0115e265c\")>,\n",
       " <selenium.webdriver.remote.webelement.WebElement (session=\"dd1e8e1887a8cc6b2f08c24dcb238407\", element=\"ab7bf80e-6b32-45df-98e9-3984d3e6f8ed\")>,\n",
       " <selenium.webdriver.remote.webelement.WebElement (session=\"dd1e8e1887a8cc6b2f08c24dcb238407\", element=\"9073ed22-5c7f-4255-8ee5-dd15ffc83929\")>,\n",
       " <selenium.webdriver.remote.webelement.WebElement (session=\"dd1e8e1887a8cc6b2f08c24dcb238407\", element=\"fdfb2079-ec48-4cb3-8813-7c19dfb5a1e5\")>,\n",
       " <selenium.webdriver.remote.webelement.WebElement (session=\"dd1e8e1887a8cc6b2f08c24dcb238407\", element=\"8001b039-2b50-46aa-804b-5dc75e50c458\")>,\n",
       " <selenium.webdriver.remote.webelement.WebElement (session=\"dd1e8e1887a8cc6b2f08c24dcb238407\", element=\"a65244c9-893f-41f1-8206-195556bc6973\")>,\n",
       " <selenium.webdriver.remote.webelement.WebElement (session=\"dd1e8e1887a8cc6b2f08c24dcb238407\", element=\"4992da24-a61f-4433-b2d0-49e7bfeff2b2\")>,\n",
       " <selenium.webdriver.remote.webelement.WebElement (session=\"dd1e8e1887a8cc6b2f08c24dcb238407\", element=\"00645449-2693-40c2-8dcd-c84d4490675e\")>,\n",
       " <selenium.webdriver.remote.webelement.WebElement (session=\"dd1e8e1887a8cc6b2f08c24dcb238407\", element=\"313fae4e-d193-4693-97bb-dec50f86f3c8\")>,\n",
       " <selenium.webdriver.remote.webelement.WebElement (session=\"dd1e8e1887a8cc6b2f08c24dcb238407\", element=\"5ff473fd-58b0-4981-9324-f89cbe22e705\")>,\n",
       " <selenium.webdriver.remote.webelement.WebElement (session=\"dd1e8e1887a8cc6b2f08c24dcb238407\", element=\"d4b2236e-bdd2-4c4d-9cd9-23eded233044\")>,\n",
       " <selenium.webdriver.remote.webelement.WebElement (session=\"dd1e8e1887a8cc6b2f08c24dcb238407\", element=\"12aebfc6-640a-4b8b-bd23-acb0ddd451cd\")>,\n",
       " <selenium.webdriver.remote.webelement.WebElement (session=\"dd1e8e1887a8cc6b2f08c24dcb238407\", element=\"ec3766a4-e29e-4319-be9b-aca2ae1a59ab\")>,\n",
       " <selenium.webdriver.remote.webelement.WebElement (session=\"dd1e8e1887a8cc6b2f08c24dcb238407\", element=\"6de45700-31ab-402b-9378-29cad5b29b70\")>,\n",
       " <selenium.webdriver.remote.webelement.WebElement (session=\"dd1e8e1887a8cc6b2f08c24dcb238407\", element=\"663e2772-4efd-4641-bc44-c334ce0dfdaf\")>,\n",
       " <selenium.webdriver.remote.webelement.WebElement (session=\"dd1e8e1887a8cc6b2f08c24dcb238407\", element=\"566e3dd6-fdb2-4899-9894-555e596a184e\")>,\n",
       " <selenium.webdriver.remote.webelement.WebElement (session=\"dd1e8e1887a8cc6b2f08c24dcb238407\", element=\"e84bb878-0576-4fe7-b66a-2413ddeebcbd\")>,\n",
       " <selenium.webdriver.remote.webelement.WebElement (session=\"dd1e8e1887a8cc6b2f08c24dcb238407\", element=\"7d9bf254-6f28-469c-8f79-2c29d8d1caa2\")>,\n",
       " <selenium.webdriver.remote.webelement.WebElement (session=\"dd1e8e1887a8cc6b2f08c24dcb238407\", element=\"a0748b1c-1a6f-4c36-994c-e2f8f6a44f0a\")>,\n",
       " <selenium.webdriver.remote.webelement.WebElement (session=\"dd1e8e1887a8cc6b2f08c24dcb238407\", element=\"8f7491d3-6942-4aa1-849b-0c3fc8ac0ac7\")>,\n",
       " <selenium.webdriver.remote.webelement.WebElement (session=\"dd1e8e1887a8cc6b2f08c24dcb238407\", element=\"cfc7184e-b50b-4b39-b982-bb7c6acf9cd2\")>,\n",
       " <selenium.webdriver.remote.webelement.WebElement (session=\"dd1e8e1887a8cc6b2f08c24dcb238407\", element=\"c1f235b7-2320-4130-ad71-d0be73aeca84\")>,\n",
       " <selenium.webdriver.remote.webelement.WebElement (session=\"dd1e8e1887a8cc6b2f08c24dcb238407\", element=\"31c7e1f0-c6e9-47f6-b9aa-d352b512d29e\")>,\n",
       " <selenium.webdriver.remote.webelement.WebElement (session=\"dd1e8e1887a8cc6b2f08c24dcb238407\", element=\"3c0c07e0-f22e-4ef9-904a-8e96a8e8d786\")>,\n",
       " <selenium.webdriver.remote.webelement.WebElement (session=\"dd1e8e1887a8cc6b2f08c24dcb238407\", element=\"cfbe2ec1-caf3-4e9c-85b7-08d31c5da069\")>,\n",
       " <selenium.webdriver.remote.webelement.WebElement (session=\"dd1e8e1887a8cc6b2f08c24dcb238407\", element=\"df36abf5-e652-400a-ac02-249c97b5fbcc\")>,\n",
       " <selenium.webdriver.remote.webelement.WebElement (session=\"dd1e8e1887a8cc6b2f08c24dcb238407\", element=\"5bd0b524-e6d0-46b3-9f64-f347913af122\")>]"
      ]
     },
     "execution_count": 127,
     "metadata": {},
     "output_type": "execute_result"
    }
   ],
   "source": [
    "desc_tags = driver.find_elements_by_xpath('//a[@class=\"IRpwTa\"]')\n",
    "len(desc_tags)\n",
    "desc_tags[0:40]"
   ]
  },
  {
   "cell_type": "code",
   "execution_count": 128,
   "id": "0888d764",
   "metadata": {},
   "outputs": [
    {
     "data": {
      "text/plain": [
       "['Modern & Trendy Collection Combo Pack of 02 Shoes for M...',\n",
       " 'Sneakers For Men',\n",
       " 'casual sneaker shoes for men kardam&sons Sneakers For M...',\n",
       " \"Perfect Sports Shoes for Men's Running ,Cycling & Trekk...\",\n",
       " 'Combo Pack Of 4 Casual Shoes Loafer Shoes Sneakers For ...',\n",
       " 'Luxury Fashionable casual sneaker shoes Sneakers For Me...',\n",
       " 'Comfortable & Ultra Light Weight Sneaker Sneakers For M...',\n",
       " 'Sports Running Shoes Sneakers For Men',\n",
       " \"Casual , Partywear Sneakers Shoes For Men's And Boys Wh...\",\n",
       " 'Skypy-31 Walking Shoes,Training Shoes,Sneakers,Loafers,...',\n",
       " 'Unique & Perfect Collection Combo Pack of 02 Shoes for ...',\n",
       " 'Sneakers For Men',\n",
       " 'Sneakers For Men',\n",
       " 'Sneakers For Men',\n",
       " 'Perfect & Affordable Combo Pack of 02 Pairs Sneakers Ou...',\n",
       " 'Shark-41 Sneakers For Men',\n",
       " 'Casual Sneakrs For Men Sneakers For Men',\n",
       " 'CR-1 Sneakers For Men',\n",
       " 'Sneakers For Men',\n",
       " 'Stylish White Casual Sneakers shoes Men and Boys Sneake...',\n",
       " 'Sneakers For Men',\n",
       " 'Canvas Stylish Loafers For Men',\n",
       " 'Sneakers For Men',\n",
       " 'Running Shoes Stylish Comfortable Shoes For Men Sneaker...',\n",
       " 'Combo Pack Of 2 Latest Stylish Casual Shoes for Men Lac...',\n",
       " 'Sneakers For Men',\n",
       " 'Fashionable sneaker shoes Sneakers For Men',\n",
       " '494 Perfect Sports Shoes for Running Training Hikking &...',\n",
       " 'Sneakers For Men',\n",
       " '411 Casual Sneakers For Men',\n",
       " 'Sneakers For Men',\n",
       " 'Stylish Comfortable Lightweight, Breathable Casual Walk...']"
      ]
     },
     "execution_count": 128,
     "metadata": {},
     "output_type": "execute_result"
    }
   ],
   "source": [
    "product_desc =[]\n",
    "\n",
    "for i in desc_tags:\n",
    "    product_desc.append(i.text)\n",
    "len(product_desc)\n",
    "product_desc[0:40]"
   ]
  },
  {
   "cell_type": "code",
   "execution_count": 129,
   "id": "78436a7c",
   "metadata": {},
   "outputs": [
    {
     "data": {
      "text/plain": [
       "[<selenium.webdriver.remote.webelement.WebElement (session=\"dd1e8e1887a8cc6b2f08c24dcb238407\", element=\"6dd669c6-c676-4bdf-b157-e0006a72764c\")>,\n",
       " <selenium.webdriver.remote.webelement.WebElement (session=\"dd1e8e1887a8cc6b2f08c24dcb238407\", element=\"81447b18-5f80-44e3-87ab-b6237b575100\")>,\n",
       " <selenium.webdriver.remote.webelement.WebElement (session=\"dd1e8e1887a8cc6b2f08c24dcb238407\", element=\"d6b93cdf-accf-4058-a3e5-e2dbad66872e\")>,\n",
       " <selenium.webdriver.remote.webelement.WebElement (session=\"dd1e8e1887a8cc6b2f08c24dcb238407\", element=\"6585e04d-810a-4b9a-b59b-69bf07e46787\")>,\n",
       " <selenium.webdriver.remote.webelement.WebElement (session=\"dd1e8e1887a8cc6b2f08c24dcb238407\", element=\"8cd93ead-5b3e-4516-bbcf-5b144ea468f0\")>,\n",
       " <selenium.webdriver.remote.webelement.WebElement (session=\"dd1e8e1887a8cc6b2f08c24dcb238407\", element=\"4782b5a2-6595-479a-beb5-7036be72a14b\")>,\n",
       " <selenium.webdriver.remote.webelement.WebElement (session=\"dd1e8e1887a8cc6b2f08c24dcb238407\", element=\"88c21c36-a519-44ae-b18e-a62c0ced92c5\")>,\n",
       " <selenium.webdriver.remote.webelement.WebElement (session=\"dd1e8e1887a8cc6b2f08c24dcb238407\", element=\"9cbf0aa7-7247-4ccb-86fd-c3b37eec87c3\")>,\n",
       " <selenium.webdriver.remote.webelement.WebElement (session=\"dd1e8e1887a8cc6b2f08c24dcb238407\", element=\"d10ec9b5-43db-44d6-beac-19c97b1ea8eb\")>,\n",
       " <selenium.webdriver.remote.webelement.WebElement (session=\"dd1e8e1887a8cc6b2f08c24dcb238407\", element=\"60f1c9b4-4852-41e0-afaf-f7c804114bc1\")>,\n",
       " <selenium.webdriver.remote.webelement.WebElement (session=\"dd1e8e1887a8cc6b2f08c24dcb238407\", element=\"c6a887ef-ae72-4e11-ab4b-3efb912962e8\")>,\n",
       " <selenium.webdriver.remote.webelement.WebElement (session=\"dd1e8e1887a8cc6b2f08c24dcb238407\", element=\"3f70d773-9e27-4657-a1d0-5adbf572dc16\")>,\n",
       " <selenium.webdriver.remote.webelement.WebElement (session=\"dd1e8e1887a8cc6b2f08c24dcb238407\", element=\"1b203776-091f-4e6d-bd2d-0cc788bdd97f\")>,\n",
       " <selenium.webdriver.remote.webelement.WebElement (session=\"dd1e8e1887a8cc6b2f08c24dcb238407\", element=\"98b31164-1a1a-4d90-a2d9-430da7703dd3\")>,\n",
       " <selenium.webdriver.remote.webelement.WebElement (session=\"dd1e8e1887a8cc6b2f08c24dcb238407\", element=\"a7ab92b9-1edc-4c99-b37e-d9bc21c517e1\")>,\n",
       " <selenium.webdriver.remote.webelement.WebElement (session=\"dd1e8e1887a8cc6b2f08c24dcb238407\", element=\"7301ec6b-7dc8-4084-82a9-48d3ccbf90be\")>,\n",
       " <selenium.webdriver.remote.webelement.WebElement (session=\"dd1e8e1887a8cc6b2f08c24dcb238407\", element=\"d5384e1e-1699-4141-9ea2-fc0a8374c0cc\")>,\n",
       " <selenium.webdriver.remote.webelement.WebElement (session=\"dd1e8e1887a8cc6b2f08c24dcb238407\", element=\"fc85df60-99ea-4c3b-8e72-a4ef59c44103\")>,\n",
       " <selenium.webdriver.remote.webelement.WebElement (session=\"dd1e8e1887a8cc6b2f08c24dcb238407\", element=\"6f0a14db-cdd0-4076-ace4-b7b79b7963cb\")>,\n",
       " <selenium.webdriver.remote.webelement.WebElement (session=\"dd1e8e1887a8cc6b2f08c24dcb238407\", element=\"23e7fff2-a837-441b-a1d7-f755a9ce80ae\")>,\n",
       " <selenium.webdriver.remote.webelement.WebElement (session=\"dd1e8e1887a8cc6b2f08c24dcb238407\", element=\"51a95aae-f439-4780-9ddc-b3d6c899aff8\")>,\n",
       " <selenium.webdriver.remote.webelement.WebElement (session=\"dd1e8e1887a8cc6b2f08c24dcb238407\", element=\"4e8c966c-2082-4077-89f7-b57667313e22\")>,\n",
       " <selenium.webdriver.remote.webelement.WebElement (session=\"dd1e8e1887a8cc6b2f08c24dcb238407\", element=\"cb666ce3-f32c-4d9d-9542-0666173de219\")>,\n",
       " <selenium.webdriver.remote.webelement.WebElement (session=\"dd1e8e1887a8cc6b2f08c24dcb238407\", element=\"cfaf1157-95b3-4680-ad82-714a7c3f8e5f\")>,\n",
       " <selenium.webdriver.remote.webelement.WebElement (session=\"dd1e8e1887a8cc6b2f08c24dcb238407\", element=\"8917c9df-4af8-4fe9-b1c0-29bf353b310b\")>,\n",
       " <selenium.webdriver.remote.webelement.WebElement (session=\"dd1e8e1887a8cc6b2f08c24dcb238407\", element=\"c9295aad-ceca-44b2-8401-96185d5c710e\")>,\n",
       " <selenium.webdriver.remote.webelement.WebElement (session=\"dd1e8e1887a8cc6b2f08c24dcb238407\", element=\"965a5aeb-b633-4f6c-9b62-da8ace4047a8\")>,\n",
       " <selenium.webdriver.remote.webelement.WebElement (session=\"dd1e8e1887a8cc6b2f08c24dcb238407\", element=\"52fe8161-e0b5-438d-a09c-bdf938835efb\")>,\n",
       " <selenium.webdriver.remote.webelement.WebElement (session=\"dd1e8e1887a8cc6b2f08c24dcb238407\", element=\"26379f7a-3788-4188-86f5-5f2535c3e85e\")>,\n",
       " <selenium.webdriver.remote.webelement.WebElement (session=\"dd1e8e1887a8cc6b2f08c24dcb238407\", element=\"01c416e8-5043-4b74-9b34-36903541b3b8\")>,\n",
       " <selenium.webdriver.remote.webelement.WebElement (session=\"dd1e8e1887a8cc6b2f08c24dcb238407\", element=\"3c645926-bcdd-4da9-9c48-46b67da6c257\")>,\n",
       " <selenium.webdriver.remote.webelement.WebElement (session=\"dd1e8e1887a8cc6b2f08c24dcb238407\", element=\"8abfcd52-df01-4d0c-b99a-e5a8761959a3\")>,\n",
       " <selenium.webdriver.remote.webelement.WebElement (session=\"dd1e8e1887a8cc6b2f08c24dcb238407\", element=\"ddf4d3d5-e20c-45e1-84c1-8cb8fde12aec\")>,\n",
       " <selenium.webdriver.remote.webelement.WebElement (session=\"dd1e8e1887a8cc6b2f08c24dcb238407\", element=\"0bb10f9b-e2bc-47ca-baea-b511db4a9681\")>,\n",
       " <selenium.webdriver.remote.webelement.WebElement (session=\"dd1e8e1887a8cc6b2f08c24dcb238407\", element=\"4727f8e1-016d-4301-b28d-d9f678a944a6\")>,\n",
       " <selenium.webdriver.remote.webelement.WebElement (session=\"dd1e8e1887a8cc6b2f08c24dcb238407\", element=\"c376ad3f-1f0e-4a81-b013-5f9a6f676423\")>,\n",
       " <selenium.webdriver.remote.webelement.WebElement (session=\"dd1e8e1887a8cc6b2f08c24dcb238407\", element=\"472dafe9-dfe0-47d9-ac40-36f76ddc1b8b\")>,\n",
       " <selenium.webdriver.remote.webelement.WebElement (session=\"dd1e8e1887a8cc6b2f08c24dcb238407\", element=\"5393afd7-c773-44ad-aae2-b941b14049fa\")>,\n",
       " <selenium.webdriver.remote.webelement.WebElement (session=\"dd1e8e1887a8cc6b2f08c24dcb238407\", element=\"911a4deb-5bdf-43e8-82a9-e3049e7b9831\")>,\n",
       " <selenium.webdriver.remote.webelement.WebElement (session=\"dd1e8e1887a8cc6b2f08c24dcb238407\", element=\"1305fbfa-2797-49fc-b87b-cc884450bddf\")>]"
      ]
     },
     "execution_count": 129,
     "metadata": {},
     "output_type": "execute_result"
    }
   ],
   "source": [
    "price_tags = driver.find_elements_by_xpath('//a[@class=\"_3bPFwb\"]')\n",
    "len(price_tags)\n",
    "price_tags[0:40]"
   ]
  },
  {
   "cell_type": "code",
   "execution_count": 130,
   "id": "49485f28",
   "metadata": {},
   "outputs": [
    {
     "data": {
      "text/plain": [
       "['₹445₹71938% off',\n",
       " '₹486₹2,49980% off',\n",
       " '₹209₹69970% off',\n",
       " '₹399₹1,29969% off',\n",
       " '₹199₹99980% off',\n",
       " '₹449₹3,49987% off',\n",
       " '₹333₹1,99983% off',\n",
       " '₹399₹99960% off',\n",
       " '₹249₹49950% off',\n",
       " '₹334₹99966% off',\n",
       " '₹498₹79937% off',\n",
       " '₹515₹1,89972% off',\n",
       " '₹449₹1,49870% off',\n",
       " '₹2,749₹3,49921% off\\nFree delivery',\n",
       " '₹349₹1,99982% off',\n",
       " '₹489₹99951% off',\n",
       " '₹499₹1,79872% off',\n",
       " '₹394₹99960% off',\n",
       " '₹586₹1,29954% off\\nFree delivery',\n",
       " '₹202₹49959% off',\n",
       " '₹566₹1,49962% off\\nFree delivery',\n",
       " '₹349₹99965% off',\n",
       " '₹349₹99965% off',\n",
       " '₹501₹64922% off\\nFree delivery',\n",
       " '₹449₹1,29965% off',\n",
       " '₹309₹99969% off',\n",
       " '₹649₹1,99967% off\\nFree delivery',\n",
       " '₹566₹99943% off\\nFree delivery',\n",
       " '₹349₹99965% off',\n",
       " '₹480₹2,49980% off',\n",
       " '₹449₹99955% off',\n",
       " '₹574₹2,39776% off\\nFree delivery',\n",
       " '₹630₹99936% off',\n",
       " '₹449₹1,99977% off',\n",
       " '₹249₹99975% off',\n",
       " '₹379₹1,29970% off',\n",
       " '₹448₹1,05057% off',\n",
       " '₹424₹1,99978% off',\n",
       " '₹349₹99965% off',\n",
       " '₹349₹99965% off']"
      ]
     },
     "execution_count": 130,
     "metadata": {},
     "output_type": "execute_result"
    }
   ],
   "source": [
    "rate_tag = []\n",
    "for i in price_tags:\n",
    "    rate_tag.append(i.text)\n",
    "len(rate_tag)\n",
    "rate_tag[0:40]"
   ]
  },
  {
   "cell_type": "code",
   "execution_count": 131,
   "id": "a050371c",
   "metadata": {},
   "outputs": [],
   "source": [
    "url = \"https://www.flipkart.com/search?q=sneakers+for+men&sid=osp%2Ccil%2Ce1f&as=on&as-show=on&otracker=AS_QueryStore_HistoryAutoSuggest_1_5_na_na_na&otracker1=AS_QueryStore_HistoryAutoSuggest_1_5_na_na_na&as-pos=1&as-type=HISTORY&suggestionId=sneakers+for+men%7CCasual+Shoes&requestId=616dc335-923d-44a3-95a0-e3f473ba9460&as-searchtext=sneak&page=3\"\n",
    "driver.get(url)"
   ]
  },
  {
   "cell_type": "code",
   "execution_count": 132,
   "id": "c8b7f285",
   "metadata": {},
   "outputs": [
    {
     "data": {
      "text/plain": [
       "[<selenium.webdriver.remote.webelement.WebElement (session=\"dd1e8e1887a8cc6b2f08c24dcb238407\", element=\"c76de9d0-0dec-4d8c-81b3-db44605362e0\")>,\n",
       " <selenium.webdriver.remote.webelement.WebElement (session=\"dd1e8e1887a8cc6b2f08c24dcb238407\", element=\"7b07dd7f-56a4-4eef-b9f3-96e484b4daf4\")>,\n",
       " <selenium.webdriver.remote.webelement.WebElement (session=\"dd1e8e1887a8cc6b2f08c24dcb238407\", element=\"20386df5-e71e-4a97-b6c0-e9b805ab967a\")>,\n",
       " <selenium.webdriver.remote.webelement.WebElement (session=\"dd1e8e1887a8cc6b2f08c24dcb238407\", element=\"31a46c44-464b-481d-a88e-e336c8004b7d\")>,\n",
       " <selenium.webdriver.remote.webelement.WebElement (session=\"dd1e8e1887a8cc6b2f08c24dcb238407\", element=\"0b94ace1-c4ca-4501-bf00-bd14c6d3ef6d\")>,\n",
       " <selenium.webdriver.remote.webelement.WebElement (session=\"dd1e8e1887a8cc6b2f08c24dcb238407\", element=\"25ae2898-baff-44e0-a1dc-e431bfbbc5c5\")>,\n",
       " <selenium.webdriver.remote.webelement.WebElement (session=\"dd1e8e1887a8cc6b2f08c24dcb238407\", element=\"ab344244-7d42-491d-b1b0-2d65eb78243a\")>,\n",
       " <selenium.webdriver.remote.webelement.WebElement (session=\"dd1e8e1887a8cc6b2f08c24dcb238407\", element=\"be69431d-0f22-4777-bd6e-d837226f8d5d\")>,\n",
       " <selenium.webdriver.remote.webelement.WebElement (session=\"dd1e8e1887a8cc6b2f08c24dcb238407\", element=\"1f73b6ce-adc6-4a7f-9188-d9c1f028b233\")>,\n",
       " <selenium.webdriver.remote.webelement.WebElement (session=\"dd1e8e1887a8cc6b2f08c24dcb238407\", element=\"47d6f50e-cae3-49ac-a79c-1f0af39dcf78\")>,\n",
       " <selenium.webdriver.remote.webelement.WebElement (session=\"dd1e8e1887a8cc6b2f08c24dcb238407\", element=\"ae3f17b0-c95b-4a61-8faa-cb448859ed65\")>,\n",
       " <selenium.webdriver.remote.webelement.WebElement (session=\"dd1e8e1887a8cc6b2f08c24dcb238407\", element=\"ea2ae9b9-4ddf-4da0-9231-8ebb67ca91a2\")>,\n",
       " <selenium.webdriver.remote.webelement.WebElement (session=\"dd1e8e1887a8cc6b2f08c24dcb238407\", element=\"796ff416-87c2-4155-b654-708021a454c5\")>,\n",
       " <selenium.webdriver.remote.webelement.WebElement (session=\"dd1e8e1887a8cc6b2f08c24dcb238407\", element=\"abcc87eb-6ab6-45f9-b99d-09d0cf76e39f\")>,\n",
       " <selenium.webdriver.remote.webelement.WebElement (session=\"dd1e8e1887a8cc6b2f08c24dcb238407\", element=\"b47c5122-390d-4ed8-a1a9-406651c3988c\")>,\n",
       " <selenium.webdriver.remote.webelement.WebElement (session=\"dd1e8e1887a8cc6b2f08c24dcb238407\", element=\"c195cb6a-4a57-4ed0-8047-e82fccf22abf\")>,\n",
       " <selenium.webdriver.remote.webelement.WebElement (session=\"dd1e8e1887a8cc6b2f08c24dcb238407\", element=\"478aac3e-7f6d-4854-81a9-cc15c0d9f963\")>,\n",
       " <selenium.webdriver.remote.webelement.WebElement (session=\"dd1e8e1887a8cc6b2f08c24dcb238407\", element=\"0329670b-27fa-4e45-a86a-d715a3d5845c\")>,\n",
       " <selenium.webdriver.remote.webelement.WebElement (session=\"dd1e8e1887a8cc6b2f08c24dcb238407\", element=\"e25a0ff0-f0da-4edd-87c3-7de74d200b3b\")>,\n",
       " <selenium.webdriver.remote.webelement.WebElement (session=\"dd1e8e1887a8cc6b2f08c24dcb238407\", element=\"2d494df1-97a7-47ed-acf3-87ecd4e0f497\")>]"
      ]
     },
     "execution_count": 132,
     "metadata": {},
     "output_type": "execute_result"
    }
   ],
   "source": [
    "title_tags = driver.find_elements_by_xpath('//div[@class=\"_2WkVRV\"]')\n",
    "len(title_tags)\n",
    "title_tags[0:20]"
   ]
  },
  {
   "cell_type": "code",
   "execution_count": 133,
   "id": "025615cd",
   "metadata": {},
   "outputs": [
    {
     "data": {
      "text/plain": [
       "['EMPTILE',\n",
       " 'RODDICK SHOES',\n",
       " 'bluemaker',\n",
       " 'Ktiz',\n",
       " 'Robbie jones',\n",
       " 'Zorth',\n",
       " 'Nilatin',\n",
       " 'Bretton',\n",
       " 'AMICO',\n",
       " 'HUSH PUPPIES',\n",
       " 'Echor',\n",
       " 'Robbie jones',\n",
       " 'bluemaker',\n",
       " 'Deals4you',\n",
       " 'AMICO',\n",
       " 'BAUCHHAAR',\n",
       " 'PUMA',\n",
       " 'WHITE WALKERS',\n",
       " 'Jabra',\n",
       " 'Absolute comfort']"
      ]
     },
     "execution_count": 133,
     "metadata": {},
     "output_type": "execute_result"
    }
   ],
   "source": [
    "product_titles =[]\n",
    "\n",
    "for i in title_tags:\n",
    "    product_titles.append(i.text)\n",
    "len(product_titles)\n",
    "product_titles[0:20]"
   ]
  },
  {
   "cell_type": "code",
   "execution_count": 134,
   "id": "7fb0cb0b",
   "metadata": {},
   "outputs": [
    {
     "data": {
      "text/plain": [
       "[<selenium.webdriver.remote.webelement.WebElement (session=\"dd1e8e1887a8cc6b2f08c24dcb238407\", element=\"aec59fbd-1255-4d8b-bb7e-ce2954b4fb80\")>,\n",
       " <selenium.webdriver.remote.webelement.WebElement (session=\"dd1e8e1887a8cc6b2f08c24dcb238407\", element=\"5641ae9f-f2f7-4a12-b2f0-3871d1169603\")>,\n",
       " <selenium.webdriver.remote.webelement.WebElement (session=\"dd1e8e1887a8cc6b2f08c24dcb238407\", element=\"7fb2f435-44f1-485f-966b-602dffd5a304\")>,\n",
       " <selenium.webdriver.remote.webelement.WebElement (session=\"dd1e8e1887a8cc6b2f08c24dcb238407\", element=\"743e7e2d-a8cd-41d2-b63b-3f77ac20194f\")>,\n",
       " <selenium.webdriver.remote.webelement.WebElement (session=\"dd1e8e1887a8cc6b2f08c24dcb238407\", element=\"414f3d9e-a9bb-4368-9ba7-fb97ce87f028\")>,\n",
       " <selenium.webdriver.remote.webelement.WebElement (session=\"dd1e8e1887a8cc6b2f08c24dcb238407\", element=\"e0cc8116-26a5-4784-a1f9-0db63862a46d\")>,\n",
       " <selenium.webdriver.remote.webelement.WebElement (session=\"dd1e8e1887a8cc6b2f08c24dcb238407\", element=\"f5ce9898-f59f-444b-9eb8-8f250e2b966c\")>,\n",
       " <selenium.webdriver.remote.webelement.WebElement (session=\"dd1e8e1887a8cc6b2f08c24dcb238407\", element=\"af803c2d-4902-4e9d-9403-4e27ecda769d\")>,\n",
       " <selenium.webdriver.remote.webelement.WebElement (session=\"dd1e8e1887a8cc6b2f08c24dcb238407\", element=\"5491c22f-5dbe-4478-a37b-b757276f89a3\")>,\n",
       " <selenium.webdriver.remote.webelement.WebElement (session=\"dd1e8e1887a8cc6b2f08c24dcb238407\", element=\"c05076f3-bff5-4d4a-9a09-85a15319dce1\")>,\n",
       " <selenium.webdriver.remote.webelement.WebElement (session=\"dd1e8e1887a8cc6b2f08c24dcb238407\", element=\"91913398-6db2-400c-9195-0c59bb324a38\")>,\n",
       " <selenium.webdriver.remote.webelement.WebElement (session=\"dd1e8e1887a8cc6b2f08c24dcb238407\", element=\"f0970311-f79f-448b-83a0-3bcdc14c30eb\")>,\n",
       " <selenium.webdriver.remote.webelement.WebElement (session=\"dd1e8e1887a8cc6b2f08c24dcb238407\", element=\"3ee9c519-a0b7-4213-83d2-4347a14f99bb\")>,\n",
       " <selenium.webdriver.remote.webelement.WebElement (session=\"dd1e8e1887a8cc6b2f08c24dcb238407\", element=\"f067f97a-b612-4926-b834-54bd985b3891\")>,\n",
       " <selenium.webdriver.remote.webelement.WebElement (session=\"dd1e8e1887a8cc6b2f08c24dcb238407\", element=\"92eeabba-26b3-4563-b87c-3cb2b21a68b7\")>,\n",
       " <selenium.webdriver.remote.webelement.WebElement (session=\"dd1e8e1887a8cc6b2f08c24dcb238407\", element=\"ace0ce7e-5163-458a-9860-0ef1b84bea20\")>,\n",
       " <selenium.webdriver.remote.webelement.WebElement (session=\"dd1e8e1887a8cc6b2f08c24dcb238407\", element=\"f7d2481a-dc96-4264-920c-72240ae8b647\")>,\n",
       " <selenium.webdriver.remote.webelement.WebElement (session=\"dd1e8e1887a8cc6b2f08c24dcb238407\", element=\"8cfa3e7e-c843-48b1-add0-6d657c8842df\")>,\n",
       " <selenium.webdriver.remote.webelement.WebElement (session=\"dd1e8e1887a8cc6b2f08c24dcb238407\", element=\"592c9465-7781-4cb1-8464-d3b44eda1933\")>,\n",
       " <selenium.webdriver.remote.webelement.WebElement (session=\"dd1e8e1887a8cc6b2f08c24dcb238407\", element=\"b4799a0a-6d02-4423-bd6e-1050190c9ca8\")>]"
      ]
     },
     "execution_count": 134,
     "metadata": {},
     "output_type": "execute_result"
    }
   ],
   "source": [
    "desc_tags = driver.find_elements_by_xpath('//a[@class=\"IRpwTa\"]')\n",
    "len(desc_tags)\n",
    "desc_tags[0:20]"
   ]
  },
  {
   "cell_type": "code",
   "execution_count": 135,
   "id": "457fde1e",
   "metadata": {},
   "outputs": [
    {
     "data": {
      "text/plain": [
       "['all white heartbeat casual shoe Sneakers For Men',\n",
       " 'Fashion Outdoor Canvas Casual Light Weight Lace-up Even...',\n",
       " 'casual for men Sneakers For Men',\n",
       " 'Sneakers For Men',\n",
       " 'Sneakers For Men',\n",
       " 'Sneakers For Men',\n",
       " 'Sneakers For Men',\n",
       " 'Sneakers For Men',\n",
       " \"Men's Sneakers Fashion Lightweight Running Shoes Tennis...\",\n",
       " 'Casual Sneakers White Shoes For Men Sneakers For Men',\n",
       " 'casual for men Sneakers For Men',\n",
       " 'Sneakers For Men',\n",
       " 'Sneakers For Men',\n",
       " 'sports shoes for men | Latest Stylish Casual sneakers f...',\n",
       " 'Serve Pro Lite Sneakers For Men',\n",
       " 'Stylish & Trending Outdoor Walking Comfortable Sneakers...',\n",
       " 'Sneakers For Men',\n",
       " 'Sneakers For Men',\n",
       " 'Smash v2 L Sneakers For Men',\n",
       " 'Running Shoes For Men']"
      ]
     },
     "execution_count": 135,
     "metadata": {},
     "output_type": "execute_result"
    }
   ],
   "source": [
    "product_desc =[]\n",
    "\n",
    "for i in desc_tags:\n",
    "    product_desc.append(i.text)\n",
    "len(product_desc)\n",
    "product_desc[0:20]"
   ]
  },
  {
   "cell_type": "code",
   "execution_count": 136,
   "id": "d43832af",
   "metadata": {},
   "outputs": [
    {
     "data": {
      "text/plain": [
       "[<selenium.webdriver.remote.webelement.WebElement (session=\"dd1e8e1887a8cc6b2f08c24dcb238407\", element=\"7a5a1028-4eb5-4939-8c29-1db7622bc002\")>,\n",
       " <selenium.webdriver.remote.webelement.WebElement (session=\"dd1e8e1887a8cc6b2f08c24dcb238407\", element=\"7c798c31-e27a-4524-a807-92f1a08de751\")>,\n",
       " <selenium.webdriver.remote.webelement.WebElement (session=\"dd1e8e1887a8cc6b2f08c24dcb238407\", element=\"30735c6a-5262-40e5-b9e2-0f9bbf5935bc\")>,\n",
       " <selenium.webdriver.remote.webelement.WebElement (session=\"dd1e8e1887a8cc6b2f08c24dcb238407\", element=\"3aa7b981-0f23-4b6f-a5a7-a8fd79f1d587\")>,\n",
       " <selenium.webdriver.remote.webelement.WebElement (session=\"dd1e8e1887a8cc6b2f08c24dcb238407\", element=\"ed467ea0-00ad-43e8-a724-4dcef872b8c1\")>,\n",
       " <selenium.webdriver.remote.webelement.WebElement (session=\"dd1e8e1887a8cc6b2f08c24dcb238407\", element=\"9c8886a6-709c-4928-8da3-56dc5f46b1e8\")>,\n",
       " <selenium.webdriver.remote.webelement.WebElement (session=\"dd1e8e1887a8cc6b2f08c24dcb238407\", element=\"1824a836-a404-40d4-a5c9-98e58f02c9fe\")>,\n",
       " <selenium.webdriver.remote.webelement.WebElement (session=\"dd1e8e1887a8cc6b2f08c24dcb238407\", element=\"2130c6be-8605-4f90-a890-8f13c3b627ba\")>,\n",
       " <selenium.webdriver.remote.webelement.WebElement (session=\"dd1e8e1887a8cc6b2f08c24dcb238407\", element=\"a0fd37dd-3f23-4e19-948b-bcdad52fc630\")>,\n",
       " <selenium.webdriver.remote.webelement.WebElement (session=\"dd1e8e1887a8cc6b2f08c24dcb238407\", element=\"918f2d20-9b5d-40de-9bca-2b5c9f14652f\")>,\n",
       " <selenium.webdriver.remote.webelement.WebElement (session=\"dd1e8e1887a8cc6b2f08c24dcb238407\", element=\"1c9e34b8-eec8-4500-9940-aa9e79b90722\")>,\n",
       " <selenium.webdriver.remote.webelement.WebElement (session=\"dd1e8e1887a8cc6b2f08c24dcb238407\", element=\"bd34a20a-2af3-4e98-b0b7-49d26415103c\")>,\n",
       " <selenium.webdriver.remote.webelement.WebElement (session=\"dd1e8e1887a8cc6b2f08c24dcb238407\", element=\"015660be-613d-433e-abf1-dda6666c5251\")>,\n",
       " <selenium.webdriver.remote.webelement.WebElement (session=\"dd1e8e1887a8cc6b2f08c24dcb238407\", element=\"54257c2b-aa26-49fe-a0d2-9dd8e3ae5437\")>,\n",
       " <selenium.webdriver.remote.webelement.WebElement (session=\"dd1e8e1887a8cc6b2f08c24dcb238407\", element=\"4c7754e3-aa96-47d9-817c-32755ee65524\")>,\n",
       " <selenium.webdriver.remote.webelement.WebElement (session=\"dd1e8e1887a8cc6b2f08c24dcb238407\", element=\"f87c7598-7cbb-41b9-b5f4-ef920e6862db\")>,\n",
       " <selenium.webdriver.remote.webelement.WebElement (session=\"dd1e8e1887a8cc6b2f08c24dcb238407\", element=\"0ed0b12a-b340-48d7-9a5d-8dd4b13216ed\")>,\n",
       " <selenium.webdriver.remote.webelement.WebElement (session=\"dd1e8e1887a8cc6b2f08c24dcb238407\", element=\"5340969f-64d1-47a2-964a-1253e754e487\")>,\n",
       " <selenium.webdriver.remote.webelement.WebElement (session=\"dd1e8e1887a8cc6b2f08c24dcb238407\", element=\"bb2d429c-16a9-495c-a3d6-2f003d876e12\")>,\n",
       " <selenium.webdriver.remote.webelement.WebElement (session=\"dd1e8e1887a8cc6b2f08c24dcb238407\", element=\"70b0b9f5-bc30-4c91-a848-811f4e2a6432\")>]"
      ]
     },
     "execution_count": 136,
     "metadata": {},
     "output_type": "execute_result"
    }
   ],
   "source": [
    "price_tags = driver.find_elements_by_xpath('//a[@class=\"_3bPFwb\"]')\n",
    "len(price_tags)\n",
    "price_tags[0:20]"
   ]
  },
  {
   "cell_type": "code",
   "execution_count": 137,
   "id": "0d145835",
   "metadata": {},
   "outputs": [
    {
     "data": {
      "text/plain": [
       "['₹347₹99965% off',\n",
       " '₹399₹99960% off',\n",
       " '₹449₹99955% off',\n",
       " '₹398₹99960% off',\n",
       " '₹449₹99955% off',\n",
       " '₹397₹99960% off',\n",
       " '₹599₹2,99980% off\\nFree delivery',\n",
       " '₹201₹1,99989% off',\n",
       " '₹449₹1,49970% off',\n",
       " '₹2,149₹3,99946% off\\nFree delivery',\n",
       " '₹449₹99955% off',\n",
       " '₹449₹99955% off',\n",
       " '₹449₹99955% off',\n",
       " '₹349₹1,49976% off',\n",
       " '₹474₹99952% off',\n",
       " '₹349₹99965% off',\n",
       " '₹2,559₹4,49943% off\\nFree delivery',\n",
       " '₹549₹1,19854% off\\nFree delivery',\n",
       " '₹199₹99980% off',\n",
       " '₹149₹49970% off']"
      ]
     },
     "execution_count": 137,
     "metadata": {},
     "output_type": "execute_result"
    }
   ],
   "source": [
    "rate_tag = []\n",
    "for i in price_tags:\n",
    "    rate_tag.append(i.text)\n",
    "len(rate_tag)\n",
    "rate_tag[0:20]"
   ]
  },
  {
   "cell_type": "code",
   "execution_count": 138,
   "id": "fefb7206",
   "metadata": {},
   "outputs": [],
   "source": [
    "url ='https://www.myntra.com/shoes?f=Color%3ABlack_36454f&rf=Price%3A7127.0_14085.0_7127.0%20TO%2014085.0'\n",
    "driver.get(url)"
   ]
  },
  {
   "cell_type": "code",
   "execution_count": 139,
   "id": "5778fe01",
   "metadata": {},
   "outputs": [
    {
     "data": {
      "text/plain": [
       "[<selenium.webdriver.remote.webelement.WebElement (session=\"dd1e8e1887a8cc6b2f08c24dcb238407\", element=\"3230e180-ad26-4f41-857b-94596ce11bb4\")>,\n",
       " <selenium.webdriver.remote.webelement.WebElement (session=\"dd1e8e1887a8cc6b2f08c24dcb238407\", element=\"454fda9b-0a1a-44f3-a590-38b7b967589e\")>,\n",
       " <selenium.webdriver.remote.webelement.WebElement (session=\"dd1e8e1887a8cc6b2f08c24dcb238407\", element=\"bf21314f-b9bf-4a4b-b3b6-89a544ffaa98\")>,\n",
       " <selenium.webdriver.remote.webelement.WebElement (session=\"dd1e8e1887a8cc6b2f08c24dcb238407\", element=\"377b0fd0-7345-4adf-a0d5-7d7a62a91b3f\")>,\n",
       " <selenium.webdriver.remote.webelement.WebElement (session=\"dd1e8e1887a8cc6b2f08c24dcb238407\", element=\"f0168c3a-5a56-4c77-944d-8bcc3b1ee591\")>,\n",
       " <selenium.webdriver.remote.webelement.WebElement (session=\"dd1e8e1887a8cc6b2f08c24dcb238407\", element=\"326daa83-fae9-4436-9357-56786d09c5ae\")>,\n",
       " <selenium.webdriver.remote.webelement.WebElement (session=\"dd1e8e1887a8cc6b2f08c24dcb238407\", element=\"e3706b15-fa73-4b0b-8024-ab788a441ec8\")>,\n",
       " <selenium.webdriver.remote.webelement.WebElement (session=\"dd1e8e1887a8cc6b2f08c24dcb238407\", element=\"117bbe99-f8f9-4839-a01d-d48037471989\")>,\n",
       " <selenium.webdriver.remote.webelement.WebElement (session=\"dd1e8e1887a8cc6b2f08c24dcb238407\", element=\"420088ca-c174-4980-b5d8-7a6b51c188eb\")>,\n",
       " <selenium.webdriver.remote.webelement.WebElement (session=\"dd1e8e1887a8cc6b2f08c24dcb238407\", element=\"ac8efa43-887f-4258-9ced-6e1b46054a1e\")>,\n",
       " <selenium.webdriver.remote.webelement.WebElement (session=\"dd1e8e1887a8cc6b2f08c24dcb238407\", element=\"1c2d06d5-64f8-4178-9cb8-d6da8ae159a1\")>,\n",
       " <selenium.webdriver.remote.webelement.WebElement (session=\"dd1e8e1887a8cc6b2f08c24dcb238407\", element=\"678ab665-5ce6-4429-a67c-eefac90c780d\")>,\n",
       " <selenium.webdriver.remote.webelement.WebElement (session=\"dd1e8e1887a8cc6b2f08c24dcb238407\", element=\"e9cd50b9-503d-4aa4-a77a-4f12db576213\")>,\n",
       " <selenium.webdriver.remote.webelement.WebElement (session=\"dd1e8e1887a8cc6b2f08c24dcb238407\", element=\"ff21fabc-b8ac-4a9c-a605-f8d9ca8cb898\")>,\n",
       " <selenium.webdriver.remote.webelement.WebElement (session=\"dd1e8e1887a8cc6b2f08c24dcb238407\", element=\"19a9b626-7508-4ea0-a5fe-910bc8d8a955\")>,\n",
       " <selenium.webdriver.remote.webelement.WebElement (session=\"dd1e8e1887a8cc6b2f08c24dcb238407\", element=\"85f6cbfd-d3d4-4f20-92b7-b28380fdf55a\")>,\n",
       " <selenium.webdriver.remote.webelement.WebElement (session=\"dd1e8e1887a8cc6b2f08c24dcb238407\", element=\"a6f820cf-ae4f-470c-8062-14c539aecd89\")>,\n",
       " <selenium.webdriver.remote.webelement.WebElement (session=\"dd1e8e1887a8cc6b2f08c24dcb238407\", element=\"e4412471-f5b6-40dd-abe1-b8ac7756132f\")>,\n",
       " <selenium.webdriver.remote.webelement.WebElement (session=\"dd1e8e1887a8cc6b2f08c24dcb238407\", element=\"1a701cb0-551b-4aae-bfea-a915719ac38a\")>,\n",
       " <selenium.webdriver.remote.webelement.WebElement (session=\"dd1e8e1887a8cc6b2f08c24dcb238407\", element=\"3e1cdc8e-90df-4cda-bfa6-d7a6ac593609\")>,\n",
       " <selenium.webdriver.remote.webelement.WebElement (session=\"dd1e8e1887a8cc6b2f08c24dcb238407\", element=\"5fa38d4e-271c-4b5b-b172-f9ee35a5044a\")>,\n",
       " <selenium.webdriver.remote.webelement.WebElement (session=\"dd1e8e1887a8cc6b2f08c24dcb238407\", element=\"7e19bb45-a80c-4d7b-bb15-c7168a010fc5\")>,\n",
       " <selenium.webdriver.remote.webelement.WebElement (session=\"dd1e8e1887a8cc6b2f08c24dcb238407\", element=\"b8e3f4d2-0f5c-4864-a32d-d9f0e29ada10\")>,\n",
       " <selenium.webdriver.remote.webelement.WebElement (session=\"dd1e8e1887a8cc6b2f08c24dcb238407\", element=\"c412ae50-3267-48c7-849e-00f739b6c4d3\")>,\n",
       " <selenium.webdriver.remote.webelement.WebElement (session=\"dd1e8e1887a8cc6b2f08c24dcb238407\", element=\"77add596-90b0-48bf-b260-224b59cdadd7\")>,\n",
       " <selenium.webdriver.remote.webelement.WebElement (session=\"dd1e8e1887a8cc6b2f08c24dcb238407\", element=\"8d4cd1d8-55bf-4402-8c0b-5b616bbaad9c\")>,\n",
       " <selenium.webdriver.remote.webelement.WebElement (session=\"dd1e8e1887a8cc6b2f08c24dcb238407\", element=\"08d08c72-d32a-4d21-b7fe-8dae9d681b96\")>,\n",
       " <selenium.webdriver.remote.webelement.WebElement (session=\"dd1e8e1887a8cc6b2f08c24dcb238407\", element=\"f69e6200-b239-4d8d-abb1-15cd99168f35\")>,\n",
       " <selenium.webdriver.remote.webelement.WebElement (session=\"dd1e8e1887a8cc6b2f08c24dcb238407\", element=\"98d497ff-5ebd-45cc-91c8-114aa65efa73\")>,\n",
       " <selenium.webdriver.remote.webelement.WebElement (session=\"dd1e8e1887a8cc6b2f08c24dcb238407\", element=\"d84e4fb4-f781-4507-a334-99f3ba46d3a9\")>,\n",
       " <selenium.webdriver.remote.webelement.WebElement (session=\"dd1e8e1887a8cc6b2f08c24dcb238407\", element=\"f6339731-ef04-423e-ab6e-c28a2e8ebe51\")>,\n",
       " <selenium.webdriver.remote.webelement.WebElement (session=\"dd1e8e1887a8cc6b2f08c24dcb238407\", element=\"40d9fc4d-73be-4788-a2b8-cb3a0618c265\")>,\n",
       " <selenium.webdriver.remote.webelement.WebElement (session=\"dd1e8e1887a8cc6b2f08c24dcb238407\", element=\"2758fa60-33fe-4614-b22a-8bc9a776674b\")>,\n",
       " <selenium.webdriver.remote.webelement.WebElement (session=\"dd1e8e1887a8cc6b2f08c24dcb238407\", element=\"30bc8a80-5af0-4b27-8e1e-604bb4ef070f\")>,\n",
       " <selenium.webdriver.remote.webelement.WebElement (session=\"dd1e8e1887a8cc6b2f08c24dcb238407\", element=\"352f9239-0bfc-410a-86a5-6ee06040253f\")>,\n",
       " <selenium.webdriver.remote.webelement.WebElement (session=\"dd1e8e1887a8cc6b2f08c24dcb238407\", element=\"370f2aa7-a81b-4342-bda3-0aa6544022a2\")>,\n",
       " <selenium.webdriver.remote.webelement.WebElement (session=\"dd1e8e1887a8cc6b2f08c24dcb238407\", element=\"c3a8c99a-2c40-4f9e-9d66-2e4f356dc224\")>,\n",
       " <selenium.webdriver.remote.webelement.WebElement (session=\"dd1e8e1887a8cc6b2f08c24dcb238407\", element=\"a5043a69-d981-4636-bb5d-4b2e4aad7abb\")>,\n",
       " <selenium.webdriver.remote.webelement.WebElement (session=\"dd1e8e1887a8cc6b2f08c24dcb238407\", element=\"ab8c7c9a-aa41-49e8-85e3-54e3fca35370\")>,\n",
       " <selenium.webdriver.remote.webelement.WebElement (session=\"dd1e8e1887a8cc6b2f08c24dcb238407\", element=\"29025d39-baed-4c57-9ad5-6a70adf32fa9\")>,\n",
       " <selenium.webdriver.remote.webelement.WebElement (session=\"dd1e8e1887a8cc6b2f08c24dcb238407\", element=\"7f6903fa-0898-475d-82ba-91b937b94fb0\")>,\n",
       " <selenium.webdriver.remote.webelement.WebElement (session=\"dd1e8e1887a8cc6b2f08c24dcb238407\", element=\"cb964be1-d063-4d4a-b867-69e125e1d975\")>,\n",
       " <selenium.webdriver.remote.webelement.WebElement (session=\"dd1e8e1887a8cc6b2f08c24dcb238407\", element=\"b6949055-2526-4ece-a68f-3f2e7a57f728\")>,\n",
       " <selenium.webdriver.remote.webelement.WebElement (session=\"dd1e8e1887a8cc6b2f08c24dcb238407\", element=\"d0820d9c-9806-4880-99d6-4935aa7ddead\")>,\n",
       " <selenium.webdriver.remote.webelement.WebElement (session=\"dd1e8e1887a8cc6b2f08c24dcb238407\", element=\"0133ce49-778e-4667-84e9-2b3e6a31864a\")>,\n",
       " <selenium.webdriver.remote.webelement.WebElement (session=\"dd1e8e1887a8cc6b2f08c24dcb238407\", element=\"995e47ac-a9ee-4aa0-b42f-4d2576d5faf0\")>,\n",
       " <selenium.webdriver.remote.webelement.WebElement (session=\"dd1e8e1887a8cc6b2f08c24dcb238407\", element=\"0243289d-8cfb-4e90-a988-3d3ef3231d31\")>,\n",
       " <selenium.webdriver.remote.webelement.WebElement (session=\"dd1e8e1887a8cc6b2f08c24dcb238407\", element=\"3cbb695d-b241-43cc-bca1-c201b852467c\")>,\n",
       " <selenium.webdriver.remote.webelement.WebElement (session=\"dd1e8e1887a8cc6b2f08c24dcb238407\", element=\"ef7ae36e-650c-4e95-abfd-006fa50a11d7\")>,\n",
       " <selenium.webdriver.remote.webelement.WebElement (session=\"dd1e8e1887a8cc6b2f08c24dcb238407\", element=\"9ba76c7c-e57b-4ea8-bd94-3bedceb65742\")>]"
      ]
     },
     "execution_count": 139,
     "metadata": {},
     "output_type": "execute_result"
    }
   ],
   "source": [
    "desc_tags = driver.find_elements_by_xpath('//h4[@class=\"product-product\"]')\n",
    "len(desc_tags)\n",
    "desc_tags[0:50]"
   ]
  },
  {
   "cell_type": "code",
   "execution_count": 140,
   "id": "0a1d0387",
   "metadata": {},
   "outputs": [
    {
     "data": {
      "text/plain": [
       "['Men Leather Driving Shoes',\n",
       " 'Men Zig Dynamica 2.0 Running',\n",
       " 'Men Winflo 7 Running Shoes',\n",
       " 'Men Printed Sneakers',\n",
       " 'Men Cleated Leather Sneakers',\n",
       " 'Men Magnify Nitro Running',\n",
       " 'Men Woven Design Sneakers',\n",
       " 'Men Jamming 2.0 Running Shoes',\n",
       " 'Eternity Nitro Running Shoes',\n",
       " 'Electrify Nitro Running Shoes',\n",
       " 'Men Solid Leather Formal Slip-Ons',\n",
       " 'Men Air Max Dawn Sneakers',\n",
       " 'Men FUSE Training Shoes',\n",
       " 'Men Training or Gym Shoes',\n",
       " 'Women Running Shoes',\n",
       " 'Men Go Run Hyper Burst Running',\n",
       " 'Men Solid Leather Formal Slip-Ons',\n",
       " 'Men Formal Derbys',\n",
       " 'Men Mid-Top Chelsea Boots',\n",
       " 'Men Solid Leather Formal Derbys',\n",
       " 'Women Velocity NITRO Runners',\n",
       " 'Men Solid Formal Slip-Ons',\n",
       " 'Men Black Leather Loafers',\n",
       " 'Women Leather Block Heels',\n",
       " 'Unisex Training or Gym Shoes',\n",
       " 'Men Solid Leather Formal Derbys',\n",
       " 'Men FACET OUTDRY Trekking Shoe',\n",
       " 'Women Block Heeled Boots',\n",
       " 'Women CLEAT Textured Sneakers',\n",
       " 'Leather Sandals',\n",
       " 'Women Solid Sneakers',\n",
       " 'Women Eternity NITRO Shoes',\n",
       " 'Men Suede Loafers',\n",
       " 'Men Striped Leather Sneakers',\n",
       " 'Men Leather Driving Shoes',\n",
       " 'Wedge Sandals',\n",
       " 'Leather Slim Heels',\n",
       " 'Wedge Sandals',\n",
       " 'Men Textured Leather Loafers',\n",
       " 'Men Textured Leather High-Top Flat Boots',\n",
       " 'Men Textured Leather Loafers',\n",
       " 'Leather High-Top Heeled Boots',\n",
       " 'Men Textured Formal Leather Loafers',\n",
       " 'Women Heeled Leather Loafers',\n",
       " 'High-Top Block Heeled Boots',\n",
       " 'Women Leather Pumps',\n",
       " 'High-Top Platform Heeled Boots',\n",
       " 'Suede High-Top Block Heeled Boots',\n",
       " 'Printed PU Kitten Sandals',\n",
       " 'Men Formal Leather Derby']"
      ]
     },
     "execution_count": 140,
     "metadata": {},
     "output_type": "execute_result"
    }
   ],
   "source": [
    "product_desc =[]\n",
    "\n",
    "for i in desc_tags:\n",
    "    product_desc.append(i.text)\n",
    "len(product_desc)\n",
    "product_desc[0:50]"
   ]
  },
  {
   "cell_type": "code",
   "execution_count": 141,
   "id": "26ffccf0",
   "metadata": {},
   "outputs": [
    {
     "data": {
      "text/plain": [
       "[<selenium.webdriver.remote.webelement.WebElement (session=\"dd1e8e1887a8cc6b2f08c24dcb238407\", element=\"725b9db5-7b99-46b4-aa7c-10c1ccb76990\")>,\n",
       " <selenium.webdriver.remote.webelement.WebElement (session=\"dd1e8e1887a8cc6b2f08c24dcb238407\", element=\"d90d066b-e802-4258-a911-e31705717a99\")>,\n",
       " <selenium.webdriver.remote.webelement.WebElement (session=\"dd1e8e1887a8cc6b2f08c24dcb238407\", element=\"604fdf01-c2c6-43bd-9d1d-e0dd31ca23bb\")>,\n",
       " <selenium.webdriver.remote.webelement.WebElement (session=\"dd1e8e1887a8cc6b2f08c24dcb238407\", element=\"d2a706e4-523b-4c48-a1ff-0f37a747b50b\")>,\n",
       " <selenium.webdriver.remote.webelement.WebElement (session=\"dd1e8e1887a8cc6b2f08c24dcb238407\", element=\"d1646db2-ff62-47a6-b5ff-7728162b8323\")>,\n",
       " <selenium.webdriver.remote.webelement.WebElement (session=\"dd1e8e1887a8cc6b2f08c24dcb238407\", element=\"aed0fa07-067c-4df3-9422-53c29ed21012\")>,\n",
       " <selenium.webdriver.remote.webelement.WebElement (session=\"dd1e8e1887a8cc6b2f08c24dcb238407\", element=\"3d99c27a-01c0-4c8f-8dc1-e1e6f65b849d\")>,\n",
       " <selenium.webdriver.remote.webelement.WebElement (session=\"dd1e8e1887a8cc6b2f08c24dcb238407\", element=\"126d58b8-ccac-41b2-a195-6c0da824891e\")>,\n",
       " <selenium.webdriver.remote.webelement.WebElement (session=\"dd1e8e1887a8cc6b2f08c24dcb238407\", element=\"1b58d4d0-423f-4a18-9c03-e3a0c30de6c4\")>,\n",
       " <selenium.webdriver.remote.webelement.WebElement (session=\"dd1e8e1887a8cc6b2f08c24dcb238407\", element=\"018d4370-baa7-45a9-94f1-a4312a4216bf\")>,\n",
       " <selenium.webdriver.remote.webelement.WebElement (session=\"dd1e8e1887a8cc6b2f08c24dcb238407\", element=\"2cbe7ae2-46a9-4a9b-af7e-0e3e169429f6\")>,\n",
       " <selenium.webdriver.remote.webelement.WebElement (session=\"dd1e8e1887a8cc6b2f08c24dcb238407\", element=\"ca5fe3a8-9017-4da1-a112-23b7eba9deb8\")>,\n",
       " <selenium.webdriver.remote.webelement.WebElement (session=\"dd1e8e1887a8cc6b2f08c24dcb238407\", element=\"40f593c5-29d5-44e8-9758-111f3f790ab5\")>,\n",
       " <selenium.webdriver.remote.webelement.WebElement (session=\"dd1e8e1887a8cc6b2f08c24dcb238407\", element=\"45e139bf-38c9-42f1-b532-0919ad83a929\")>,\n",
       " <selenium.webdriver.remote.webelement.WebElement (session=\"dd1e8e1887a8cc6b2f08c24dcb238407\", element=\"801bad43-6cdc-44bb-ada6-79cc0fb6741c\")>,\n",
       " <selenium.webdriver.remote.webelement.WebElement (session=\"dd1e8e1887a8cc6b2f08c24dcb238407\", element=\"57d1970b-4886-4281-9e28-6e02d5488642\")>,\n",
       " <selenium.webdriver.remote.webelement.WebElement (session=\"dd1e8e1887a8cc6b2f08c24dcb238407\", element=\"e1f5be0d-6499-4dec-8130-a5c47bd97f18\")>,\n",
       " <selenium.webdriver.remote.webelement.WebElement (session=\"dd1e8e1887a8cc6b2f08c24dcb238407\", element=\"7ab015f0-1f3b-4224-b0c7-a253f9bf36f7\")>,\n",
       " <selenium.webdriver.remote.webelement.WebElement (session=\"dd1e8e1887a8cc6b2f08c24dcb238407\", element=\"1fd147a8-1379-4a05-88c6-449b6e2387e5\")>,\n",
       " <selenium.webdriver.remote.webelement.WebElement (session=\"dd1e8e1887a8cc6b2f08c24dcb238407\", element=\"1dce77b0-deb7-4992-98c8-6e69bfc40b3e\")>,\n",
       " <selenium.webdriver.remote.webelement.WebElement (session=\"dd1e8e1887a8cc6b2f08c24dcb238407\", element=\"6fd3c2ad-adb0-4ae4-ae01-948c41f3b5e1\")>,\n",
       " <selenium.webdriver.remote.webelement.WebElement (session=\"dd1e8e1887a8cc6b2f08c24dcb238407\", element=\"f60bfe92-b9c1-40b7-9ef7-9f987d425145\")>,\n",
       " <selenium.webdriver.remote.webelement.WebElement (session=\"dd1e8e1887a8cc6b2f08c24dcb238407\", element=\"1a352fec-b294-4bdf-be20-30440225e68f\")>,\n",
       " <selenium.webdriver.remote.webelement.WebElement (session=\"dd1e8e1887a8cc6b2f08c24dcb238407\", element=\"ede7ee31-623c-4e6d-a378-0a6d71beec1d\")>,\n",
       " <selenium.webdriver.remote.webelement.WebElement (session=\"dd1e8e1887a8cc6b2f08c24dcb238407\", element=\"0961acef-fa38-4802-86a1-ab9c5b5e9406\")>,\n",
       " <selenium.webdriver.remote.webelement.WebElement (session=\"dd1e8e1887a8cc6b2f08c24dcb238407\", element=\"4ab15652-2149-4ef5-86ee-937df91cf27a\")>,\n",
       " <selenium.webdriver.remote.webelement.WebElement (session=\"dd1e8e1887a8cc6b2f08c24dcb238407\", element=\"4df0abc7-7e67-44aa-8651-7fde2c3adb45\")>,\n",
       " <selenium.webdriver.remote.webelement.WebElement (session=\"dd1e8e1887a8cc6b2f08c24dcb238407\", element=\"10782f4f-7a80-40ab-9e3b-48fb6d08f743\")>,\n",
       " <selenium.webdriver.remote.webelement.WebElement (session=\"dd1e8e1887a8cc6b2f08c24dcb238407\", element=\"915e2b3a-c23c-4f00-b939-ccea39798985\")>,\n",
       " <selenium.webdriver.remote.webelement.WebElement (session=\"dd1e8e1887a8cc6b2f08c24dcb238407\", element=\"ae56905d-337a-48d5-8145-6f8f672a3503\")>,\n",
       " <selenium.webdriver.remote.webelement.WebElement (session=\"dd1e8e1887a8cc6b2f08c24dcb238407\", element=\"fb176b34-7cf6-4ea8-9c6e-998fc65bd654\")>,\n",
       " <selenium.webdriver.remote.webelement.WebElement (session=\"dd1e8e1887a8cc6b2f08c24dcb238407\", element=\"2f2e6dae-5c3e-4998-9081-2e00a8743724\")>,\n",
       " <selenium.webdriver.remote.webelement.WebElement (session=\"dd1e8e1887a8cc6b2f08c24dcb238407\", element=\"9ed2a888-e626-4c3d-8217-5eb31bf37dda\")>,\n",
       " <selenium.webdriver.remote.webelement.WebElement (session=\"dd1e8e1887a8cc6b2f08c24dcb238407\", element=\"3e8acad7-482f-4dbf-80f1-0d48fd4301f9\")>,\n",
       " <selenium.webdriver.remote.webelement.WebElement (session=\"dd1e8e1887a8cc6b2f08c24dcb238407\", element=\"82e6bb2d-578f-4004-a358-d32d3fca6e11\")>,\n",
       " <selenium.webdriver.remote.webelement.WebElement (session=\"dd1e8e1887a8cc6b2f08c24dcb238407\", element=\"2d56b0de-62ad-4143-bbdb-bd0bfe7401dc\")>,\n",
       " <selenium.webdriver.remote.webelement.WebElement (session=\"dd1e8e1887a8cc6b2f08c24dcb238407\", element=\"f3d5b3a6-8133-441d-bf42-7b2aad524ad5\")>,\n",
       " <selenium.webdriver.remote.webelement.WebElement (session=\"dd1e8e1887a8cc6b2f08c24dcb238407\", element=\"29daa77a-3250-4600-9843-aa4192c2a867\")>,\n",
       " <selenium.webdriver.remote.webelement.WebElement (session=\"dd1e8e1887a8cc6b2f08c24dcb238407\", element=\"564984e5-84f5-4611-95d6-0fb51a80dedd\")>,\n",
       " <selenium.webdriver.remote.webelement.WebElement (session=\"dd1e8e1887a8cc6b2f08c24dcb238407\", element=\"e6621bbb-9798-4caa-af56-f566e26baca6\")>,\n",
       " <selenium.webdriver.remote.webelement.WebElement (session=\"dd1e8e1887a8cc6b2f08c24dcb238407\", element=\"68f5fdde-b51a-435e-b939-7a501dd8abb8\")>,\n",
       " <selenium.webdriver.remote.webelement.WebElement (session=\"dd1e8e1887a8cc6b2f08c24dcb238407\", element=\"7412f87e-f1c9-4ec5-bd5e-404070f8e74d\")>,\n",
       " <selenium.webdriver.remote.webelement.WebElement (session=\"dd1e8e1887a8cc6b2f08c24dcb238407\", element=\"7e576dc2-7b8d-4984-a3bf-5fb95b5ab6e2\")>,\n",
       " <selenium.webdriver.remote.webelement.WebElement (session=\"dd1e8e1887a8cc6b2f08c24dcb238407\", element=\"d677f542-4080-40bd-b884-e7d4ddf4a907\")>,\n",
       " <selenium.webdriver.remote.webelement.WebElement (session=\"dd1e8e1887a8cc6b2f08c24dcb238407\", element=\"130b760e-21cb-442d-a5c1-68a0266461fc\")>,\n",
       " <selenium.webdriver.remote.webelement.WebElement (session=\"dd1e8e1887a8cc6b2f08c24dcb238407\", element=\"f531c5cc-637f-4198-947d-14efb3c0f88a\")>,\n",
       " <selenium.webdriver.remote.webelement.WebElement (session=\"dd1e8e1887a8cc6b2f08c24dcb238407\", element=\"2589edbe-a691-41e8-96f3-cfde4f3bcb7d\")>,\n",
       " <selenium.webdriver.remote.webelement.WebElement (session=\"dd1e8e1887a8cc6b2f08c24dcb238407\", element=\"413658d4-14ca-4934-87c3-a8e6f74ed887\")>,\n",
       " <selenium.webdriver.remote.webelement.WebElement (session=\"dd1e8e1887a8cc6b2f08c24dcb238407\", element=\"605957a1-d752-4f79-ac34-602a408473b1\")>,\n",
       " <selenium.webdriver.remote.webelement.WebElement (session=\"dd1e8e1887a8cc6b2f08c24dcb238407\", element=\"84f1a930-19ef-4262-ae32-44d162079944\")>]"
      ]
     },
     "execution_count": 141,
     "metadata": {},
     "output_type": "execute_result"
    }
   ],
   "source": [
    "price_tags = driver.find_elements_by_xpath('//div[@class=\"product-price\"]')\n",
    "len(price_tags)\n",
    "price_tags[0:50]"
   ]
  },
  {
   "cell_type": "code",
   "execution_count": 142,
   "id": "015227ab",
   "metadata": {},
   "outputs": [
    {
     "data": {
      "text/plain": [
       "['Rs. 12999',\n",
       " 'Rs. 7999',\n",
       " 'Rs. 7995',\n",
       " 'Rs. 9099Rs. 12999(30% OFF)',\n",
       " 'Rs. 7739Rs. 8599(10% OFF)',\n",
       " 'Rs. 7149Rs. 12999(45% OFF)',\n",
       " 'Rs. 13999',\n",
       " 'Rs. 12999',\n",
       " 'Rs. 12999',\n",
       " 'Rs. 9999',\n",
       " 'Rs. 7649Rs. 8999(15% OFF)',\n",
       " 'Rs. 10995',\n",
       " 'Rs. 7999',\n",
       " 'Rs. 7999',\n",
       " 'Rs. 7999',\n",
       " 'Rs. 7224Rs. 8499(15% OFF)',\n",
       " 'Rs. 8499Rs. 9999(15% OFF)',\n",
       " 'Rs. 8499Rs. 9999(15% OFF)',\n",
       " 'Rs. 10500Rs. 10900(Rs. 400 OFF)',\n",
       " 'Rs. 9499',\n",
       " 'Rs. 8249Rs. 10999(25% OFF)',\n",
       " 'Rs. 8499Rs. 9999(15% OFF)',\n",
       " 'Rs. 8490',\n",
       " 'Rs. 9500',\n",
       " 'Rs. 8579Rs. 10999(22% OFF)',\n",
       " 'Rs. 8499Rs. 9999(15% OFF)',\n",
       " 'Rs. 12999',\n",
       " 'Rs. 8900',\n",
       " 'Rs. 7739Rs. 8599(10% OFF)',\n",
       " 'Rs. 7599',\n",
       " 'Rs. 8990',\n",
       " 'Rs. 9099Rs. 12999(30% OFF)',\n",
       " 'Rs. 12990',\n",
       " 'Rs. 9990',\n",
       " 'Rs. 9499',\n",
       " 'Rs. 7999',\n",
       " 'Rs. 8399Rs. 11999(30% OFF)',\n",
       " 'Rs. 7999',\n",
       " 'Rs. 8490',\n",
       " 'Rs. 8399Rs. 11999(30% OFF)',\n",
       " 'Rs. 7990',\n",
       " 'Rs. 10625Rs. 12500(15% OFF)',\n",
       " 'Rs. 8990',\n",
       " 'Rs. 7990',\n",
       " 'Rs. 7900',\n",
       " 'Rs. 8999',\n",
       " 'Rs. 8900',\n",
       " 'Rs. 9500',\n",
       " 'Rs. 8499',\n",
       " 'Rs. 7990']"
      ]
     },
     "execution_count": 142,
     "metadata": {},
     "output_type": "execute_result"
    }
   ],
   "source": [
    "rate_tag = []\n",
    "for i in price_tags:\n",
    "    rate_tag.append(i.text)\n",
    "len(rate_tag)\n",
    "rate_tag[0:50]"
   ]
  },
  {
   "cell_type": "code",
   "execution_count": 143,
   "id": "49fe46d6",
   "metadata": {},
   "outputs": [],
   "source": [
    "url = 'https://www.myntra.com/shoes?f=Color%3ABlack_36454f&p=2&rf=Price%3A7127.0_14085.0_7127.0%20TO%2014085.0'\n",
    "driver.get(url)"
   ]
  },
  {
   "cell_type": "code",
   "execution_count": 144,
   "id": "d80b3fcd",
   "metadata": {},
   "outputs": [
    {
     "data": {
      "text/plain": [
       "[<selenium.webdriver.remote.webelement.WebElement (session=\"dd1e8e1887a8cc6b2f08c24dcb238407\", element=\"edab5cae-4e65-400e-8e77-be2cba8ee2b6\")>,\n",
       " <selenium.webdriver.remote.webelement.WebElement (session=\"dd1e8e1887a8cc6b2f08c24dcb238407\", element=\"cfa931a6-5534-4f78-87a0-4269b991e9a7\")>,\n",
       " <selenium.webdriver.remote.webelement.WebElement (session=\"dd1e8e1887a8cc6b2f08c24dcb238407\", element=\"4c8adddb-c181-4435-b2f2-192db88b393b\")>,\n",
       " <selenium.webdriver.remote.webelement.WebElement (session=\"dd1e8e1887a8cc6b2f08c24dcb238407\", element=\"32640aae-a632-41b9-9b56-d8d8dde0c891\")>,\n",
       " <selenium.webdriver.remote.webelement.WebElement (session=\"dd1e8e1887a8cc6b2f08c24dcb238407\", element=\"2e463fb3-93fc-402e-a911-8e5d4497b1c3\")>,\n",
       " <selenium.webdriver.remote.webelement.WebElement (session=\"dd1e8e1887a8cc6b2f08c24dcb238407\", element=\"2c777a3f-6932-46a4-b28f-1361d6c70f4d\")>,\n",
       " <selenium.webdriver.remote.webelement.WebElement (session=\"dd1e8e1887a8cc6b2f08c24dcb238407\", element=\"069dea1f-19eb-45a8-93c4-c0a019262fd1\")>,\n",
       " <selenium.webdriver.remote.webelement.WebElement (session=\"dd1e8e1887a8cc6b2f08c24dcb238407\", element=\"4939104c-0b49-46ff-bd41-e80514ffe78e\")>,\n",
       " <selenium.webdriver.remote.webelement.WebElement (session=\"dd1e8e1887a8cc6b2f08c24dcb238407\", element=\"49ac4eb9-4520-4774-90aa-22a84e9dc492\")>,\n",
       " <selenium.webdriver.remote.webelement.WebElement (session=\"dd1e8e1887a8cc6b2f08c24dcb238407\", element=\"e3798b83-ac0b-4b18-9e92-df11198a7d04\")>,\n",
       " <selenium.webdriver.remote.webelement.WebElement (session=\"dd1e8e1887a8cc6b2f08c24dcb238407\", element=\"fcb01be8-cafc-4ca6-8e85-2c365223a2b5\")>,\n",
       " <selenium.webdriver.remote.webelement.WebElement (session=\"dd1e8e1887a8cc6b2f08c24dcb238407\", element=\"7db04096-6739-4944-9517-c9797515fc09\")>,\n",
       " <selenium.webdriver.remote.webelement.WebElement (session=\"dd1e8e1887a8cc6b2f08c24dcb238407\", element=\"f91e59ef-ee55-4d8b-aa0f-de3f18d7db53\")>,\n",
       " <selenium.webdriver.remote.webelement.WebElement (session=\"dd1e8e1887a8cc6b2f08c24dcb238407\", element=\"a817f9ec-f8f3-4bd2-9469-2163ab08a8ab\")>,\n",
       " <selenium.webdriver.remote.webelement.WebElement (session=\"dd1e8e1887a8cc6b2f08c24dcb238407\", element=\"bd6ba641-054e-499f-a81b-51821a054ff6\")>,\n",
       " <selenium.webdriver.remote.webelement.WebElement (session=\"dd1e8e1887a8cc6b2f08c24dcb238407\", element=\"f39f8e0c-7bba-4f56-a2ec-aa36bb9043c2\")>,\n",
       " <selenium.webdriver.remote.webelement.WebElement (session=\"dd1e8e1887a8cc6b2f08c24dcb238407\", element=\"0df85a8a-2f4f-4c04-9f98-36940f60239a\")>,\n",
       " <selenium.webdriver.remote.webelement.WebElement (session=\"dd1e8e1887a8cc6b2f08c24dcb238407\", element=\"33eb8937-a771-45ac-91da-8d53ac65516e\")>,\n",
       " <selenium.webdriver.remote.webelement.WebElement (session=\"dd1e8e1887a8cc6b2f08c24dcb238407\", element=\"deb92333-2427-4d44-979b-c9ba3eca5abc\")>,\n",
       " <selenium.webdriver.remote.webelement.WebElement (session=\"dd1e8e1887a8cc6b2f08c24dcb238407\", element=\"4e2cb4cb-b904-49da-bb55-2c9b692bca3f\")>,\n",
       " <selenium.webdriver.remote.webelement.WebElement (session=\"dd1e8e1887a8cc6b2f08c24dcb238407\", element=\"0fb1e900-722e-4438-9f85-07df311f7afa\")>,\n",
       " <selenium.webdriver.remote.webelement.WebElement (session=\"dd1e8e1887a8cc6b2f08c24dcb238407\", element=\"ee6e3264-f370-4ad6-808d-bd9d98ce41ad\")>,\n",
       " <selenium.webdriver.remote.webelement.WebElement (session=\"dd1e8e1887a8cc6b2f08c24dcb238407\", element=\"cfc0dac4-5038-4014-b1c5-0ba5d5be1b4c\")>,\n",
       " <selenium.webdriver.remote.webelement.WebElement (session=\"dd1e8e1887a8cc6b2f08c24dcb238407\", element=\"7b468a07-6261-4ca7-ab95-7c50ac2fb419\")>,\n",
       " <selenium.webdriver.remote.webelement.WebElement (session=\"dd1e8e1887a8cc6b2f08c24dcb238407\", element=\"b2ccbbd1-669c-4d1f-a1dd-1283c27aa971\")>,\n",
       " <selenium.webdriver.remote.webelement.WebElement (session=\"dd1e8e1887a8cc6b2f08c24dcb238407\", element=\"b7c6f15f-f480-4691-a28d-cd5de3fbf77d\")>,\n",
       " <selenium.webdriver.remote.webelement.WebElement (session=\"dd1e8e1887a8cc6b2f08c24dcb238407\", element=\"215ac2ff-419f-43f0-8719-66d7ce42318a\")>,\n",
       " <selenium.webdriver.remote.webelement.WebElement (session=\"dd1e8e1887a8cc6b2f08c24dcb238407\", element=\"36f9f55a-8478-4fcc-8cba-7cdbdcb4bcb0\")>,\n",
       " <selenium.webdriver.remote.webelement.WebElement (session=\"dd1e8e1887a8cc6b2f08c24dcb238407\", element=\"b6be1489-1743-455d-a695-06e8f90b71e3\")>,\n",
       " <selenium.webdriver.remote.webelement.WebElement (session=\"dd1e8e1887a8cc6b2f08c24dcb238407\", element=\"19ef7db7-be4a-4f3b-bf2c-cb4d4d2ca5e2\")>,\n",
       " <selenium.webdriver.remote.webelement.WebElement (session=\"dd1e8e1887a8cc6b2f08c24dcb238407\", element=\"e357217b-aa51-4161-8a28-1f47c54ce8a6\")>,\n",
       " <selenium.webdriver.remote.webelement.WebElement (session=\"dd1e8e1887a8cc6b2f08c24dcb238407\", element=\"e96e2388-0bd6-4b26-87e2-3a76233a452d\")>,\n",
       " <selenium.webdriver.remote.webelement.WebElement (session=\"dd1e8e1887a8cc6b2f08c24dcb238407\", element=\"d84ee5ff-8b3c-4900-a43e-3ae5b0031983\")>,\n",
       " <selenium.webdriver.remote.webelement.WebElement (session=\"dd1e8e1887a8cc6b2f08c24dcb238407\", element=\"bd7b6fda-8fbc-4c62-96e4-fbdd6aae82f4\")>,\n",
       " <selenium.webdriver.remote.webelement.WebElement (session=\"dd1e8e1887a8cc6b2f08c24dcb238407\", element=\"6b2ca35a-89b1-4efb-a71e-9df20ebb8b3b\")>,\n",
       " <selenium.webdriver.remote.webelement.WebElement (session=\"dd1e8e1887a8cc6b2f08c24dcb238407\", element=\"57363656-8fa1-40c5-9476-6a00ca3244f5\")>,\n",
       " <selenium.webdriver.remote.webelement.WebElement (session=\"dd1e8e1887a8cc6b2f08c24dcb238407\", element=\"fd8564b6-f4bb-43d5-9382-a4283e470506\")>,\n",
       " <selenium.webdriver.remote.webelement.WebElement (session=\"dd1e8e1887a8cc6b2f08c24dcb238407\", element=\"9ac4985c-893b-4b92-b919-5d564adf5aac\")>,\n",
       " <selenium.webdriver.remote.webelement.WebElement (session=\"dd1e8e1887a8cc6b2f08c24dcb238407\", element=\"99664916-e179-46a0-9c09-fa2e69dfb827\")>,\n",
       " <selenium.webdriver.remote.webelement.WebElement (session=\"dd1e8e1887a8cc6b2f08c24dcb238407\", element=\"1d202cfc-c0a3-4762-b29b-17808567f6de\")>,\n",
       " <selenium.webdriver.remote.webelement.WebElement (session=\"dd1e8e1887a8cc6b2f08c24dcb238407\", element=\"c79d1cdc-231a-4bbc-b45e-99147438138e\")>,\n",
       " <selenium.webdriver.remote.webelement.WebElement (session=\"dd1e8e1887a8cc6b2f08c24dcb238407\", element=\"c480569b-ff48-489d-9ff8-63a69024d5a6\")>,\n",
       " <selenium.webdriver.remote.webelement.WebElement (session=\"dd1e8e1887a8cc6b2f08c24dcb238407\", element=\"f0f8a1cd-e472-4918-8d51-07bd72c99713\")>,\n",
       " <selenium.webdriver.remote.webelement.WebElement (session=\"dd1e8e1887a8cc6b2f08c24dcb238407\", element=\"df5bcf79-477e-4967-98e9-70d8b1970def\")>,\n",
       " <selenium.webdriver.remote.webelement.WebElement (session=\"dd1e8e1887a8cc6b2f08c24dcb238407\", element=\"8c9afbdf-62df-4666-887e-78f67a40f6c3\")>,\n",
       " <selenium.webdriver.remote.webelement.WebElement (session=\"dd1e8e1887a8cc6b2f08c24dcb238407\", element=\"6cfde189-48d1-4256-86f7-9088e309453f\")>,\n",
       " <selenium.webdriver.remote.webelement.WebElement (session=\"dd1e8e1887a8cc6b2f08c24dcb238407\", element=\"c6f11f9b-3602-45a8-b9b0-7fe5642847f0\")>,\n",
       " <selenium.webdriver.remote.webelement.WebElement (session=\"dd1e8e1887a8cc6b2f08c24dcb238407\", element=\"7b82075e-e5a2-43e4-b04c-aed0034fc7db\")>,\n",
       " <selenium.webdriver.remote.webelement.WebElement (session=\"dd1e8e1887a8cc6b2f08c24dcb238407\", element=\"37beb856-4137-4d9f-9e70-90c0a6205593\")>,\n",
       " <selenium.webdriver.remote.webelement.WebElement (session=\"dd1e8e1887a8cc6b2f08c24dcb238407\", element=\"028220b3-7477-482b-b319-3b7b01b4e1ab\")>]"
      ]
     },
     "execution_count": 144,
     "metadata": {},
     "output_type": "execute_result"
    }
   ],
   "source": [
    "desc_tags = driver.find_elements_by_xpath('//h4[@class=\"product-product\"]')\n",
    "len(desc_tags)\n",
    "desc_tags[0:50]"
   ]
  },
  {
   "cell_type": "code",
   "execution_count": 145,
   "id": "f4159310",
   "metadata": {},
   "outputs": [
    {
     "data": {
      "text/plain": [
       "['Men Formal Leather Derby',\n",
       " 'Solid Slip On Shoes',\n",
       " 'PU Block Pumps with Buckles',\n",
       " 'Embellished Leather Flatform Sandals',\n",
       " 'Textured PU Block Pumps',\n",
       " 'Leather Party Block Mules',\n",
       " 'Men Solid Formal Oxfords',\n",
       " 'Men Textured Leather Formal Derbys',\n",
       " 'Women Woven Running Shoes',\n",
       " 'Women REDMOND V2 TrekkingShoe',\n",
       " 'PEAKFREAK OUTDRY Trekking Shoe',\n",
       " 'Men GENERATION ZEROGRAND STITCHLITE',\n",
       " 'Men Solid Loafers',\n",
       " 'Women Leather Mules',\n",
       " 'Women Solid Leather Pumps',\n",
       " 'Men Running Shoes',\n",
       " 'Women Solid Leather Pumps',\n",
       " 'Women Open Toe Flats',\n",
       " 'Women Sneakers',\n",
       " 'Women Solid Leather Ballerinas',\n",
       " 'Men Leather Loafers',\n",
       " 'Women Solid Leather Ballerinas',\n",
       " 'Women Leather Heeled Boots',\n",
       " 'Leather Heeled Knee High Boots',\n",
       " 'Women Leather Knee High Boots',\n",
       " 'Cabo WP Riding Boots',\n",
       " 'Platform Peep Toes with Buckles',\n",
       " 'Men Colourblocked PU Sneakers',\n",
       " 'Men Leather Formal Loafers',\n",
       " 'Men Leather Formal Loafers',\n",
       " 'Women WINFLO 7 Running Shoes',\n",
       " 'Men Leather Driving Shoes',\n",
       " 'Leather Wedge Heeled Boots with Buckles',\n",
       " 'Leather High-Top Block Heeled Boots',\n",
       " 'Leather Kitten Heeled Boots',\n",
       " 'Printed Flatform Heeled Boots with Buckles',\n",
       " 'Leather Platform Heeled Boots',\n",
       " 'Leather Block Heeled Boots with Bows',\n",
       " 'Men Solid Leather Formal Loafers',\n",
       " 'Men Formal Leather Slip-Ons',\n",
       " 'Ustraa black',\n",
       " 'Suede Party High-Top Block Heeled Boots',\n",
       " 'Suede High-Top Flatform Heeled Boots',\n",
       " 'Men Textured Leather Formal Loafers',\n",
       " 'Leather Boots with Buckles',\n",
       " 'High-Top Block Heeled Boots',\n",
       " 'Embellished Leather Block Heeled Boots',\n",
       " 'Women High-Top Heeled Boots',\n",
       " 'Leather Block Heeled Boots with Buckles',\n",
       " 'Embellished Flatform Boots']"
      ]
     },
     "execution_count": 145,
     "metadata": {},
     "output_type": "execute_result"
    }
   ],
   "source": [
    "product_desc =[]\n",
    "\n",
    "for i in desc_tags:\n",
    "    product_desc.append(i.text)\n",
    "len(product_desc)\n",
    "product_desc[0:50]"
   ]
  },
  {
   "cell_type": "code",
   "execution_count": 146,
   "id": "186b9a9f",
   "metadata": {},
   "outputs": [
    {
     "data": {
      "text/plain": [
       "[<selenium.webdriver.remote.webelement.WebElement (session=\"dd1e8e1887a8cc6b2f08c24dcb238407\", element=\"93399756-80a8-4425-b94f-efd91dda0a8f\")>,\n",
       " <selenium.webdriver.remote.webelement.WebElement (session=\"dd1e8e1887a8cc6b2f08c24dcb238407\", element=\"f409c67e-9518-48f9-9e63-92df2888c843\")>,\n",
       " <selenium.webdriver.remote.webelement.WebElement (session=\"dd1e8e1887a8cc6b2f08c24dcb238407\", element=\"faccb8cb-9c6f-479e-8b06-4503e40cd2b7\")>,\n",
       " <selenium.webdriver.remote.webelement.WebElement (session=\"dd1e8e1887a8cc6b2f08c24dcb238407\", element=\"9085fd8d-129b-4542-a43a-b46661334069\")>,\n",
       " <selenium.webdriver.remote.webelement.WebElement (session=\"dd1e8e1887a8cc6b2f08c24dcb238407\", element=\"b3ddcb70-f28a-4b56-bc71-f6c5bc565af6\")>,\n",
       " <selenium.webdriver.remote.webelement.WebElement (session=\"dd1e8e1887a8cc6b2f08c24dcb238407\", element=\"f30c5af0-4839-4b28-87c9-45eda5ce06ce\")>,\n",
       " <selenium.webdriver.remote.webelement.WebElement (session=\"dd1e8e1887a8cc6b2f08c24dcb238407\", element=\"245fbc03-1345-4d55-b0a4-24043cdae3c3\")>,\n",
       " <selenium.webdriver.remote.webelement.WebElement (session=\"dd1e8e1887a8cc6b2f08c24dcb238407\", element=\"780d2987-b0c2-4304-ab16-7b75cfaf26ad\")>,\n",
       " <selenium.webdriver.remote.webelement.WebElement (session=\"dd1e8e1887a8cc6b2f08c24dcb238407\", element=\"e5751b56-ca3e-44a2-9870-bb13715ef83a\")>,\n",
       " <selenium.webdriver.remote.webelement.WebElement (session=\"dd1e8e1887a8cc6b2f08c24dcb238407\", element=\"aad4f939-aaaa-45ea-a236-b210a7805f8e\")>,\n",
       " <selenium.webdriver.remote.webelement.WebElement (session=\"dd1e8e1887a8cc6b2f08c24dcb238407\", element=\"247fd938-9e97-4f13-9dd2-f9b91bd5edb1\")>,\n",
       " <selenium.webdriver.remote.webelement.WebElement (session=\"dd1e8e1887a8cc6b2f08c24dcb238407\", element=\"51c3328a-4294-4a9c-bf17-707ec3ba96c9\")>,\n",
       " <selenium.webdriver.remote.webelement.WebElement (session=\"dd1e8e1887a8cc6b2f08c24dcb238407\", element=\"c7aff67d-a8c4-4da9-ba0e-c3a4492c99ea\")>,\n",
       " <selenium.webdriver.remote.webelement.WebElement (session=\"dd1e8e1887a8cc6b2f08c24dcb238407\", element=\"b45df768-219e-4cb9-8ab0-1d5df1e7fc39\")>,\n",
       " <selenium.webdriver.remote.webelement.WebElement (session=\"dd1e8e1887a8cc6b2f08c24dcb238407\", element=\"b99d6469-5863-4c2b-ac06-fc0c7200e208\")>,\n",
       " <selenium.webdriver.remote.webelement.WebElement (session=\"dd1e8e1887a8cc6b2f08c24dcb238407\", element=\"b1388d04-eaa4-4a13-b528-75c5ba4ce035\")>,\n",
       " <selenium.webdriver.remote.webelement.WebElement (session=\"dd1e8e1887a8cc6b2f08c24dcb238407\", element=\"86fc83b4-62aa-43ee-a83b-7c197f758225\")>,\n",
       " <selenium.webdriver.remote.webelement.WebElement (session=\"dd1e8e1887a8cc6b2f08c24dcb238407\", element=\"6c3ae53e-86f1-4c75-ab29-2968f0dde226\")>,\n",
       " <selenium.webdriver.remote.webelement.WebElement (session=\"dd1e8e1887a8cc6b2f08c24dcb238407\", element=\"d930108b-4a22-4c2b-a55e-f6cbb27596f7\")>,\n",
       " <selenium.webdriver.remote.webelement.WebElement (session=\"dd1e8e1887a8cc6b2f08c24dcb238407\", element=\"fe8353ba-4b6d-4a65-b74b-b33cf775e6b5\")>,\n",
       " <selenium.webdriver.remote.webelement.WebElement (session=\"dd1e8e1887a8cc6b2f08c24dcb238407\", element=\"313109d3-1602-48e8-9257-70e93c027fc8\")>,\n",
       " <selenium.webdriver.remote.webelement.WebElement (session=\"dd1e8e1887a8cc6b2f08c24dcb238407\", element=\"15539146-83f5-4ceb-a1cf-ef46f0463fc3\")>,\n",
       " <selenium.webdriver.remote.webelement.WebElement (session=\"dd1e8e1887a8cc6b2f08c24dcb238407\", element=\"e0fcda86-a09f-4bdb-817b-ce0559953b0e\")>,\n",
       " <selenium.webdriver.remote.webelement.WebElement (session=\"dd1e8e1887a8cc6b2f08c24dcb238407\", element=\"cc96fc72-d6a3-4f2b-b23f-126397285b40\")>,\n",
       " <selenium.webdriver.remote.webelement.WebElement (session=\"dd1e8e1887a8cc6b2f08c24dcb238407\", element=\"c35e8995-4f65-4087-9095-4f85bde09800\")>,\n",
       " <selenium.webdriver.remote.webelement.WebElement (session=\"dd1e8e1887a8cc6b2f08c24dcb238407\", element=\"c005aa26-7540-4334-9511-98c4a1ee126e\")>,\n",
       " <selenium.webdriver.remote.webelement.WebElement (session=\"dd1e8e1887a8cc6b2f08c24dcb238407\", element=\"f18c9cde-20b6-4ade-8709-d8c76276151d\")>,\n",
       " <selenium.webdriver.remote.webelement.WebElement (session=\"dd1e8e1887a8cc6b2f08c24dcb238407\", element=\"79ac48da-4945-488b-8c79-c327ba7967d6\")>,\n",
       " <selenium.webdriver.remote.webelement.WebElement (session=\"dd1e8e1887a8cc6b2f08c24dcb238407\", element=\"a45bddf4-dbc4-4fb4-bda1-1548a6f05e5f\")>,\n",
       " <selenium.webdriver.remote.webelement.WebElement (session=\"dd1e8e1887a8cc6b2f08c24dcb238407\", element=\"f3809098-7d20-470c-94fe-66311fd33447\")>,\n",
       " <selenium.webdriver.remote.webelement.WebElement (session=\"dd1e8e1887a8cc6b2f08c24dcb238407\", element=\"7f8c9476-15b0-4bee-9746-98060849cff7\")>,\n",
       " <selenium.webdriver.remote.webelement.WebElement (session=\"dd1e8e1887a8cc6b2f08c24dcb238407\", element=\"08876e9f-b762-4290-8e22-19033f633b52\")>,\n",
       " <selenium.webdriver.remote.webelement.WebElement (session=\"dd1e8e1887a8cc6b2f08c24dcb238407\", element=\"0f723883-72b9-4440-b197-1128d0d22bf7\")>,\n",
       " <selenium.webdriver.remote.webelement.WebElement (session=\"dd1e8e1887a8cc6b2f08c24dcb238407\", element=\"ec661e03-12e6-4ad2-a111-717428ea6d4b\")>,\n",
       " <selenium.webdriver.remote.webelement.WebElement (session=\"dd1e8e1887a8cc6b2f08c24dcb238407\", element=\"75c361b2-253d-4caa-bab2-7064ac4cf3e0\")>,\n",
       " <selenium.webdriver.remote.webelement.WebElement (session=\"dd1e8e1887a8cc6b2f08c24dcb238407\", element=\"2c6b5ee6-47d8-4f6c-80f2-1961b2a63cef\")>,\n",
       " <selenium.webdriver.remote.webelement.WebElement (session=\"dd1e8e1887a8cc6b2f08c24dcb238407\", element=\"e3d5bf1d-7590-4a32-acb3-ace15f4a2e9c\")>,\n",
       " <selenium.webdriver.remote.webelement.WebElement (session=\"dd1e8e1887a8cc6b2f08c24dcb238407\", element=\"0ff77ca3-7932-4323-b0c8-a57463737150\")>,\n",
       " <selenium.webdriver.remote.webelement.WebElement (session=\"dd1e8e1887a8cc6b2f08c24dcb238407\", element=\"eebfc471-5806-4bc9-bfc6-e829960a2bd2\")>,\n",
       " <selenium.webdriver.remote.webelement.WebElement (session=\"dd1e8e1887a8cc6b2f08c24dcb238407\", element=\"5885284a-99e5-4427-a772-d2b9bc875e82\")>,\n",
       " <selenium.webdriver.remote.webelement.WebElement (session=\"dd1e8e1887a8cc6b2f08c24dcb238407\", element=\"8f5f8a5d-d063-4604-88a6-b933d6ee248e\")>,\n",
       " <selenium.webdriver.remote.webelement.WebElement (session=\"dd1e8e1887a8cc6b2f08c24dcb238407\", element=\"d928e175-aceb-4e9a-8915-bb01414e091e\")>,\n",
       " <selenium.webdriver.remote.webelement.WebElement (session=\"dd1e8e1887a8cc6b2f08c24dcb238407\", element=\"0d070032-259f-46d6-8080-31e834da5db3\")>,\n",
       " <selenium.webdriver.remote.webelement.WebElement (session=\"dd1e8e1887a8cc6b2f08c24dcb238407\", element=\"ae4df719-f851-4cb7-a4cd-acb0656be97c\")>,\n",
       " <selenium.webdriver.remote.webelement.WebElement (session=\"dd1e8e1887a8cc6b2f08c24dcb238407\", element=\"3d1d7bda-a51a-4ebb-8553-2a06cc0b9b78\")>,\n",
       " <selenium.webdriver.remote.webelement.WebElement (session=\"dd1e8e1887a8cc6b2f08c24dcb238407\", element=\"6270288f-29e7-4aca-ab8e-ebd67c31c262\")>,\n",
       " <selenium.webdriver.remote.webelement.WebElement (session=\"dd1e8e1887a8cc6b2f08c24dcb238407\", element=\"60570b8f-82bf-4d57-8053-b455ec2e87f9\")>,\n",
       " <selenium.webdriver.remote.webelement.WebElement (session=\"dd1e8e1887a8cc6b2f08c24dcb238407\", element=\"1b625069-fc17-4a0c-9505-08e0fb468a1a\")>,\n",
       " <selenium.webdriver.remote.webelement.WebElement (session=\"dd1e8e1887a8cc6b2f08c24dcb238407\", element=\"490627e8-5d6a-4c48-a6cd-803b16a54010\")>,\n",
       " <selenium.webdriver.remote.webelement.WebElement (session=\"dd1e8e1887a8cc6b2f08c24dcb238407\", element=\"7e52716d-7733-4e8d-b0e5-b78585d5eada\")>]"
      ]
     },
     "execution_count": 146,
     "metadata": {},
     "output_type": "execute_result"
    }
   ],
   "source": [
    "price_tags = driver.find_elements_by_xpath('//div[@class=\"product-price\"]')\n",
    "len(price_tags)\n",
    "price_tags[0:50]"
   ]
  },
  {
   "cell_type": "code",
   "execution_count": 147,
   "id": "1131b7a5",
   "metadata": {},
   "outputs": [
    {
     "data": {
      "text/plain": [
       "['Rs. 7990',\n",
       " 'Rs. 7990',\n",
       " 'Rs. 7999',\n",
       " 'Rs. 8299',\n",
       " 'Rs. 7999',\n",
       " 'Rs. 7380Rs. 8200(10% OFF)',\n",
       " 'Rs. 8999',\n",
       " 'Rs. 8999Rs. 9999(Rs. 1000 OFF)',\n",
       " 'Rs. 7799Rs. 12999(40% OFF)',\n",
       " 'Rs. 7999',\n",
       " 'Rs. 9999',\n",
       " 'Rs. 11999',\n",
       " 'Rs. 8990',\n",
       " 'Rs. 7216Rs. 8200(12% OFF)',\n",
       " 'Rs. 7999',\n",
       " 'Rs. 7699',\n",
       " 'Rs. 10990',\n",
       " 'Rs. 11999',\n",
       " 'Rs. 12999',\n",
       " 'Rs. 8999',\n",
       " 'Rs. 9999',\n",
       " 'Rs. 13999',\n",
       " 'Rs. 14025Rs. 16500(15% OFF)',\n",
       " 'Rs. 12325Rs. 14500(15% OFF)',\n",
       " 'Rs. 11815Rs. 13900(15% OFF)',\n",
       " 'Rs. 8500',\n",
       " 'Rs. 7690',\n",
       " 'Rs. 9999',\n",
       " 'Rs. 7490',\n",
       " 'Rs. 7490',\n",
       " 'Rs. 7195Rs. 7995(10% OFF)',\n",
       " 'Rs. 7499',\n",
       " 'Rs. 12665Rs. 14900(15% OFF)',\n",
       " 'Rs. 14025Rs. 16500(15% OFF)',\n",
       " 'Rs. 9900',\n",
       " 'Rs. 8415Rs. 9900(15% OFF)',\n",
       " 'Rs. 9810Rs. 10900(10% OFF)',\n",
       " 'Rs. 12510Rs. 13900(10% OFF)',\n",
       " 'Rs. 9990',\n",
       " 'Rs. 8990',\n",
       " 'Rs. 8990',\n",
       " 'Rs. 8925Rs. 10500(15% OFF)',\n",
       " 'Rs. 11475Rs. 13500(15% OFF)',\n",
       " 'Rs. 8990',\n",
       " 'Rs. 8925Rs. 10500(15% OFF)',\n",
       " 'Rs. 10625Rs. 12500(15% OFF)',\n",
       " 'Rs. 7869Rs. 12900(39% OFF)',\n",
       " 'Rs. 12093Rs. 13900(13% OFF)',\n",
       " 'Rs. 9810Rs. 10900(10% OFF)',\n",
       " 'Rs. 8925Rs. 10500(15% OFF)']"
      ]
     },
     "execution_count": 147,
     "metadata": {},
     "output_type": "execute_result"
    }
   ],
   "source": [
    "rate_tag = []\n",
    "for i in price_tags:\n",
    "    rate_tag.append(i.text)\n",
    "len(rate_tag)\n",
    "rate_tag[0:50]"
   ]
  },
  {
   "cell_type": "code",
   "execution_count": 148,
   "id": "171fb877",
   "metadata": {},
   "outputs": [],
   "source": [
    "url ='https://www.amazon.in/s?k=laptop&i=computers&rh=n%3A1375424031%2Cp_n_feature_thirteen_browse-bin%3A12598163031&dc&crid=36HAY9K42LH7J&qid=1647545094&rnid=12598141031&sprefix=lap%2Caps%2C482&ref=sr_nr_p_n_feature_thirteen_browse-bin_11'\n",
    "driver.get(url)"
   ]
  },
  {
   "cell_type": "code",
   "execution_count": 149,
   "id": "3f248cd5",
   "metadata": {},
   "outputs": [
    {
     "data": {
      "text/plain": [
       "[<selenium.webdriver.remote.webelement.WebElement (session=\"dd1e8e1887a8cc6b2f08c24dcb238407\", element=\"ea865ab1-5322-4a2e-8dcb-78ab2995cc02\")>,\n",
       " <selenium.webdriver.remote.webelement.WebElement (session=\"dd1e8e1887a8cc6b2f08c24dcb238407\", element=\"d3d1d2d8-1b6d-4f41-8da3-bc5fcbea9c27\")>,\n",
       " <selenium.webdriver.remote.webelement.WebElement (session=\"dd1e8e1887a8cc6b2f08c24dcb238407\", element=\"464f751c-0a3a-4a92-9f9b-51ca1c4baf83\")>,\n",
       " <selenium.webdriver.remote.webelement.WebElement (session=\"dd1e8e1887a8cc6b2f08c24dcb238407\", element=\"34b07dd8-9f5f-412c-a239-179d3871d031\")>,\n",
       " <selenium.webdriver.remote.webelement.WebElement (session=\"dd1e8e1887a8cc6b2f08c24dcb238407\", element=\"3cbbeac2-2821-4da9-8a15-33030297c06c\")>,\n",
       " <selenium.webdriver.remote.webelement.WebElement (session=\"dd1e8e1887a8cc6b2f08c24dcb238407\", element=\"b7f90051-4af3-4da5-8c97-be394da3898e\")>,\n",
       " <selenium.webdriver.remote.webelement.WebElement (session=\"dd1e8e1887a8cc6b2f08c24dcb238407\", element=\"785d447b-7a9f-4257-b6bb-d3abd6b9338a\")>,\n",
       " <selenium.webdriver.remote.webelement.WebElement (session=\"dd1e8e1887a8cc6b2f08c24dcb238407\", element=\"692cd1f3-073b-47c8-96e9-5589ab41da85\")>,\n",
       " <selenium.webdriver.remote.webelement.WebElement (session=\"dd1e8e1887a8cc6b2f08c24dcb238407\", element=\"56ac59c7-21ac-4202-87c3-6a7dcbc05a28\")>,\n",
       " <selenium.webdriver.remote.webelement.WebElement (session=\"dd1e8e1887a8cc6b2f08c24dcb238407\", element=\"4d68ef61-5871-4559-9606-7eed2a33dfa3\")>]"
      ]
     },
     "execution_count": 149,
     "metadata": {},
     "output_type": "execute_result"
    }
   ],
   "source": [
    "title_tags = driver.find_elements_by_xpath('//span[@class=\"a-size-medium a-color-base a-text-normal\"]')\n",
    "len(title_tags)\n",
    "title_tags[0:10]"
   ]
  },
  {
   "cell_type": "code",
   "execution_count": 150,
   "id": "230dbb4b",
   "metadata": {},
   "outputs": [
    {
     "data": {
      "text/plain": [
       "['LG Gram 16 Ultra-Light Intel Evo 11th Gen Core i7 16 inches Laptop (16 GB RAM, 512 GB SSD, Windows 10 Home, Iris Xe Graphics, Thunderbolt 4, USC -C x 2 (with Power), 1.19 kg, 16Z90P, Black)',\n",
       " 'LG Gram Intel Evo 11th Gen Core i7 17 inches Ultra-Light Laptop (16 GB RAM, 512 GB SSD, New Windows 11 Home Preload, Iris Xe Graphics, USC -C x 2 (with Power), 1.35 kg, 17Z90P-G.AH85A2, Black)',\n",
       " 'ASUS VivoBook 14 (2021), 14-inch (35.56 cms) FHD, Intel Core i7-1065G7 10th Gen, Thin and Light Laptop (16GB/512GB SSD/Integrated Graphics/Office 2021/Windows 11/Silver/1.6 Kg), X415JA-EK701WS',\n",
       " 'Mi Notebook Ultra 3.2K Resolution Display Intel Core i7-11370H 11th Gen 15.6-inch(39.62 cm) Thin and Light Laptop (16GB/512GB SSD/Iris Xe Graphic/Win 10/MS Office/Backlit KB/Fingerprint Sensor/1.7Kg)',\n",
       " 'LG Gram 16 inches Intel Evo 11th Gen Core i7 Ultra-Light Laptop (16 GB RAM, 512 GB SSD, New Windows 11 Home Preload, Iris Xe Graphics, USC -C x 2 (with Power), 1.19 kg, 16Z90P-G.AH85A2, Black)',\n",
       " 'Lenovo ThinkBook 13s Intel 11th Gen Core i7 13.3\"(33.78 cm) WQXGA IPS 300 nits 100% sRGB Dolby Vision Thin and Light Laptop (16GB/512GB SSD/Windows 10/MS Office/FPR/Mineral Grey/1.26 Kg), 20V9A05FIH',\n",
       " 'LG Gram Intel Evo 11th Gen Core i7 17 inches Ultra-Light Laptop (16 GB RAM, 512 GB SSD, New Windows 11 Home Preload, Iris Xe Graphics, USC -C x 2 (with Power), 1.35 kg, 17Z90P-G.AH85A2, Black)',\n",
       " 'Lenovo ThinkBook 15 Intel 11th Gen Core i7 15.6\"(39.62 cm)FHD Thin and Light Laptop (16GB/512GB SSD/Windows 11 Home/MS Office H&S 2021/Iris® Xe Graphics/Backlit/Mineral Grey/1.7 Kg) 20VE00W4IH',\n",
       " 'Acer Predator Helios 300 11th Gen Intel Core i9-11900H 15.6 inches FHD IPS Gaming Laptop (32GB/1TB SSD/Windows 11 Home/8GB Graphics/NVIDIA GeForce RTX 3070/300 Hz, Black, 2.3Kg) PH315-54',\n",
       " 'ASUS TUF Gaming F15 (2021), 15.6\" (39.62 cms) FHD 144Hz, Intel Core i7-11600H 11th Gen, 4GB RTX 3050 Graphics, Gaming Laptop (16GB/512GB SSD/Windows 10/Office 2019/Gray/2.3 Kg), FX566HCB-HN299TS']"
      ]
     },
     "execution_count": 150,
     "metadata": {},
     "output_type": "execute_result"
    }
   ],
   "source": [
    "product_titles =[]\n",
    "\n",
    "for i in title_tags:\n",
    "    product_titles.append(i.text)\n",
    "len(product_titles)\n",
    "product_titles[0:10]"
   ]
  },
  {
   "cell_type": "code",
   "execution_count": 151,
   "id": "586279ba",
   "metadata": {},
   "outputs": [
    {
     "data": {
      "text/plain": [
       "[<selenium.webdriver.remote.webelement.WebElement (session=\"dd1e8e1887a8cc6b2f08c24dcb238407\", element=\"04608feb-3a38-4ba6-a6ab-2060bb883b3d\")>,\n",
       " <selenium.webdriver.remote.webelement.WebElement (session=\"dd1e8e1887a8cc6b2f08c24dcb238407\", element=\"a31b575c-44a5-4b19-bada-6de5f085b786\")>,\n",
       " <selenium.webdriver.remote.webelement.WebElement (session=\"dd1e8e1887a8cc6b2f08c24dcb238407\", element=\"a4ab90bb-f759-471b-a5ed-6e880e3b54a5\")>,\n",
       " <selenium.webdriver.remote.webelement.WebElement (session=\"dd1e8e1887a8cc6b2f08c24dcb238407\", element=\"ba8e5881-1866-4a1c-8b84-72f1a52adebc\")>,\n",
       " <selenium.webdriver.remote.webelement.WebElement (session=\"dd1e8e1887a8cc6b2f08c24dcb238407\", element=\"e68e01b1-c733-4a77-9dc0-af09ee121405\")>,\n",
       " <selenium.webdriver.remote.webelement.WebElement (session=\"dd1e8e1887a8cc6b2f08c24dcb238407\", element=\"28bd2ed3-95e2-4695-b288-0ddf8024742e\")>,\n",
       " <selenium.webdriver.remote.webelement.WebElement (session=\"dd1e8e1887a8cc6b2f08c24dcb238407\", element=\"c0c9e670-0a7c-4a58-ada4-7e80e783e228\")>,\n",
       " <selenium.webdriver.remote.webelement.WebElement (session=\"dd1e8e1887a8cc6b2f08c24dcb238407\", element=\"a3f638e6-4cb9-401d-97d6-4b3db29af5da\")>,\n",
       " <selenium.webdriver.remote.webelement.WebElement (session=\"dd1e8e1887a8cc6b2f08c24dcb238407\", element=\"14724432-d081-4cd5-a326-8a5077fdd363\")>,\n",
       " <selenium.webdriver.remote.webelement.WebElement (session=\"dd1e8e1887a8cc6b2f08c24dcb238407\", element=\"432d3f34-5857-48cd-8078-4c548c36be48\")>]"
      ]
     },
     "execution_count": 151,
     "metadata": {},
     "output_type": "execute_result"
    }
   ],
   "source": [
    "price_tags = driver.find_elements_by_xpath('//span[@class=\"a-price-whole\"]')\n",
    "len(price_tags)\n",
    "price_tags[0:10]"
   ]
  },
  {
   "cell_type": "code",
   "execution_count": 152,
   "id": "1fb11852",
   "metadata": {},
   "outputs": [
    {
     "data": {
      "text/plain": [
       "['86,799',\n",
       " '96,999',\n",
       " '57,990',\n",
       " '77,999',\n",
       " '89,999',\n",
       " '89,990',\n",
       " '96,999',\n",
       " '90,990',\n",
       " '1,69,990',\n",
       " '89,990']"
      ]
     },
     "execution_count": 152,
     "metadata": {},
     "output_type": "execute_result"
    }
   ],
   "source": [
    "rate_tag = []\n",
    "for i in price_tags:\n",
    "    rate_tag.append(i.text)\n",
    "len(rate_tag)\n",
    "rate_tag[0:10]"
   ]
  },
  {
   "cell_type": "code",
   "execution_count": 153,
   "id": "fdf8736b",
   "metadata": {},
   "outputs": [
    {
     "data": {
      "text/plain": [
       "[<selenium.webdriver.remote.webelement.WebElement (session=\"dd1e8e1887a8cc6b2f08c24dcb238407\", element=\"edab5cae-4e65-400e-8e77-be2cba8ee2b6\")>,\n",
       " <selenium.webdriver.remote.webelement.WebElement (session=\"dd1e8e1887a8cc6b2f08c24dcb238407\", element=\"cfa931a6-5534-4f78-87a0-4269b991e9a7\")>,\n",
       " <selenium.webdriver.remote.webelement.WebElement (session=\"dd1e8e1887a8cc6b2f08c24dcb238407\", element=\"4c8adddb-c181-4435-b2f2-192db88b393b\")>,\n",
       " <selenium.webdriver.remote.webelement.WebElement (session=\"dd1e8e1887a8cc6b2f08c24dcb238407\", element=\"32640aae-a632-41b9-9b56-d8d8dde0c891\")>,\n",
       " <selenium.webdriver.remote.webelement.WebElement (session=\"dd1e8e1887a8cc6b2f08c24dcb238407\", element=\"2e463fb3-93fc-402e-a911-8e5d4497b1c3\")>,\n",
       " <selenium.webdriver.remote.webelement.WebElement (session=\"dd1e8e1887a8cc6b2f08c24dcb238407\", element=\"2c777a3f-6932-46a4-b28f-1361d6c70f4d\")>,\n",
       " <selenium.webdriver.remote.webelement.WebElement (session=\"dd1e8e1887a8cc6b2f08c24dcb238407\", element=\"069dea1f-19eb-45a8-93c4-c0a019262fd1\")>,\n",
       " <selenium.webdriver.remote.webelement.WebElement (session=\"dd1e8e1887a8cc6b2f08c24dcb238407\", element=\"4939104c-0b49-46ff-bd41-e80514ffe78e\")>,\n",
       " <selenium.webdriver.remote.webelement.WebElement (session=\"dd1e8e1887a8cc6b2f08c24dcb238407\", element=\"49ac4eb9-4520-4774-90aa-22a84e9dc492\")>,\n",
       " <selenium.webdriver.remote.webelement.WebElement (session=\"dd1e8e1887a8cc6b2f08c24dcb238407\", element=\"e3798b83-ac0b-4b18-9e92-df11198a7d04\")>]"
      ]
     },
     "execution_count": 153,
     "metadata": {},
     "output_type": "execute_result"
    }
   ],
   "source": [
    "rating_tags = driver.find_elements_by_xpath('//a[@class=\"a-icon-alt\"]')\n",
    "len(desc_tags)\n",
    "desc_tags[0:10]"
   ]
  },
  {
   "cell_type": "code",
   "execution_count": 154,
   "id": "f615669a",
   "metadata": {},
   "outputs": [
    {
     "data": {
      "text/plain": [
       "[]"
      ]
     },
     "execution_count": 154,
     "metadata": {},
     "output_type": "execute_result"
    }
   ],
   "source": [
    "rating_desc =[]\n",
    "\n",
    "for i in rating_tags:\n",
    "    rating_desc.append(i.text)\n",
    "len(rating_desc)\n",
    "rating_desc[0:10]"
   ]
  },
  {
   "cell_type": "code",
   "execution_count": 155,
   "id": "64b96605",
   "metadata": {},
   "outputs": [],
   "source": [
    "url = 'https://www.amazon.in/s?k=laptop&i=computers&rh=n%3A1375424031%2Cp_n_feature_thirteen_browse-bin%3A16757432031&dc&crid=36HAY9K42LH7J&qid=1647545540&rnid=12598141031&sprefix=lap%2Caps%2C482&ref=sr_nr_p_n_feature_thirteen_browse-bin_12'\n",
    "driver.get(url)"
   ]
  },
  {
   "cell_type": "code",
   "execution_count": 156,
   "id": "2788e3fe",
   "metadata": {},
   "outputs": [
    {
     "data": {
      "text/plain": [
       "[<selenium.webdriver.remote.webelement.WebElement (session=\"dd1e8e1887a8cc6b2f08c24dcb238407\", element=\"5189f258-ce35-4f52-9045-66835a6eef2a\")>,\n",
       " <selenium.webdriver.remote.webelement.WebElement (session=\"dd1e8e1887a8cc6b2f08c24dcb238407\", element=\"1d2b2308-d282-4941-9048-6409b6027de9\")>,\n",
       " <selenium.webdriver.remote.webelement.WebElement (session=\"dd1e8e1887a8cc6b2f08c24dcb238407\", element=\"c3ead802-dcee-4124-b9c5-2dd9feea8e87\")>,\n",
       " <selenium.webdriver.remote.webelement.WebElement (session=\"dd1e8e1887a8cc6b2f08c24dcb238407\", element=\"5a6f365c-b918-4fce-a041-1ae3d2387852\")>,\n",
       " <selenium.webdriver.remote.webelement.WebElement (session=\"dd1e8e1887a8cc6b2f08c24dcb238407\", element=\"006862ed-9a02-4b27-8aa0-3be19afd1c63\")>,\n",
       " <selenium.webdriver.remote.webelement.WebElement (session=\"dd1e8e1887a8cc6b2f08c24dcb238407\", element=\"5f767197-5234-4ec6-b676-fe4210cee9e6\")>,\n",
       " <selenium.webdriver.remote.webelement.WebElement (session=\"dd1e8e1887a8cc6b2f08c24dcb238407\", element=\"95a30ca0-b173-4fe1-93c8-c9a4c2255d14\")>,\n",
       " <selenium.webdriver.remote.webelement.WebElement (session=\"dd1e8e1887a8cc6b2f08c24dcb238407\", element=\"707c2efd-c2bf-4e93-9e3f-53ec19e66b8d\")>,\n",
       " <selenium.webdriver.remote.webelement.WebElement (session=\"dd1e8e1887a8cc6b2f08c24dcb238407\", element=\"559c6932-f8ea-4790-9a25-0cc71b5ee02a\")>,\n",
       " <selenium.webdriver.remote.webelement.WebElement (session=\"dd1e8e1887a8cc6b2f08c24dcb238407\", element=\"096d0701-b7e1-42a3-8c2a-941849fc8f86\")>]"
      ]
     },
     "execution_count": 156,
     "metadata": {},
     "output_type": "execute_result"
    }
   ],
   "source": [
    "title_tags = driver.find_elements_by_xpath('//span[@class=\"a-size-medium a-color-base a-text-normal\"]')\n",
    "len(title_tags)\n",
    "title_tags[0:10]"
   ]
  },
  {
   "cell_type": "code",
   "execution_count": 157,
   "id": "6a1b5301",
   "metadata": {},
   "outputs": [
    {
     "data": {
      "text/plain": [
       "['ASUS TUF Gaming F15 (2021), 15.6\" (39.62 cms) FHD 240Hz, Intel Core i9-11900H 11th Gen, GeForce RTX 3060 6GB Graphics, Gaming Laptop(16GB/1TB SSD/Office 2019/Windows 10/Gray/2.3 Kg), FX566HM-AZ096TS',\n",
       " 'ASUS ROG Strix Scar 15 (2022), 15.6-inch (39.62 cms) 2K WQHD 240Hz/3ms, Core i9-12900H 12th Gen, RTX 3070 Ti 8GB Graphics, Gaming Laptop (32GB/2TB SSD/Win 11/Office 2021/Black/2.3 Kg), G533ZW-LN106WS',\n",
       " 'ASUS TUF Gaming F15 (2021), 15.6-inch (39.62 cms) FHD 240Hz/3ms, Intel Core i9-11900H 11th Gen, RTX 3060 6GB Graphics Gaming Laptop (16GB/1TB SSD/Office 2019/Windows 10/Black/2.3 kg), FX506HM-AZ099TS',\n",
       " 'ASUS ROG Strix Scar 17 (2022), 17.3-inch (43.94 cms) 2K WQHD 240Hz/3ms, Core i9-12900H 12th Gen, RTX 3070 Ti 8GB Graphics, Gaming Laptop (32GB/2TB SSD/Win 11/Office 2021/Black/2.9 Kg), G733ZW-LL105WS',\n",
       " 'ASUS ROG Strix SCAR 15 (2022), 15.6-inch (39.62 cms) 2K WQHD 240Hz/3ms, Core i9-12900H 12th Gen, RTX 3080 Ti 16GB Graphics, Gaming Laptop (32GB/1TB SSD/Win 11/Office 2021/Black/2.3 Kg), G533ZX-LN024WS',\n",
       " 'HP ZBOOK Power G8/ Intel core i9-11900H 8 Core/32GB DDR4 3200 RAM/1TB PCIe NVMe TLC SSD /15.6” FHD /Nvidia Quadro T1200 Dedicated Graphics 4GB DDR6 /Windows 10 Pro / 3 Year Warranty',\n",
       " '(Renewed) HP Omen 15-dh0139TX Gaming Laptop (9th Gen i9-9880H/16GB/1TB HDD + 512GB SSD/Win 10/8GB NVIDIA RTX 2080 Graphics) & Z3700 Wireless Mouse',\n",
       " 'ASUS TUF Gaming F15 (2021), 15.6-inch (39.62 cms) FHD 144Hz, Intel Core i9-11900H 11th Gen, RTX 3060 6GB Graphics Gaming Laptop (16GB RAM/1TB SSD/Office 2019/Windows 10/Gray/2.3 kg), FX566HM-HN097TS',\n",
       " 'HP ZBook Power G8/ Intel Core i9-11950H 2.5GHz 8 Core/64GB DDR4/ 2TB PCIe NVMe SSD /15.6” FHD/Nvidia Quadro RTX A2000 Graphics 4GB DDR6/ 1RJ45/ Windows 10 Pro/ 3 Year Warranty from HP',\n",
       " '(Renewed) Dell G7 7500 15.6inch FHD 300 Hz Display Gaming Laptop (10th Gen i9-10885H / 16 GB / 1TB SSD / NVIDIA RTX 2070 8GB Graphics / 1Yr Premium Warranty / Win 10 + MS Office H&S 2019) D560233WIN9B, Black']"
      ]
     },
     "execution_count": 157,
     "metadata": {},
     "output_type": "execute_result"
    }
   ],
   "source": [
    "product_titles =[]\n",
    "\n",
    "for i in title_tags:\n",
    "    product_titles.append(i.text)\n",
    "len(product_titles)\n",
    "product_titles[0:10]"
   ]
  },
  {
   "cell_type": "code",
   "execution_count": 158,
   "id": "5cf724ed",
   "metadata": {},
   "outputs": [
    {
     "data": {
      "text/plain": [
       "[<selenium.webdriver.remote.webelement.WebElement (session=\"dd1e8e1887a8cc6b2f08c24dcb238407\", element=\"9e8969de-f9cd-480a-af4e-4c099ed63c6a\")>,\n",
       " <selenium.webdriver.remote.webelement.WebElement (session=\"dd1e8e1887a8cc6b2f08c24dcb238407\", element=\"7ca41bc0-d7d5-43a7-af8b-0a77907cabf1\")>,\n",
       " <selenium.webdriver.remote.webelement.WebElement (session=\"dd1e8e1887a8cc6b2f08c24dcb238407\", element=\"fc292b1a-8eed-482c-ab6f-ea96039a4477\")>,\n",
       " <selenium.webdriver.remote.webelement.WebElement (session=\"dd1e8e1887a8cc6b2f08c24dcb238407\", element=\"e0729aa0-8e95-4137-aa1b-ffec0e493aff\")>,\n",
       " <selenium.webdriver.remote.webelement.WebElement (session=\"dd1e8e1887a8cc6b2f08c24dcb238407\", element=\"b3130dce-522f-43e6-bb2f-e3a165b3c089\")>,\n",
       " <selenium.webdriver.remote.webelement.WebElement (session=\"dd1e8e1887a8cc6b2f08c24dcb238407\", element=\"ef682e4a-c542-4dd2-b774-86922e823fed\")>,\n",
       " <selenium.webdriver.remote.webelement.WebElement (session=\"dd1e8e1887a8cc6b2f08c24dcb238407\", element=\"2b62af90-2dde-464c-942c-2762cd45d421\")>,\n",
       " <selenium.webdriver.remote.webelement.WebElement (session=\"dd1e8e1887a8cc6b2f08c24dcb238407\", element=\"f551c4b5-e710-4675-ae19-c57e0bcaa752\")>,\n",
       " <selenium.webdriver.remote.webelement.WebElement (session=\"dd1e8e1887a8cc6b2f08c24dcb238407\", element=\"e39378f0-b71c-4534-be69-4b97a2818760\")>,\n",
       " <selenium.webdriver.remote.webelement.WebElement (session=\"dd1e8e1887a8cc6b2f08c24dcb238407\", element=\"018c07d2-8cf6-46cc-91c4-09b576e54f6b\")>]"
      ]
     },
     "execution_count": 158,
     "metadata": {},
     "output_type": "execute_result"
    }
   ],
   "source": [
    "price_tags = driver.find_elements_by_xpath('//span[@class=\"a-price-whole\"]')\n",
    "len(price_tags)\n",
    "price_tags[0:10]"
   ]
  },
  {
   "cell_type": "code",
   "execution_count": 159,
   "id": "cfd04136",
   "metadata": {},
   "outputs": [
    {
     "data": {
      "text/plain": [
       "['1,54,850',\n",
       " '2,64,990',\n",
       " '1,43,990',\n",
       " '2,68,965',\n",
       " '2,99,990',\n",
       " '2,32,000',\n",
       " '1,38,000',\n",
       " '1,48,990',\n",
       " '2,93,000',\n",
       " '1,72,000']"
      ]
     },
     "execution_count": 159,
     "metadata": {},
     "output_type": "execute_result"
    }
   ],
   "source": [
    "rate_tag = []\n",
    "for i in price_tags:\n",
    "    rate_tag.append(i.text)\n",
    "len(rate_tag)\n",
    "rate_tag[0:10]"
   ]
  },
  {
   "cell_type": "code",
   "execution_count": 160,
   "id": "5d7918b9",
   "metadata": {},
   "outputs": [
    {
     "data": {
      "text/plain": [
       "[<selenium.webdriver.remote.webelement.WebElement (session=\"dd1e8e1887a8cc6b2f08c24dcb238407\", element=\"fa2bbf04-4054-4487-adf9-75ac329da37a\")>,\n",
       " <selenium.webdriver.remote.webelement.WebElement (session=\"dd1e8e1887a8cc6b2f08c24dcb238407\", element=\"3d34fd1b-0285-428f-8443-a1aba9f6bf55\")>]"
      ]
     },
     "execution_count": 160,
     "metadata": {},
     "output_type": "execute_result"
    }
   ],
   "source": [
    "price_tags = driver.find_elements_by_xpath('//i[@class=\"a-icon a-icon-star-small a-star-small-4-5 aok-align-bottom\"]')\n",
    "len(price_tags)\n",
    "price_tags[0:10]"
   ]
  },
  {
   "cell_type": "code",
   "execution_count": 161,
   "id": "6ba9349c",
   "metadata": {},
   "outputs": [
    {
     "data": {
      "text/plain": [
       "[]"
      ]
     },
     "execution_count": 161,
     "metadata": {},
     "output_type": "execute_result"
    }
   ],
   "source": [
    "rating_desc =[]\n",
    "\n",
    "for i in rating_tags:\n",
    "    rating_desc.append(i.text)\n",
    "len(rating_desc)\n",
    "rating_desc[0:10]"
   ]
  },
  {
   "cell_type": "code",
   "execution_count": 181,
   "id": "83ca2750",
   "metadata": {},
   "outputs": [],
   "source": [
    "url = 'http://www.ambitionbox.com/'\n",
    "driver.get(url)"
   ]
  },
  {
   "cell_type": "code",
   "execution_count": 204,
   "id": "a55a7eb2",
   "metadata": {},
   "outputs": [
    {
     "data": {
      "text/plain": [
       "[]"
      ]
     },
     "execution_count": 204,
     "metadata": {},
     "output_type": "execute_result"
    }
   ],
   "source": [
    "title_tags = driver.find_elements_by_xpath('/html/body/div/div/div/div[2]/div[2]/div[2]/div[2]/div/div[1]/div[2]/div[2]')\n",
    "len(title_tags)\n",
    "title_tags[0:10]"
   ]
  },
  {
   "cell_type": "code",
   "execution_count": 198,
   "id": "00c7fa4a",
   "metadata": {},
   "outputs": [
    {
     "data": {
      "text/plain": [
       "[]"
      ]
     },
     "execution_count": 198,
     "metadata": {},
     "output_type": "execute_result"
    }
   ],
   "source": [
    "job_titles =[]\n",
    "\n",
    "for i in title_tags:\n",
    "    job_titles.append(i.text)\n",
    "len(job_titles)\n",
    "job_titles[0:9]"
   ]
  },
  {
   "cell_type": "code",
   "execution_count": 200,
   "id": "bb9560f0",
   "metadata": {},
   "outputs": [
    {
     "data": {
      "text/html": [
       "<div>\n",
       "<style scoped>\n",
       "    .dataframe tbody tr th:only-of-type {\n",
       "        vertical-align: middle;\n",
       "    }\n",
       "\n",
       "    .dataframe tbody tr th {\n",
       "        vertical-align: top;\n",
       "    }\n",
       "\n",
       "    .dataframe thead th {\n",
       "        text-align: right;\n",
       "    }\n",
       "</style>\n",
       "<table border=\"1\" class=\"dataframe\">\n",
       "  <thead>\n",
       "    <tr style=\"text-align: right;\">\n",
       "      <th></th>\n",
       "      <th>Job Title</th>\n",
       "    </tr>\n",
       "  </thead>\n",
       "  <tbody>\n",
       "  </tbody>\n",
       "</table>\n",
       "</div>"
      ],
      "text/plain": [
       "Empty DataFrame\n",
       "Columns: [Job Title]\n",
       "Index: []"
      ]
     },
     "execution_count": 200,
     "metadata": {},
     "output_type": "execute_result"
    }
   ],
   "source": [
    "jobs = pd.DataFrame()\n",
    "jobs['Job Title']=job_titles\n",
    "jobs[0:10]"
   ]
  },
  {
   "cell_type": "code",
   "execution_count": 185,
   "id": "b8af0167",
   "metadata": {},
   "outputs": [],
   "source": []
  },
  {
   "cell_type": "code",
   "execution_count": null,
   "id": "e0b257e4",
   "metadata": {},
   "outputs": [],
   "source": []
  },
  {
   "cell_type": "code",
   "execution_count": null,
   "id": "a164de67",
   "metadata": {},
   "outputs": [],
   "source": []
  },
  {
   "cell_type": "code",
   "execution_count": null,
   "id": "b9400b16",
   "metadata": {},
   "outputs": [],
   "source": []
  }
 ],
 "metadata": {
  "kernelspec": {
   "display_name": "Python 3",
   "language": "python",
   "name": "python3"
  },
  "language_info": {
   "codemirror_mode": {
    "name": "ipython",
    "version": 3
   },
   "file_extension": ".py",
   "mimetype": "text/x-python",
   "name": "python",
   "nbconvert_exporter": "python",
   "pygments_lexer": "ipython3",
   "version": "3.8.8"
  }
 },
 "nbformat": 4,
 "nbformat_minor": 5
}
